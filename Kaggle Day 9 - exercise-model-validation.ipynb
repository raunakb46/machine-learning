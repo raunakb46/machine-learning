{
 "cells": [
  {
   "cell_type": "markdown",
   "id": "01af0a9f",
   "metadata": {
    "papermill": {
     "duration": 0.015093,
     "end_time": "2021-08-11T11:41:17.580348",
     "exception": false,
     "start_time": "2021-08-11T11:41:17.565255",
     "status": "completed"
    },
    "tags": []
   },
   "source": [
    "**This notebook is an exercise in the [Introduction to Machine Learning](https://www.kaggle.com/learn/intro-to-machine-learning) course.  You can reference the tutorial at [this link](https://www.kaggle.com/dansbecker/model-validation).**\n",
    "\n",
    "---\n"
   ]
  },
  {
   "cell_type": "markdown",
   "id": "c4f9d7e3",
   "metadata": {
    "papermill": {
     "duration": 0.013609,
     "end_time": "2021-08-11T11:41:17.607662",
     "exception": false,
     "start_time": "2021-08-11T11:41:17.594053",
     "status": "completed"
    },
    "tags": []
   },
   "source": [
    "## Recap\n",
    "You've built a model. In this exercise you will test how good your model is.\n",
    "\n",
    "Run the cell below to set up your coding environment where the previous exercise left off."
   ]
  },
  {
   "cell_type": "code",
   "execution_count": 1,
   "id": "cf9d5391",
   "metadata": {
    "execution": {
     "iopub.execute_input": "2021-08-11T11:41:17.638432Z",
     "iopub.status.busy": "2021-08-11T11:41:17.637261Z",
     "iopub.status.idle": "2021-08-11T11:41:19.052786Z",
     "shell.execute_reply": "2021-08-11T11:41:19.052138Z",
     "shell.execute_reply.started": "2021-08-11T11:33:47.730745Z"
    },
    "papermill": {
     "duration": 1.432249,
     "end_time": "2021-08-11T11:41:19.052959",
     "exception": false,
     "start_time": "2021-08-11T11:41:17.620710",
     "status": "completed"
    },
    "tags": []
   },
   "outputs": [
    {
     "name": "stdout",
     "output_type": "stream",
     "text": [
      "First in-sample predictions: [208500. 181500. 223500. 140000. 250000.]\n",
      "Actual target values for those homes: [208500, 181500, 223500, 140000, 250000]\n",
      "Setup Complete\n"
     ]
    }
   ],
   "source": [
    "# Code you have previously used to load data\n",
    "import pandas as pd\n",
    "from sklearn.tree import DecisionTreeRegressor\n",
    "\n",
    "# Path of the file to read\n",
    "iowa_file_path = '../input/home-data-for-ml-course/train.csv'\n",
    "\n",
    "home_data = pd.read_csv(iowa_file_path)\n",
    "y = home_data.SalePrice\n",
    "feature_columns = ['LotArea', 'YearBuilt', '1stFlrSF', '2ndFlrSF', 'FullBath', 'BedroomAbvGr', 'TotRmsAbvGrd']\n",
    "X = home_data[feature_columns]\n",
    "\n",
    "# Specify Model\n",
    "iowa_model = DecisionTreeRegressor()\n",
    "# Fit Model\n",
    "iowa_model.fit(X, y)\n",
    "\n",
    "print(\"First in-sample predictions:\", iowa_model.predict(X.head()))\n",
    "print(\"Actual target values for those homes:\", y.head().tolist())\n",
    "\n",
    "# Set up code checking\n",
    "from learntools.core import binder\n",
    "binder.bind(globals())\n",
    "from learntools.machine_learning.ex4 import *\n",
    "print(\"Setup Complete\")"
   ]
  },
  {
   "cell_type": "markdown",
   "id": "1823e555",
   "metadata": {
    "papermill": {
     "duration": 0.013096,
     "end_time": "2021-08-11T11:41:19.079611",
     "exception": false,
     "start_time": "2021-08-11T11:41:19.066515",
     "status": "completed"
    },
    "tags": []
   },
   "source": [
    "# Exercises\n",
    "\n",
    "## Step 1: Split Your Data\n",
    "Use the `train_test_split` function to split up your data.\n",
    "\n",
    "Give it the argument `random_state=1` so the `check` functions know what to expect when verifying your code.\n",
    "\n",
    "Recall, your features are loaded in the DataFrame **X** and your target is loaded in **y**.\n"
   ]
  },
  {
   "cell_type": "code",
   "execution_count": 2,
   "id": "01055a40",
   "metadata": {
    "execution": {
     "iopub.execute_input": "2021-08-11T11:41:19.117009Z",
     "iopub.status.busy": "2021-08-11T11:41:19.116111Z",
     "iopub.status.idle": "2021-08-11T11:41:19.141998Z",
     "shell.execute_reply": "2021-08-11T11:41:19.142514Z",
     "shell.execute_reply.started": "2021-08-11T11:35:49.529309Z"
    },
    "papermill": {
     "duration": 0.049783,
     "end_time": "2021-08-11T11:41:19.142726",
     "exception": false,
     "start_time": "2021-08-11T11:41:19.092943",
     "status": "completed"
    },
    "tags": []
   },
   "outputs": [
    {
     "data": {
      "application/javascript": [
       "parent.postMessage({\"jupyterEvent\": \"custom.exercise_interaction\", \"data\": {\"outcomeType\": 1, \"valueTowardsCompletion\": 0.25, \"interactionType\": 1, \"questionType\": 2, \"questionId\": \"1_SplitData\", \"learnToolsVersion\": \"0.3.4\", \"failureMessage\": \"\", \"exceptionClass\": \"\", \"trace\": \"\"}}, \"*\")"
      ],
      "text/plain": [
       "<IPython.core.display.Javascript object>"
      ]
     },
     "metadata": {},
     "output_type": "display_data"
    },
    {
     "data": {
      "text/markdown": [
       "<span style=\"color:#33cc33\">Correct</span>"
      ],
      "text/plain": [
       "Correct"
      ]
     },
     "metadata": {},
     "output_type": "display_data"
    }
   ],
   "source": [
    "# Import the train_test_split function and uncomment\n",
    "from sklearn.model_selection import train_test_split\n",
    "\n",
    "# fill in and uncomment\n",
    "train_X, val_X, train_y, val_y = train_test_split(X, y, random_state = 1)\n",
    "\n",
    "# Check your answer\n",
    "step_1.check()"
   ]
  },
  {
   "cell_type": "code",
   "execution_count": 3,
   "id": "2122eaaf",
   "metadata": {
    "execution": {
     "iopub.execute_input": "2021-08-11T11:41:19.176020Z",
     "iopub.status.busy": "2021-08-11T11:41:19.174957Z",
     "iopub.status.idle": "2021-08-11T11:41:19.177823Z",
     "shell.execute_reply": "2021-08-11T11:41:19.178328Z"
    },
    "papermill": {
     "duration": 0.021342,
     "end_time": "2021-08-11T11:41:19.178491",
     "exception": false,
     "start_time": "2021-08-11T11:41:19.157149",
     "status": "completed"
    },
    "tags": []
   },
   "outputs": [],
   "source": [
    "# The lines below will show you a hint or the solution.\n",
    "# step_1.hint() \n",
    "# step_1.solution()\n"
   ]
  },
  {
   "cell_type": "markdown",
   "id": "baff29c6",
   "metadata": {
    "papermill": {
     "duration": 0.014219,
     "end_time": "2021-08-11T11:41:19.207143",
     "exception": false,
     "start_time": "2021-08-11T11:41:19.192924",
     "status": "completed"
    },
    "tags": []
   },
   "source": [
    "## Step 2: Specify and Fit the Model\n",
    "\n",
    "Create a `DecisionTreeRegressor` model and fit it to the relevant data.\n",
    "Set `random_state` to 1 again when creating the model."
   ]
  },
  {
   "cell_type": "code",
   "execution_count": 4,
   "id": "bfcaaee9",
   "metadata": {
    "execution": {
     "iopub.execute_input": "2021-08-11T11:41:19.239585Z",
     "iopub.status.busy": "2021-08-11T11:41:19.238626Z",
     "iopub.status.idle": "2021-08-11T11:41:19.269218Z",
     "shell.execute_reply": "2021-08-11T11:41:19.268467Z",
     "shell.execute_reply.started": "2021-08-11T11:37:54.204491Z"
    },
    "papermill": {
     "duration": 0.047869,
     "end_time": "2021-08-11T11:41:19.269365",
     "exception": false,
     "start_time": "2021-08-11T11:41:19.221496",
     "status": "completed"
    },
    "tags": []
   },
   "outputs": [
    {
     "name": "stdout",
     "output_type": "stream",
     "text": [
      "[186500. 184000. 130000.  92000. 164500. 220000. 335000. 144152. 215000.\n",
      " 262000.]\n",
      "[186500. 184000. 130000.  92000. 164500. 220000. 335000. 144152. 215000.\n",
      " 262000.]\n"
     ]
    },
    {
     "data": {
      "application/javascript": [
       "parent.postMessage({\"jupyterEvent\": \"custom.exercise_interaction\", \"data\": {\"outcomeType\": 1, \"valueTowardsCompletion\": 0.25, \"interactionType\": 1, \"questionType\": 2, \"questionId\": \"2_FitModelWithTrain\", \"learnToolsVersion\": \"0.3.4\", \"failureMessage\": \"\", \"exceptionClass\": \"\", \"trace\": \"\"}}, \"*\")"
      ],
      "text/plain": [
       "<IPython.core.display.Javascript object>"
      ]
     },
     "metadata": {},
     "output_type": "display_data"
    },
    {
     "data": {
      "text/markdown": [
       "<span style=\"color:#33cc33\">Correct</span>"
      ],
      "text/plain": [
       "Correct"
      ]
     },
     "metadata": {},
     "output_type": "display_data"
    }
   ],
   "source": [
    "# You imported DecisionTreeRegressor in your last exercise\n",
    "# and that code has been copied to the setup code above. So, no need to\n",
    "# import it again\n",
    "\n",
    "# Specify the model\n",
    "iowa_model = DecisionTreeRegressor(random_state = 1)\n",
    "\n",
    "# Fit iowa_model with the training data.\n",
    "iowa_model.fit(train_X, train_y)\n",
    "\n",
    "# Check your answer\n",
    "step_2.check()"
   ]
  },
  {
   "cell_type": "code",
   "execution_count": 5,
   "id": "7db09543",
   "metadata": {
    "execution": {
     "iopub.execute_input": "2021-08-11T11:41:19.304859Z",
     "iopub.status.busy": "2021-08-11T11:41:19.304177Z",
     "iopub.status.idle": "2021-08-11T11:41:19.306237Z",
     "shell.execute_reply": "2021-08-11T11:41:19.306706Z"
    },
    "papermill": {
     "duration": 0.021699,
     "end_time": "2021-08-11T11:41:19.306876",
     "exception": false,
     "start_time": "2021-08-11T11:41:19.285177",
     "status": "completed"
    },
    "tags": []
   },
   "outputs": [],
   "source": [
    "# step_2.hint()\n",
    "# step_2.solution()"
   ]
  },
  {
   "cell_type": "markdown",
   "id": "ec532c70",
   "metadata": {
    "papermill": {
     "duration": 0.015548,
     "end_time": "2021-08-11T11:41:19.338308",
     "exception": false,
     "start_time": "2021-08-11T11:41:19.322760",
     "status": "completed"
    },
    "tags": []
   },
   "source": [
    "## Step 3: Make Predictions with Validation data\n"
   ]
  },
  {
   "cell_type": "code",
   "execution_count": 6,
   "id": "71f9d282",
   "metadata": {
    "execution": {
     "iopub.execute_input": "2021-08-11T11:41:19.373135Z",
     "iopub.status.busy": "2021-08-11T11:41:19.372416Z",
     "iopub.status.idle": "2021-08-11T11:41:19.383464Z",
     "shell.execute_reply": "2021-08-11T11:41:19.382907Z",
     "shell.execute_reply.started": "2021-08-11T11:38:34.609948Z"
    },
    "papermill": {
     "duration": 0.029515,
     "end_time": "2021-08-11T11:41:19.383605",
     "exception": false,
     "start_time": "2021-08-11T11:41:19.354090",
     "status": "completed"
    },
    "tags": []
   },
   "outputs": [
    {
     "data": {
      "application/javascript": [
       "parent.postMessage({\"jupyterEvent\": \"custom.exercise_interaction\", \"data\": {\"outcomeType\": 1, \"valueTowardsCompletion\": 0.25, \"interactionType\": 1, \"questionType\": 2, \"questionId\": \"3_ValPreds\", \"learnToolsVersion\": \"0.3.4\", \"failureMessage\": \"\", \"exceptionClass\": \"\", \"trace\": \"\"}}, \"*\")"
      ],
      "text/plain": [
       "<IPython.core.display.Javascript object>"
      ]
     },
     "metadata": {},
     "output_type": "display_data"
    },
    {
     "data": {
      "text/markdown": [
       "<span style=\"color:#33cc33\">Correct</span>"
      ],
      "text/plain": [
       "Correct"
      ]
     },
     "metadata": {},
     "output_type": "display_data"
    }
   ],
   "source": [
    "# Predict with all validation observations\n",
    "val_predictions = iowa_model.predict(val_X)\n",
    "\n",
    "# Check your answer\n",
    "step_3.check()"
   ]
  },
  {
   "cell_type": "code",
   "execution_count": 7,
   "id": "27810994",
   "metadata": {
    "execution": {
     "iopub.execute_input": "2021-08-11T11:41:19.422230Z",
     "iopub.status.busy": "2021-08-11T11:41:19.421160Z",
     "iopub.status.idle": "2021-08-11T11:41:19.425700Z",
     "shell.execute_reply": "2021-08-11T11:41:19.424954Z"
    },
    "papermill": {
     "duration": 0.025233,
     "end_time": "2021-08-11T11:41:19.425853",
     "exception": false,
     "start_time": "2021-08-11T11:41:19.400620",
     "status": "completed"
    },
    "tags": []
   },
   "outputs": [],
   "source": [
    "# step_3.hint()\n",
    "# step_3.solution()"
   ]
  },
  {
   "cell_type": "markdown",
   "id": "ec3f684d",
   "metadata": {
    "papermill": {
     "duration": 0.01635,
     "end_time": "2021-08-11T11:41:19.459106",
     "exception": false,
     "start_time": "2021-08-11T11:41:19.442756",
     "status": "completed"
    },
    "tags": []
   },
   "source": [
    "Inspect your predictions and actual values from validation data."
   ]
  },
  {
   "cell_type": "code",
   "execution_count": 8,
   "id": "00bbec8a",
   "metadata": {
    "execution": {
     "iopub.execute_input": "2021-08-11T11:41:19.503091Z",
     "iopub.status.busy": "2021-08-11T11:41:19.502376Z",
     "iopub.status.idle": "2021-08-11T11:41:19.506345Z",
     "shell.execute_reply": "2021-08-11T11:41:19.506858Z",
     "shell.execute_reply.started": "2021-08-11T11:39:46.164152Z"
    },
    "papermill": {
     "duration": 0.031204,
     "end_time": "2021-08-11T11:41:19.507054",
     "exception": false,
     "start_time": "2021-08-11T11:41:19.475850",
     "status": "completed"
    },
    "tags": []
   },
   "outputs": [
    {
     "name": "stdout",
     "output_type": "stream",
     "text": [
      "[186500. 184000. 130000.  92000. 164500.]\n",
      "[208500. 181500. 223500. 128000. 250000.]\n"
     ]
    }
   ],
   "source": [
    "# print the top few validation predictions\n",
    "print(iowa_model.predict(val_X.head()))\n",
    "# print the top few actual prices from validation data\n",
    "print(iowa_model.predict(X.head()))"
   ]
  },
  {
   "cell_type": "markdown",
   "id": "11562698",
   "metadata": {
    "papermill": {
     "duration": 0.016761,
     "end_time": "2021-08-11T11:41:19.542890",
     "exception": false,
     "start_time": "2021-08-11T11:41:19.526129",
     "status": "completed"
    },
    "tags": []
   },
   "source": [
    "What do you notice that is different from what you saw with in-sample predictions (which are printed after the top code cell in this page).\n",
    "\n",
    "Do you remember why validation predictions differ from in-sample (or training) predictions? This is an important idea from the last lesson.\n",
    "\n",
    "## Step 4: Calculate the Mean Absolute Error in Validation Data\n"
   ]
  },
  {
   "cell_type": "code",
   "execution_count": 9,
   "id": "ba3155ad",
   "metadata": {
    "execution": {
     "iopub.execute_input": "2021-08-11T11:41:19.580619Z",
     "iopub.status.busy": "2021-08-11T11:41:19.579678Z",
     "iopub.status.idle": "2021-08-11T11:41:19.591232Z",
     "shell.execute_reply": "2021-08-11T11:41:19.591778Z",
     "shell.execute_reply.started": "2021-08-11T11:40:51.719018Z"
    },
    "papermill": {
     "duration": 0.031902,
     "end_time": "2021-08-11T11:41:19.591951",
     "exception": false,
     "start_time": "2021-08-11T11:41:19.560049",
     "status": "completed"
    },
    "tags": []
   },
   "outputs": [
    {
     "name": "stdout",
     "output_type": "stream",
     "text": [
      "29652.931506849316\n"
     ]
    },
    {
     "data": {
      "application/javascript": [
       "parent.postMessage({\"jupyterEvent\": \"custom.exercise_interaction\", \"data\": {\"outcomeType\": 1, \"valueTowardsCompletion\": 0.25, \"interactionType\": 1, \"questionType\": 1, \"questionId\": \"4_MAE\", \"learnToolsVersion\": \"0.3.4\", \"failureMessage\": \"\", \"exceptionClass\": \"\", \"trace\": \"\"}}, \"*\")"
      ],
      "text/plain": [
       "<IPython.core.display.Javascript object>"
      ]
     },
     "metadata": {},
     "output_type": "display_data"
    },
    {
     "data": {
      "text/markdown": [
       "<span style=\"color:#33cc33\">Correct</span>"
      ],
      "text/plain": [
       "Correct"
      ]
     },
     "metadata": {},
     "output_type": "display_data"
    }
   ],
   "source": [
    "from sklearn.metrics import mean_absolute_error\n",
    "val_mae = mean_absolute_error(val_y, val_predictions)\n",
    "\n",
    "# uncomment following line to see the validation_mae\n",
    "print(val_mae)\n",
    "\n",
    "# Check your answer\n",
    "step_4.check()"
   ]
  },
  {
   "cell_type": "code",
   "execution_count": 10,
   "id": "60e0ec94",
   "metadata": {
    "execution": {
     "iopub.execute_input": "2021-08-11T11:41:19.632213Z",
     "iopub.status.busy": "2021-08-11T11:41:19.631535Z",
     "iopub.status.idle": "2021-08-11T11:41:19.634854Z",
     "shell.execute_reply": "2021-08-11T11:41:19.635373Z"
    },
    "papermill": {
     "duration": 0.025007,
     "end_time": "2021-08-11T11:41:19.635556",
     "exception": false,
     "start_time": "2021-08-11T11:41:19.610549",
     "status": "completed"
    },
    "tags": []
   },
   "outputs": [],
   "source": [
    "# step_4.hint()\n",
    "# step_4.solution()"
   ]
  },
  {
   "cell_type": "markdown",
   "id": "81d92d39",
   "metadata": {
    "papermill": {
     "duration": 0.018739,
     "end_time": "2021-08-11T11:41:19.673107",
     "exception": false,
     "start_time": "2021-08-11T11:41:19.654368",
     "status": "completed"
    },
    "tags": []
   },
   "source": [
    "Is that MAE good?  There isn't a general rule for what values are good that applies across applications. But you'll see how to use (and improve) this number in the next step.\n",
    "\n",
    "# Keep Going\n",
    "\n",
    "You are ready for **[Underfitting and Overfitting](https://www.kaggle.com/dansbecker/underfitting-and-overfitting).**\n"
   ]
  },
  {
   "cell_type": "markdown",
   "id": "f7610522",
   "metadata": {
    "papermill": {
     "duration": 0.019709,
     "end_time": "2021-08-11T11:41:19.711824",
     "exception": false,
     "start_time": "2021-08-11T11:41:19.692115",
     "status": "completed"
    },
    "tags": []
   },
   "source": [
    "---\n",
    "\n",
    "\n",
    "\n",
    "\n",
    "*Have questions or comments? Visit the [Learn Discussion forum](https://www.kaggle.com/learn-forum/161285) to chat with other Learners.*"
   ]
  }
 ],
 "metadata": {
  "kernelspec": {
   "display_name": "Python 3",
   "language": "python",
   "name": "python3"
  },
  "language_info": {
   "codemirror_mode": {
    "name": "ipython",
    "version": 3
   },
   "file_extension": ".py",
   "mimetype": "text/x-python",
   "name": "python",
   "nbconvert_exporter": "python",
   "pygments_lexer": "ipython3",
   "version": "3.7.10"
  },
  "papermill": {
   "default_parameters": {},
   "duration": 11.826802,
   "end_time": "2021-08-11T11:41:21.104770",
   "environment_variables": {},
   "exception": null,
   "input_path": "__notebook__.ipynb",
   "output_path": "__notebook__.ipynb",
   "parameters": {},
   "start_time": "2021-08-11T11:41:09.277968",
   "version": "2.3.3"
  }
 },
 "nbformat": 4,
 "nbformat_minor": 5
}

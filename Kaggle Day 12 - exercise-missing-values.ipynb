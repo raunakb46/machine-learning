{
 "cells": [
  {
   "cell_type": "markdown",
   "id": "8adf1762",
   "metadata": {
    "papermill": {
     "duration": 0.027883,
     "end_time": "2021-08-14T10:18:16.319790",
     "exception": false,
     "start_time": "2021-08-14T10:18:16.291907",
     "status": "completed"
    },
    "tags": []
   },
   "source": [
    "**This notebook is an exercise in the [Intermediate Machine Learning](https://www.kaggle.com/learn/intermediate-machine-learning) course.  You can reference the tutorial at [this link](https://www.kaggle.com/alexisbcook/missing-values).**\n",
    "\n",
    "---\n"
   ]
  },
  {
   "cell_type": "markdown",
   "id": "f46add18",
   "metadata": {
    "papermill": {
     "duration": 0.02675,
     "end_time": "2021-08-14T10:18:16.373770",
     "exception": false,
     "start_time": "2021-08-14T10:18:16.347020",
     "status": "completed"
    },
    "tags": []
   },
   "source": [
    "Now it's your turn to test your new knowledge of **missing values** handling. You'll probably find it makes a big difference.\n",
    "\n",
    "# Setup\n",
    "\n",
    "The questions will give you feedback on your work. Run the following cell to set up the feedback system."
   ]
  },
  {
   "cell_type": "code",
   "execution_count": 1,
   "id": "414ed2d1",
   "metadata": {
    "execution": {
     "iopub.execute_input": "2021-08-14T10:18:16.441574Z",
     "iopub.status.busy": "2021-08-14T10:18:16.440870Z",
     "iopub.status.idle": "2021-08-14T10:18:16.572405Z",
     "shell.execute_reply": "2021-08-14T10:18:16.572865Z",
     "shell.execute_reply.started": "2021-08-14T10:06:29.795725Z"
    },
    "papermill": {
     "duration": 0.172584,
     "end_time": "2021-08-14T10:18:16.573173",
     "exception": false,
     "start_time": "2021-08-14T10:18:16.400589",
     "status": "completed"
    },
    "tags": []
   },
   "outputs": [
    {
     "name": "stdout",
     "output_type": "stream",
     "text": [
      "Setup Complete\n"
     ]
    }
   ],
   "source": [
    "# Set up code checking\n",
    "import os\n",
    "if not os.path.exists(\"../input/train.csv\"):\n",
    "    os.symlink(\"../input/home-data-for-ml-course/train.csv\", \"../input/train.csv\")  \n",
    "    os.symlink(\"../input/home-data-for-ml-course/test.csv\", \"../input/test.csv\") \n",
    "from learntools.core import binder\n",
    "binder.bind(globals())\n",
    "from learntools.ml_intermediate.ex2 import *\n",
    "print(\"Setup Complete\")"
   ]
  },
  {
   "cell_type": "markdown",
   "id": "5fc2a95e",
   "metadata": {
    "papermill": {
     "duration": 0.027557,
     "end_time": "2021-08-14T10:18:16.627878",
     "exception": false,
     "start_time": "2021-08-14T10:18:16.600321",
     "status": "completed"
    },
    "tags": []
   },
   "source": [
    "In this exercise, you will work with data from the [Housing Prices Competition for Kaggle Learn Users](https://www.kaggle.com/c/home-data-for-ml-course). \n",
    "\n",
    "![Ames Housing dataset image](https://i.imgur.com/lTJVG4e.png)\n",
    "\n",
    "Run the next code cell without changes to load the training and validation sets in `X_train`, `X_valid`, `y_train`, and `y_valid`.  The test set is loaded in `X_test`."
   ]
  },
  {
   "cell_type": "code",
   "execution_count": 2,
   "id": "420b4231",
   "metadata": {
    "execution": {
     "iopub.execute_input": "2021-08-14T10:18:16.699229Z",
     "iopub.status.busy": "2021-08-14T10:18:16.698282Z",
     "iopub.status.idle": "2021-08-14T10:18:17.716465Z",
     "shell.execute_reply": "2021-08-14T10:18:17.717000Z",
     "shell.execute_reply.started": "2021-08-14T10:06:32.720633Z"
    },
    "papermill": {
     "duration": 1.056825,
     "end_time": "2021-08-14T10:18:17.717199",
     "exception": false,
     "start_time": "2021-08-14T10:18:16.660374",
     "status": "completed"
    },
    "tags": []
   },
   "outputs": [],
   "source": [
    "import pandas as pd\n",
    "from sklearn.model_selection import train_test_split\n",
    "\n",
    "# Read the data\n",
    "X_full = pd.read_csv('../input/train.csv', index_col='Id')\n",
    "X_test_full = pd.read_csv('../input/test.csv', index_col='Id')\n",
    "\n",
    "# Remove rows with missing target, separate target from predictors\n",
    "X_full.dropna(axis=0, subset=['SalePrice'], inplace=True)\n",
    "y = X_full.SalePrice\n",
    "X_full.drop(['SalePrice'], axis=1, inplace=True)\n",
    "\n",
    "# To keep things simple, we'll use only numerical predictors\n",
    "X = X_full.select_dtypes(exclude=['object'])\n",
    "X_test = X_test_full.select_dtypes(exclude=['object'])\n",
    "\n",
    "# Break off validation set from training data\n",
    "X_train, X_valid, y_train, y_valid = train_test_split(X, y, train_size=0.8, test_size=0.2,\n",
    "                                                      random_state=0)"
   ]
  },
  {
   "cell_type": "markdown",
   "id": "3992fecc",
   "metadata": {
    "papermill": {
     "duration": 0.02761,
     "end_time": "2021-08-14T10:18:17.774088",
     "exception": false,
     "start_time": "2021-08-14T10:18:17.746478",
     "status": "completed"
    },
    "tags": []
   },
   "source": [
    "Use the next code cell to print the first five rows of the data."
   ]
  },
  {
   "cell_type": "code",
   "execution_count": 3,
   "id": "9b16940a",
   "metadata": {
    "execution": {
     "iopub.execute_input": "2021-08-14T10:18:17.831438Z",
     "iopub.status.busy": "2021-08-14T10:18:17.830505Z",
     "iopub.status.idle": "2021-08-14T10:18:17.865344Z",
     "shell.execute_reply": "2021-08-14T10:18:17.864693Z",
     "shell.execute_reply.started": "2021-08-14T10:06:37.970055Z"
    },
    "papermill": {
     "duration": 0.06471,
     "end_time": "2021-08-14T10:18:17.865495",
     "exception": false,
     "start_time": "2021-08-14T10:18:17.800785",
     "status": "completed"
    },
    "tags": []
   },
   "outputs": [
    {
     "data": {
      "text/html": [
       "<div>\n",
       "<style scoped>\n",
       "    .dataframe tbody tr th:only-of-type {\n",
       "        vertical-align: middle;\n",
       "    }\n",
       "\n",
       "    .dataframe tbody tr th {\n",
       "        vertical-align: top;\n",
       "    }\n",
       "\n",
       "    .dataframe thead th {\n",
       "        text-align: right;\n",
       "    }\n",
       "</style>\n",
       "<table border=\"1\" class=\"dataframe\">\n",
       "  <thead>\n",
       "    <tr style=\"text-align: right;\">\n",
       "      <th></th>\n",
       "      <th>MSSubClass</th>\n",
       "      <th>LotFrontage</th>\n",
       "      <th>LotArea</th>\n",
       "      <th>OverallQual</th>\n",
       "      <th>OverallCond</th>\n",
       "      <th>YearBuilt</th>\n",
       "      <th>YearRemodAdd</th>\n",
       "      <th>MasVnrArea</th>\n",
       "      <th>BsmtFinSF1</th>\n",
       "      <th>BsmtFinSF2</th>\n",
       "      <th>...</th>\n",
       "      <th>GarageArea</th>\n",
       "      <th>WoodDeckSF</th>\n",
       "      <th>OpenPorchSF</th>\n",
       "      <th>EnclosedPorch</th>\n",
       "      <th>3SsnPorch</th>\n",
       "      <th>ScreenPorch</th>\n",
       "      <th>PoolArea</th>\n",
       "      <th>MiscVal</th>\n",
       "      <th>MoSold</th>\n",
       "      <th>YrSold</th>\n",
       "    </tr>\n",
       "    <tr>\n",
       "      <th>Id</th>\n",
       "      <th></th>\n",
       "      <th></th>\n",
       "      <th></th>\n",
       "      <th></th>\n",
       "      <th></th>\n",
       "      <th></th>\n",
       "      <th></th>\n",
       "      <th></th>\n",
       "      <th></th>\n",
       "      <th></th>\n",
       "      <th></th>\n",
       "      <th></th>\n",
       "      <th></th>\n",
       "      <th></th>\n",
       "      <th></th>\n",
       "      <th></th>\n",
       "      <th></th>\n",
       "      <th></th>\n",
       "      <th></th>\n",
       "      <th></th>\n",
       "      <th></th>\n",
       "    </tr>\n",
       "  </thead>\n",
       "  <tbody>\n",
       "    <tr>\n",
       "      <th>619</th>\n",
       "      <td>20</td>\n",
       "      <td>90.0</td>\n",
       "      <td>11694</td>\n",
       "      <td>9</td>\n",
       "      <td>5</td>\n",
       "      <td>2007</td>\n",
       "      <td>2007</td>\n",
       "      <td>452.0</td>\n",
       "      <td>48</td>\n",
       "      <td>0</td>\n",
       "      <td>...</td>\n",
       "      <td>774</td>\n",
       "      <td>0</td>\n",
       "      <td>108</td>\n",
       "      <td>0</td>\n",
       "      <td>0</td>\n",
       "      <td>260</td>\n",
       "      <td>0</td>\n",
       "      <td>0</td>\n",
       "      <td>7</td>\n",
       "      <td>2007</td>\n",
       "    </tr>\n",
       "    <tr>\n",
       "      <th>871</th>\n",
       "      <td>20</td>\n",
       "      <td>60.0</td>\n",
       "      <td>6600</td>\n",
       "      <td>5</td>\n",
       "      <td>5</td>\n",
       "      <td>1962</td>\n",
       "      <td>1962</td>\n",
       "      <td>0.0</td>\n",
       "      <td>0</td>\n",
       "      <td>0</td>\n",
       "      <td>...</td>\n",
       "      <td>308</td>\n",
       "      <td>0</td>\n",
       "      <td>0</td>\n",
       "      <td>0</td>\n",
       "      <td>0</td>\n",
       "      <td>0</td>\n",
       "      <td>0</td>\n",
       "      <td>0</td>\n",
       "      <td>8</td>\n",
       "      <td>2009</td>\n",
       "    </tr>\n",
       "    <tr>\n",
       "      <th>93</th>\n",
       "      <td>30</td>\n",
       "      <td>80.0</td>\n",
       "      <td>13360</td>\n",
       "      <td>5</td>\n",
       "      <td>7</td>\n",
       "      <td>1921</td>\n",
       "      <td>2006</td>\n",
       "      <td>0.0</td>\n",
       "      <td>713</td>\n",
       "      <td>0</td>\n",
       "      <td>...</td>\n",
       "      <td>432</td>\n",
       "      <td>0</td>\n",
       "      <td>0</td>\n",
       "      <td>44</td>\n",
       "      <td>0</td>\n",
       "      <td>0</td>\n",
       "      <td>0</td>\n",
       "      <td>0</td>\n",
       "      <td>8</td>\n",
       "      <td>2009</td>\n",
       "    </tr>\n",
       "    <tr>\n",
       "      <th>818</th>\n",
       "      <td>20</td>\n",
       "      <td>NaN</td>\n",
       "      <td>13265</td>\n",
       "      <td>8</td>\n",
       "      <td>5</td>\n",
       "      <td>2002</td>\n",
       "      <td>2002</td>\n",
       "      <td>148.0</td>\n",
       "      <td>1218</td>\n",
       "      <td>0</td>\n",
       "      <td>...</td>\n",
       "      <td>857</td>\n",
       "      <td>150</td>\n",
       "      <td>59</td>\n",
       "      <td>0</td>\n",
       "      <td>0</td>\n",
       "      <td>0</td>\n",
       "      <td>0</td>\n",
       "      <td>0</td>\n",
       "      <td>7</td>\n",
       "      <td>2008</td>\n",
       "    </tr>\n",
       "    <tr>\n",
       "      <th>303</th>\n",
       "      <td>20</td>\n",
       "      <td>118.0</td>\n",
       "      <td>13704</td>\n",
       "      <td>7</td>\n",
       "      <td>5</td>\n",
       "      <td>2001</td>\n",
       "      <td>2002</td>\n",
       "      <td>150.0</td>\n",
       "      <td>0</td>\n",
       "      <td>0</td>\n",
       "      <td>...</td>\n",
       "      <td>843</td>\n",
       "      <td>468</td>\n",
       "      <td>81</td>\n",
       "      <td>0</td>\n",
       "      <td>0</td>\n",
       "      <td>0</td>\n",
       "      <td>0</td>\n",
       "      <td>0</td>\n",
       "      <td>1</td>\n",
       "      <td>2006</td>\n",
       "    </tr>\n",
       "  </tbody>\n",
       "</table>\n",
       "<p>5 rows × 36 columns</p>\n",
       "</div>"
      ],
      "text/plain": [
       "     MSSubClass  LotFrontage  LotArea  OverallQual  OverallCond  YearBuilt  \\\n",
       "Id                                                                           \n",
       "619          20         90.0    11694            9            5       2007   \n",
       "871          20         60.0     6600            5            5       1962   \n",
       "93           30         80.0    13360            5            7       1921   \n",
       "818          20          NaN    13265            8            5       2002   \n",
       "303          20        118.0    13704            7            5       2001   \n",
       "\n",
       "     YearRemodAdd  MasVnrArea  BsmtFinSF1  BsmtFinSF2  ...  GarageArea  \\\n",
       "Id                                                     ...               \n",
       "619          2007       452.0          48           0  ...         774   \n",
       "871          1962         0.0           0           0  ...         308   \n",
       "93           2006         0.0         713           0  ...         432   \n",
       "818          2002       148.0        1218           0  ...         857   \n",
       "303          2002       150.0           0           0  ...         843   \n",
       "\n",
       "     WoodDeckSF  OpenPorchSF  EnclosedPorch  3SsnPorch  ScreenPorch  PoolArea  \\\n",
       "Id                                                                              \n",
       "619           0          108              0          0          260         0   \n",
       "871           0            0              0          0            0         0   \n",
       "93            0            0             44          0            0         0   \n",
       "818         150           59              0          0            0         0   \n",
       "303         468           81              0          0            0         0   \n",
       "\n",
       "     MiscVal  MoSold  YrSold  \n",
       "Id                            \n",
       "619        0       7    2007  \n",
       "871        0       8    2009  \n",
       "93         0       8    2009  \n",
       "818        0       7    2008  \n",
       "303        0       1    2006  \n",
       "\n",
       "[5 rows x 36 columns]"
      ]
     },
     "execution_count": 3,
     "metadata": {},
     "output_type": "execute_result"
    }
   ],
   "source": [
    "X_train.head()"
   ]
  },
  {
   "cell_type": "markdown",
   "id": "903ffa3e",
   "metadata": {
    "papermill": {
     "duration": 0.027556,
     "end_time": "2021-08-14T10:18:17.922032",
     "exception": false,
     "start_time": "2021-08-14T10:18:17.894476",
     "status": "completed"
    },
    "tags": []
   },
   "source": [
    "You can already see a few missing values in the first several rows.  In the next step, you'll obtain a more comprehensive understanding of the missing values in the dataset.\n",
    "\n",
    "# Step 1: Preliminary investigation\n",
    "\n",
    "Run the code cell below without changes."
   ]
  },
  {
   "cell_type": "code",
   "execution_count": 4,
   "id": "98acf025",
   "metadata": {
    "execution": {
     "iopub.execute_input": "2021-08-14T10:18:17.985846Z",
     "iopub.status.busy": "2021-08-14T10:18:17.982950Z",
     "iopub.status.idle": "2021-08-14T10:18:17.989635Z",
     "shell.execute_reply": "2021-08-14T10:18:17.989094Z",
     "shell.execute_reply.started": "2021-08-14T10:06:41.255800Z"
    },
    "papermill": {
     "duration": 0.04022,
     "end_time": "2021-08-14T10:18:17.989763",
     "exception": false,
     "start_time": "2021-08-14T10:18:17.949543",
     "status": "completed"
    },
    "tags": []
   },
   "outputs": [
    {
     "name": "stdout",
     "output_type": "stream",
     "text": [
      "(1168, 36)\n",
      "LotFrontage    212\n",
      "MasVnrArea       6\n",
      "GarageYrBlt     58\n",
      "dtype: int64\n"
     ]
    }
   ],
   "source": [
    "# Shape of training data (num_rows, num_columns)\n",
    "print(X_train.shape)\n",
    "\n",
    "# Number of missing values in each column of training data\n",
    "missing_val_count_by_column = (X_train.isnull().sum())\n",
    "print(missing_val_count_by_column[missing_val_count_by_column > 0])"
   ]
  },
  {
   "cell_type": "markdown",
   "id": "6e86d3cf",
   "metadata": {
    "papermill": {
     "duration": 0.027346,
     "end_time": "2021-08-14T10:18:18.044990",
     "exception": false,
     "start_time": "2021-08-14T10:18:18.017644",
     "status": "completed"
    },
    "tags": []
   },
   "source": [
    "### Part A\n",
    "\n",
    "Use the above output to answer the questions below."
   ]
  },
  {
   "cell_type": "code",
   "execution_count": 5,
   "id": "5f1dc040",
   "metadata": {
    "execution": {
     "iopub.execute_input": "2021-08-14T10:18:18.106815Z",
     "iopub.status.busy": "2021-08-14T10:18:18.105814Z",
     "iopub.status.idle": "2021-08-14T10:18:18.112776Z",
     "shell.execute_reply": "2021-08-14T10:18:18.112161Z",
     "shell.execute_reply.started": "2021-08-14T10:08:48.950921Z"
    },
    "papermill": {
     "duration": 0.039821,
     "end_time": "2021-08-14T10:18:18.112927",
     "exception": false,
     "start_time": "2021-08-14T10:18:18.073106",
     "status": "completed"
    },
    "tags": []
   },
   "outputs": [
    {
     "data": {
      "application/javascript": [
       "parent.postMessage({\"jupyterEvent\": \"custom.exercise_interaction\", \"data\": {\"outcomeType\": 1, \"valueTowardsCompletion\": 1.0, \"interactionType\": 1, \"questionType\": 1, \"questionId\": \"1.1_InvestigateEquality\", \"learnToolsVersion\": \"0.3.4\", \"failureMessage\": \"\", \"exceptionClass\": \"\", \"trace\": \"\"}}, \"*\")"
      ],
      "text/plain": [
       "<IPython.core.display.Javascript object>"
      ]
     },
     "metadata": {},
     "output_type": "display_data"
    },
    {
     "data": {
      "text/markdown": [
       "<span style=\"color:#33cc33\">Correct</span>"
      ],
      "text/plain": [
       "Correct"
      ]
     },
     "metadata": {},
     "output_type": "display_data"
    }
   ],
   "source": [
    "# Fill in the line below: How many rows are in the training data?\n",
    "num_rows = 1168\n",
    "\n",
    "# Fill in the line below: How many columns in the training data\n",
    "# have missing values?\n",
    "num_cols_with_missing = 3\n",
    "\n",
    "# Fill in the line below: How many missing entries are contained in \n",
    "# all of the training data?\n",
    "tot_missing = 212 + 6 + 58\n",
    "\n",
    "# Check your answers\n",
    "step_1.a.check()"
   ]
  },
  {
   "cell_type": "code",
   "execution_count": 6,
   "id": "ec2b39e5",
   "metadata": {
    "execution": {
     "iopub.execute_input": "2021-08-14T10:18:18.175952Z",
     "iopub.status.busy": "2021-08-14T10:18:18.175343Z",
     "iopub.status.idle": "2021-08-14T10:18:18.179603Z",
     "shell.execute_reply": "2021-08-14T10:18:18.179035Z"
    },
    "papermill": {
     "duration": 0.036538,
     "end_time": "2021-08-14T10:18:18.179762",
     "exception": false,
     "start_time": "2021-08-14T10:18:18.143224",
     "status": "completed"
    },
    "tags": []
   },
   "outputs": [],
   "source": [
    "# Lines below will give you a hint or solution code\n",
    "#step_1.a.hint()\n",
    "#step_1.a.solution()"
   ]
  },
  {
   "cell_type": "markdown",
   "id": "fcf0cfce",
   "metadata": {
    "papermill": {
     "duration": 0.02972,
     "end_time": "2021-08-14T10:18:18.240200",
     "exception": false,
     "start_time": "2021-08-14T10:18:18.210480",
     "status": "completed"
    },
    "tags": []
   },
   "source": [
    "### Part B\n",
    "Considering your answers above, what do you think is likely the best approach to dealing with the missing values?"
   ]
  },
  {
   "cell_type": "code",
   "execution_count": 7,
   "id": "b1969b3e",
   "metadata": {
    "execution": {
     "iopub.execute_input": "2021-08-14T10:18:18.304905Z",
     "iopub.status.busy": "2021-08-14T10:18:18.303925Z",
     "iopub.status.idle": "2021-08-14T10:18:18.308779Z",
     "shell.execute_reply": "2021-08-14T10:18:18.309269Z",
     "shell.execute_reply.started": "2021-08-14T10:08:54.040102Z"
    },
    "papermill": {
     "duration": 0.039646,
     "end_time": "2021-08-14T10:18:18.309447",
     "exception": false,
     "start_time": "2021-08-14T10:18:18.269801",
     "status": "completed"
    },
    "tags": []
   },
   "outputs": [
    {
     "data": {
      "application/javascript": [
       "parent.postMessage({\"jupyterEvent\": \"custom.exercise_interaction\", \"data\": {\"outcomeType\": 1, \"valueTowardsCompletion\": 1.0, \"interactionType\": 1, \"questionType\": 4, \"questionId\": \"1.2_InvestigateThought\", \"learnToolsVersion\": \"0.3.4\", \"failureMessage\": \"\", \"exceptionClass\": \"\", \"trace\": \"\"}}, \"*\")"
      ],
      "text/plain": [
       "<IPython.core.display.Javascript object>"
      ]
     },
     "metadata": {},
     "output_type": "display_data"
    },
    {
     "data": {
      "text/markdown": [
       "<span style=\"color:#33cc33\">Correct:</span> \n",
       "\n",
       "Since there are relatively few missing entries in the data (the column with the greatest percentage of missing values is missing less than 20% of its entries), we can expect that dropping columns is unlikely to yield good results.  This is because we'd be throwing away a lot of valuable data, and so imputation will likely perform better."
      ],
      "text/plain": [
       "Correct: \n",
       "\n",
       "Since there are relatively few missing entries in the data (the column with the greatest percentage of missing values is missing less than 20% of its entries), we can expect that dropping columns is unlikely to yield good results.  This is because we'd be throwing away a lot of valuable data, and so imputation will likely perform better."
      ]
     },
     "metadata": {},
     "output_type": "display_data"
    }
   ],
   "source": [
    "# Check your answer (Run this code cell to receive credit!)\n",
    "step_1.b.check()"
   ]
  },
  {
   "cell_type": "code",
   "execution_count": 8,
   "id": "743cd0d7",
   "metadata": {
    "execution": {
     "iopub.execute_input": "2021-08-14T10:18:18.374052Z",
     "iopub.status.busy": "2021-08-14T10:18:18.373457Z",
     "iopub.status.idle": "2021-08-14T10:18:18.376485Z",
     "shell.execute_reply": "2021-08-14T10:18:18.376957Z"
    },
    "papermill": {
     "duration": 0.036597,
     "end_time": "2021-08-14T10:18:18.377122",
     "exception": false,
     "start_time": "2021-08-14T10:18:18.340525",
     "status": "completed"
    },
    "tags": []
   },
   "outputs": [],
   "source": [
    "#step_1.b.hint()"
   ]
  },
  {
   "cell_type": "markdown",
   "id": "c19b093f",
   "metadata": {
    "papermill": {
     "duration": 0.031128,
     "end_time": "2021-08-14T10:18:18.438597",
     "exception": false,
     "start_time": "2021-08-14T10:18:18.407469",
     "status": "completed"
    },
    "tags": []
   },
   "source": [
    "To compare different approaches to dealing with missing values, you'll use the same `score_dataset()` function from the tutorial.  This function reports the [mean absolute error](https://en.wikipedia.org/wiki/Mean_absolute_error) (MAE) from a random forest model."
   ]
  },
  {
   "cell_type": "code",
   "execution_count": 9,
   "id": "229d977c",
   "metadata": {
    "execution": {
     "iopub.execute_input": "2021-08-14T10:18:18.503083Z",
     "iopub.status.busy": "2021-08-14T10:18:18.502481Z",
     "iopub.status.idle": "2021-08-14T10:18:18.720110Z",
     "shell.execute_reply": "2021-08-14T10:18:18.718300Z",
     "shell.execute_reply.started": "2021-08-14T10:08:59.274978Z"
    },
    "papermill": {
     "duration": 0.251068,
     "end_time": "2021-08-14T10:18:18.720364",
     "exception": false,
     "start_time": "2021-08-14T10:18:18.469296",
     "status": "completed"
    },
    "tags": []
   },
   "outputs": [],
   "source": [
    "from sklearn.ensemble import RandomForestRegressor\n",
    "from sklearn.metrics import mean_absolute_error\n",
    "\n",
    "# Function for comparing different approaches\n",
    "def score_dataset(X_train, X_valid, y_train, y_valid):\n",
    "    model = RandomForestRegressor(n_estimators=100, random_state=0)\n",
    "    model.fit(X_train, y_train)\n",
    "    preds = model.predict(X_valid)\n",
    "    return mean_absolute_error(y_valid, preds)"
   ]
  },
  {
   "cell_type": "markdown",
   "id": "3a410919",
   "metadata": {
    "papermill": {
     "duration": 0.030332,
     "end_time": "2021-08-14T10:18:18.788079",
     "exception": false,
     "start_time": "2021-08-14T10:18:18.757747",
     "status": "completed"
    },
    "tags": []
   },
   "source": [
    "# Step 2: Drop columns with missing values\n",
    "\n",
    "In this step, you'll preprocess the data in `X_train` and `X_valid` to remove columns with missing values.  Set the preprocessed DataFrames to `reduced_X_train` and `reduced_X_valid`, respectively.  "
   ]
  },
  {
   "cell_type": "code",
   "execution_count": 10,
   "id": "01c1a604",
   "metadata": {
    "execution": {
     "iopub.execute_input": "2021-08-14T10:18:18.885643Z",
     "iopub.status.busy": "2021-08-14T10:18:18.884674Z",
     "iopub.status.idle": "2021-08-14T10:18:18.890708Z",
     "shell.execute_reply": "2021-08-14T10:18:18.891199Z",
     "shell.execute_reply.started": "2021-08-14T10:10:46.735784Z"
    },
    "papermill": {
     "duration": 0.072784,
     "end_time": "2021-08-14T10:18:18.891374",
     "exception": false,
     "start_time": "2021-08-14T10:18:18.818590",
     "status": "completed"
    },
    "tags": []
   },
   "outputs": [
    {
     "data": {
      "application/javascript": [
       "parent.postMessage({\"jupyterEvent\": \"custom.exercise_interaction\", \"data\": {\"outcomeType\": 1, \"valueTowardsCompletion\": 1.0, \"interactionType\": 1, \"questionType\": 2, \"questionId\": \"2_DropMissing\", \"learnToolsVersion\": \"0.3.4\", \"failureMessage\": \"\", \"exceptionClass\": \"\", \"trace\": \"\"}}, \"*\")"
      ],
      "text/plain": [
       "<IPython.core.display.Javascript object>"
      ]
     },
     "metadata": {},
     "output_type": "display_data"
    },
    {
     "data": {
      "text/markdown": [
       "<span style=\"color:#33cc33\">Correct</span>"
      ],
      "text/plain": [
       "Correct"
      ]
     },
     "metadata": {},
     "output_type": "display_data"
    }
   ],
   "source": [
    "# Fill in the line below: get names of columns with missing values\n",
    "cols_with_missing = [col for col in X_train.columns if X_train[col].isnull().any()] # Your code here\n",
    "\n",
    "# Fill in the lines below: drop columns in training and validation data\n",
    "reduced_X_train = X_train.drop(cols_with_missing, axis= 1)\n",
    "reduced_X_valid = X_valid.drop(cols_with_missing, axis = 1)\n",
    "\n",
    "# Check your answers\n",
    "step_2.check()"
   ]
  },
  {
   "cell_type": "code",
   "execution_count": 11,
   "id": "e9842b91",
   "metadata": {
    "execution": {
     "iopub.execute_input": "2021-08-14T10:18:18.958154Z",
     "iopub.status.busy": "2021-08-14T10:18:18.957241Z",
     "iopub.status.idle": "2021-08-14T10:18:18.960572Z",
     "shell.execute_reply": "2021-08-14T10:18:18.960994Z"
    },
    "papermill": {
     "duration": 0.038403,
     "end_time": "2021-08-14T10:18:18.961176",
     "exception": false,
     "start_time": "2021-08-14T10:18:18.922773",
     "status": "completed"
    },
    "tags": []
   },
   "outputs": [],
   "source": [
    "# Lines below will give you a hint or solution code\n",
    "#step_2.hint()\n",
    "#step_2.solution()"
   ]
  },
  {
   "cell_type": "markdown",
   "id": "0619d5c6",
   "metadata": {
    "papermill": {
     "duration": 0.034183,
     "end_time": "2021-08-14T10:18:19.026205",
     "exception": false,
     "start_time": "2021-08-14T10:18:18.992022",
     "status": "completed"
    },
    "tags": []
   },
   "source": [
    "Run the next code cell without changes to obtain the MAE for this approach."
   ]
  },
  {
   "cell_type": "code",
   "execution_count": 12,
   "id": "73f95b96",
   "metadata": {
    "execution": {
     "iopub.execute_input": "2021-08-14T10:18:19.093163Z",
     "iopub.status.busy": "2021-08-14T10:18:19.092197Z",
     "iopub.status.idle": "2021-08-14T10:18:20.339295Z",
     "shell.execute_reply": "2021-08-14T10:18:20.340007Z",
     "shell.execute_reply.started": "2021-08-14T10:14:10.581767Z"
    },
    "papermill": {
     "duration": 1.28261,
     "end_time": "2021-08-14T10:18:20.340243",
     "exception": false,
     "start_time": "2021-08-14T10:18:19.057633",
     "status": "completed"
    },
    "tags": []
   },
   "outputs": [
    {
     "name": "stdout",
     "output_type": "stream",
     "text": [
      "MAE (Drop columns with missing values):\n",
      "17837.82570776256\n"
     ]
    }
   ],
   "source": [
    "print(\"MAE (Drop columns with missing values):\")\n",
    "print(score_dataset(reduced_X_train, reduced_X_valid, y_train, y_valid))"
   ]
  },
  {
   "cell_type": "markdown",
   "id": "af27dffb",
   "metadata": {
    "papermill": {
     "duration": 0.032311,
     "end_time": "2021-08-14T10:18:20.405359",
     "exception": false,
     "start_time": "2021-08-14T10:18:20.373048",
     "status": "completed"
    },
    "tags": []
   },
   "source": [
    "# Step 3: Imputation\n",
    "\n",
    "### Part A\n",
    "\n",
    "Use the next code cell to impute missing values with the mean value along each column.  Set the preprocessed DataFrames to `imputed_X_train` and `imputed_X_valid`.  Make sure that the column names match those in `X_train` and `X_valid`."
   ]
  },
  {
   "cell_type": "code",
   "execution_count": 13,
   "id": "7669863e",
   "metadata": {
    "execution": {
     "iopub.execute_input": "2021-08-14T10:18:20.478411Z",
     "iopub.status.busy": "2021-08-14T10:18:20.477694Z",
     "iopub.status.idle": "2021-08-14T10:18:20.510323Z",
     "shell.execute_reply": "2021-08-14T10:18:20.511040Z",
     "shell.execute_reply.started": "2021-08-14T10:15:43.936135Z"
    },
    "papermill": {
     "duration": 0.072405,
     "end_time": "2021-08-14T10:18:20.511287",
     "exception": false,
     "start_time": "2021-08-14T10:18:20.438882",
     "status": "completed"
    },
    "tags": []
   },
   "outputs": [
    {
     "data": {
      "application/javascript": [
       "parent.postMessage({\"jupyterEvent\": \"custom.exercise_interaction\", \"data\": {\"outcomeType\": 1, \"valueTowardsCompletion\": 1.0, \"interactionType\": 1, \"questionType\": 2, \"questionId\": \"3.1_ImputeCode\", \"learnToolsVersion\": \"0.3.4\", \"failureMessage\": \"\", \"exceptionClass\": \"\", \"trace\": \"\"}}, \"*\")"
      ],
      "text/plain": [
       "<IPython.core.display.Javascript object>"
      ]
     },
     "metadata": {},
     "output_type": "display_data"
    },
    {
     "data": {
      "text/markdown": [
       "<span style=\"color:#33cc33\">Correct</span>"
      ],
      "text/plain": [
       "Correct"
      ]
     },
     "metadata": {},
     "output_type": "display_data"
    }
   ],
   "source": [
    "from sklearn.impute import SimpleImputer\n",
    "\n",
    "# Fill in the lines below: imputation\n",
    "my_imputer = SimpleImputer() # Your code here\n",
    "imputed_X_train = pd.DataFrame(my_imputer.fit_transform(X_train))\n",
    "imputed_X_valid = pd.DataFrame(my_imputer.transform(X_valid))\n",
    "\n",
    "# Fill in the lines below: imputation removed column names; put them back\n",
    "imputed_X_train.columns = X_train.columns\n",
    "imputed_X_valid.columns = X_valid.columns\n",
    "\n",
    "# Check your answers\n",
    "step_3.a.check()"
   ]
  },
  {
   "cell_type": "code",
   "execution_count": 14,
   "id": "82d354c7",
   "metadata": {
    "execution": {
     "iopub.execute_input": "2021-08-14T10:18:20.583267Z",
     "iopub.status.busy": "2021-08-14T10:18:20.582303Z",
     "iopub.status.idle": "2021-08-14T10:18:20.585615Z",
     "shell.execute_reply": "2021-08-14T10:18:20.585089Z"
    },
    "papermill": {
     "duration": 0.040737,
     "end_time": "2021-08-14T10:18:20.585769",
     "exception": false,
     "start_time": "2021-08-14T10:18:20.545032",
     "status": "completed"
    },
    "tags": []
   },
   "outputs": [],
   "source": [
    "# Lines below will give you a hint or solution code\n",
    "#step_3.a.hint()\n",
    "#step_3.a.solution()"
   ]
  },
  {
   "cell_type": "markdown",
   "id": "fc87e956",
   "metadata": {
    "papermill": {
     "duration": 0.03327,
     "end_time": "2021-08-14T10:18:20.652537",
     "exception": false,
     "start_time": "2021-08-14T10:18:20.619267",
     "status": "completed"
    },
    "tags": []
   },
   "source": [
    "Run the next code cell without changes to obtain the MAE for this approach."
   ]
  },
  {
   "cell_type": "code",
   "execution_count": 15,
   "id": "7d7d14c7",
   "metadata": {
    "execution": {
     "iopub.execute_input": "2021-08-14T10:18:20.722398Z",
     "iopub.status.busy": "2021-08-14T10:18:20.721380Z",
     "iopub.status.idle": "2021-08-14T10:18:22.077779Z",
     "shell.execute_reply": "2021-08-14T10:18:22.078420Z",
     "shell.execute_reply.started": "2021-08-14T10:15:47.785604Z"
    },
    "papermill": {
     "duration": 1.393051,
     "end_time": "2021-08-14T10:18:22.078606",
     "exception": false,
     "start_time": "2021-08-14T10:18:20.685555",
     "status": "completed"
    },
    "tags": []
   },
   "outputs": [
    {
     "name": "stdout",
     "output_type": "stream",
     "text": [
      "MAE (Imputation):\n",
      "18062.894611872147\n"
     ]
    }
   ],
   "source": [
    "print(\"MAE (Imputation):\")\n",
    "print(score_dataset(imputed_X_train, imputed_X_valid, y_train, y_valid))"
   ]
  },
  {
   "cell_type": "markdown",
   "id": "fd00a943",
   "metadata": {
    "papermill": {
     "duration": 0.033763,
     "end_time": "2021-08-14T10:18:22.146578",
     "exception": false,
     "start_time": "2021-08-14T10:18:22.112815",
     "status": "completed"
    },
    "tags": []
   },
   "source": [
    "### Part B\n",
    "\n",
    "Compare the MAE from each approach.  Does anything surprise you about the results?  Why do you think one approach performed better than the other?"
   ]
  },
  {
   "cell_type": "code",
   "execution_count": 16,
   "id": "ddc79f29",
   "metadata": {
    "execution": {
     "iopub.execute_input": "2021-08-14T10:18:22.218108Z",
     "iopub.status.busy": "2021-08-14T10:18:22.217477Z",
     "iopub.status.idle": "2021-08-14T10:18:22.224673Z",
     "shell.execute_reply": "2021-08-14T10:18:22.224106Z",
     "shell.execute_reply.started": "2021-08-14T10:15:51.495645Z"
    },
    "papermill": {
     "duration": 0.0443,
     "end_time": "2021-08-14T10:18:22.224826",
     "exception": false,
     "start_time": "2021-08-14T10:18:22.180526",
     "status": "completed"
    },
    "tags": []
   },
   "outputs": [
    {
     "data": {
      "application/javascript": [
       "parent.postMessage({\"jupyterEvent\": \"custom.exercise_interaction\", \"data\": {\"outcomeType\": 1, \"valueTowardsCompletion\": 1.0, \"interactionType\": 1, \"questionType\": 4, \"questionId\": \"3.2_ImputeThought\", \"learnToolsVersion\": \"0.3.4\", \"failureMessage\": \"\", \"exceptionClass\": \"\", \"trace\": \"\"}}, \"*\")"
      ],
      "text/plain": [
       "<IPython.core.display.Javascript object>"
      ]
     },
     "metadata": {},
     "output_type": "display_data"
    },
    {
     "data": {
      "text/markdown": [
       "<span style=\"color:#33cc33\">Correct:</span> \n",
       "\n",
       "Given that thre are so few missing values in the dataset, we'd expect imputation to perform better than dropping columns entirely.  However, we see that dropping columns performs slightly better!  While this can probably partially be attributed to noise in the dataset, another potential explanation is that the imputation method is not a great match to this dataset.  That is, maybe instead of filling in the mean value, it makes more sense to set every missing value to a value of 0, to fill in the most frequently encountered value, or to use some other method.  For instance, consider the `GarageYrBlt` column (which indicates the year that the garage was built).  It's likely that in some cases, a missing value could indicate a house that does not have a garage.  Does it make more sense to fill in the median value along each column in this case?  Or could we get better results by filling in the minimum value along each column?  It's not quite clear what's best in this case, but perhaps we can rule out some options immediately - for instance, setting missing values in this column to 0 is likely to yield horrible results!"
      ],
      "text/plain": [
       "Correct: \n",
       "\n",
       "Given that thre are so few missing values in the dataset, we'd expect imputation to perform better than dropping columns entirely.  However, we see that dropping columns performs slightly better!  While this can probably partially be attributed to noise in the dataset, another potential explanation is that the imputation method is not a great match to this dataset.  That is, maybe instead of filling in the mean value, it makes more sense to set every missing value to a value of 0, to fill in the most frequently encountered value, or to use some other method.  For instance, consider the `GarageYrBlt` column (which indicates the year that the garage was built).  It's likely that in some cases, a missing value could indicate a house that does not have a garage.  Does it make more sense to fill in the median value along each column in this case?  Or could we get better results by filling in the minimum value along each column?  It's not quite clear what's best in this case, but perhaps we can rule out some options immediately - for instance, setting missing values in this column to 0 is likely to yield horrible results!"
      ]
     },
     "metadata": {},
     "output_type": "display_data"
    }
   ],
   "source": [
    "# Check your answer (Run this code cell to receive credit!)\n",
    "step_3.b.check()"
   ]
  },
  {
   "cell_type": "code",
   "execution_count": 17,
   "id": "853e5377",
   "metadata": {
    "execution": {
     "iopub.execute_input": "2021-08-14T10:18:22.299235Z",
     "iopub.status.busy": "2021-08-14T10:18:22.298290Z",
     "iopub.status.idle": "2021-08-14T10:18:22.301374Z",
     "shell.execute_reply": "2021-08-14T10:18:22.300673Z"
    },
    "papermill": {
     "duration": 0.041886,
     "end_time": "2021-08-14T10:18:22.301508",
     "exception": false,
     "start_time": "2021-08-14T10:18:22.259622",
     "status": "completed"
    },
    "tags": []
   },
   "outputs": [],
   "source": [
    "#step_3.b.hint()"
   ]
  },
  {
   "cell_type": "markdown",
   "id": "6273ce69",
   "metadata": {
    "papermill": {
     "duration": 0.034946,
     "end_time": "2021-08-14T10:18:22.372599",
     "exception": false,
     "start_time": "2021-08-14T10:18:22.337653",
     "status": "completed"
    },
    "tags": []
   },
   "source": [
    "# Step 4: Generate test predictions\n",
    "\n",
    "In this final step, you'll use any approach of your choosing to deal with missing values.  Once you've preprocessed the training and validation features, you'll train and evaluate a random forest model.  Then, you'll preprocess the test data before generating predictions that can be submitted to the competition!\n",
    "\n",
    "### Part A\n",
    "\n",
    "Use the next code cell to preprocess the training and validation data.  Set the preprocessed DataFrames to `final_X_train` and `final_X_valid`.  **You can use any approach of your choosing here!**  in order for this step to be marked as correct, you need only ensure:\n",
    "- the preprocessed DataFrames have the same number of columns,\n",
    "- the preprocessed DataFrames have no missing values, \n",
    "- `final_X_train` and `y_train` have the same number of rows, and\n",
    "- `final_X_valid` and `y_valid` have the same number of rows."
   ]
  },
  {
   "cell_type": "code",
   "execution_count": 18,
   "id": "e624fd68",
   "metadata": {
    "execution": {
     "iopub.execute_input": "2021-08-14T10:18:22.446854Z",
     "iopub.status.busy": "2021-08-14T10:18:22.446228Z",
     "iopub.status.idle": "2021-08-14T10:18:22.479207Z",
     "shell.execute_reply": "2021-08-14T10:18:22.478577Z",
     "shell.execute_reply.started": "2021-08-14T10:17:07.806806Z"
    },
    "papermill": {
     "duration": 0.072051,
     "end_time": "2021-08-14T10:18:22.479348",
     "exception": false,
     "start_time": "2021-08-14T10:18:22.407297",
     "status": "completed"
    },
    "tags": []
   },
   "outputs": [
    {
     "data": {
      "application/javascript": [
       "parent.postMessage({\"jupyterEvent\": \"custom.exercise_interaction\", \"data\": {\"outcomeType\": 1, \"valueTowardsCompletion\": 1.0, \"interactionType\": 1, \"questionType\": 2, \"questionId\": \"4.1_PredsCodeA\", \"learnToolsVersion\": \"0.3.4\", \"failureMessage\": \"\", \"exceptionClass\": \"\", \"trace\": \"\"}}, \"*\")"
      ],
      "text/plain": [
       "<IPython.core.display.Javascript object>"
      ]
     },
     "metadata": {},
     "output_type": "display_data"
    },
    {
     "data": {
      "text/markdown": [
       "<span style=\"color:#33cc33\">Correct</span>"
      ],
      "text/plain": [
       "Correct"
      ]
     },
     "metadata": {},
     "output_type": "display_data"
    }
   ],
   "source": [
    "# Preprocessed training and validation features\n",
    "my_imputer = SimpleImputer(strategy='median')\n",
    "final_X_train = pd.DataFrame(my_imputer.fit_transform(X_train))\n",
    "final_X_valid = pd.DataFrame(my_imputer.transform(X_valid))\n",
    "\n",
    "final_X_train.columns = X_train.columns\n",
    "final_X_valid.columns = X_valid.columns\n",
    "\n",
    "\n",
    "# Check your answers\n",
    "step_4.a.check()"
   ]
  },
  {
   "cell_type": "code",
   "execution_count": 19,
   "id": "ca725fde",
   "metadata": {
    "execution": {
     "iopub.execute_input": "2021-08-14T10:18:22.554083Z",
     "iopub.status.busy": "2021-08-14T10:18:22.553514Z",
     "iopub.status.idle": "2021-08-14T10:18:22.556661Z",
     "shell.execute_reply": "2021-08-14T10:18:22.557185Z"
    },
    "papermill": {
     "duration": 0.042289,
     "end_time": "2021-08-14T10:18:22.557340",
     "exception": false,
     "start_time": "2021-08-14T10:18:22.515051",
     "status": "completed"
    },
    "tags": []
   },
   "outputs": [],
   "source": [
    "# Lines below will give you a hint or solution code\n",
    "#step_4.a.hint()\n",
    "#step_4.a.solution()"
   ]
  },
  {
   "cell_type": "markdown",
   "id": "1ca2107b",
   "metadata": {
    "papermill": {
     "duration": 0.035963,
     "end_time": "2021-08-14T10:18:22.630198",
     "exception": false,
     "start_time": "2021-08-14T10:18:22.594235",
     "status": "completed"
    },
    "tags": []
   },
   "source": [
    "Run the next code cell to train and evaluate a random forest model.  (*Note that we don't use the `score_dataset()` function above, because we will soon use the trained model to generate test predictions!*)"
   ]
  },
  {
   "cell_type": "code",
   "execution_count": 20,
   "id": "de94c4a4",
   "metadata": {
    "execution": {
     "iopub.execute_input": "2021-08-14T10:18:22.709837Z",
     "iopub.status.busy": "2021-08-14T10:18:22.709227Z",
     "iopub.status.idle": "2021-08-14T10:18:24.092823Z",
     "shell.execute_reply": "2021-08-14T10:18:24.092197Z",
     "shell.execute_reply.started": "2021-08-14T10:17:12.431650Z"
    },
    "papermill": {
     "duration": 1.42711,
     "end_time": "2021-08-14T10:18:24.092996",
     "exception": false,
     "start_time": "2021-08-14T10:18:22.665886",
     "status": "completed"
    },
    "tags": []
   },
   "outputs": [
    {
     "name": "stdout",
     "output_type": "stream",
     "text": [
      "MAE (Your approach):\n",
      "17791.59899543379\n"
     ]
    }
   ],
   "source": [
    "# Define and fit model\n",
    "model = RandomForestRegressor(n_estimators=100, random_state=0)\n",
    "model.fit(final_X_train, y_train)\n",
    "\n",
    "# Get validation predictions and MAE\n",
    "preds_valid = model.predict(final_X_valid)\n",
    "print(\"MAE (Your approach):\")\n",
    "print(mean_absolute_error(y_valid, preds_valid))"
   ]
  },
  {
   "cell_type": "markdown",
   "id": "ad906925",
   "metadata": {
    "papermill": {
     "duration": 0.038706,
     "end_time": "2021-08-14T10:18:24.168790",
     "exception": false,
     "start_time": "2021-08-14T10:18:24.130084",
     "status": "completed"
    },
    "tags": []
   },
   "source": [
    "### Part B\n",
    "\n",
    "Use the next code cell to preprocess your test data.  Make sure that you use a method that agrees with how you preprocessed the training and validation data, and set the preprocessed test features to `final_X_test`.\n",
    "\n",
    "Then, use the preprocessed test features and the trained model to generate test predictions in `preds_test`.\n",
    "\n",
    "In order for this step to be marked correct, you need only ensure:\n",
    "- the preprocessed test DataFrame has no missing values, and\n",
    "- `final_X_test` has the same number of rows as `X_test`."
   ]
  },
  {
   "cell_type": "code",
   "execution_count": 21,
   "id": "6cbe3bea",
   "metadata": {
    "execution": {
     "iopub.execute_input": "2021-08-14T10:18:24.251533Z",
     "iopub.status.busy": "2021-08-14T10:18:24.250802Z",
     "iopub.status.idle": "2021-08-14T10:18:24.298268Z",
     "shell.execute_reply": "2021-08-14T10:18:24.297722Z",
     "shell.execute_reply.started": "2021-08-14T10:17:48.582383Z"
    },
    "papermill": {
     "duration": 0.092393,
     "end_time": "2021-08-14T10:18:24.298415",
     "exception": false,
     "start_time": "2021-08-14T10:18:24.206022",
     "status": "completed"
    },
    "tags": []
   },
   "outputs": [
    {
     "data": {
      "application/javascript": [
       "parent.postMessage({\"jupyterEvent\": \"custom.exercise_interaction\", \"data\": {\"outcomeType\": 1, \"valueTowardsCompletion\": 1.0, \"interactionType\": 1, \"questionType\": 2, \"questionId\": \"4.2_PredsCodeB\", \"learnToolsVersion\": \"0.3.4\", \"failureMessage\": \"\", \"exceptionClass\": \"\", \"trace\": \"\"}}, \"*\")"
      ],
      "text/plain": [
       "<IPython.core.display.Javascript object>"
      ]
     },
     "metadata": {},
     "output_type": "display_data"
    },
    {
     "data": {
      "text/markdown": [
       "<span style=\"color:#33cc33\">Correct</span>"
      ],
      "text/plain": [
       "Correct"
      ]
     },
     "metadata": {},
     "output_type": "display_data"
    }
   ],
   "source": [
    "# Fill in the line below: preprocess test data\n",
    "final_X_test = pd.DataFrame(my_imputer.transform(X_test))\n",
    "\n",
    "# Fill in the line below: get test predictions\n",
    "preds_test = model.predict(final_X_test)\n",
    "\n",
    "# Check your answers\n",
    "step_4.b.check()"
   ]
  },
  {
   "cell_type": "code",
   "execution_count": 22,
   "id": "506d2858",
   "metadata": {
    "execution": {
     "iopub.execute_input": "2021-08-14T10:18:24.378251Z",
     "iopub.status.busy": "2021-08-14T10:18:24.377628Z",
     "iopub.status.idle": "2021-08-14T10:18:24.381644Z",
     "shell.execute_reply": "2021-08-14T10:18:24.381034Z"
    },
    "papermill": {
     "duration": 0.04471,
     "end_time": "2021-08-14T10:18:24.381779",
     "exception": false,
     "start_time": "2021-08-14T10:18:24.337069",
     "status": "completed"
    },
    "tags": []
   },
   "outputs": [],
   "source": [
    "# Lines below will give you a hint or solution code\n",
    "#step_4.b.hint()\n",
    "#step_4.b.solution()"
   ]
  },
  {
   "cell_type": "markdown",
   "id": "68a4e157",
   "metadata": {
    "papermill": {
     "duration": 0.038387,
     "end_time": "2021-08-14T10:18:24.458950",
     "exception": false,
     "start_time": "2021-08-14T10:18:24.420563",
     "status": "completed"
    },
    "tags": []
   },
   "source": [
    "Run the next code cell without changes to save your results to a CSV file that can be submitted directly to the competition."
   ]
  },
  {
   "cell_type": "code",
   "execution_count": 23,
   "id": "f2063a48",
   "metadata": {
    "execution": {
     "iopub.execute_input": "2021-08-14T10:18:24.541921Z",
     "iopub.status.busy": "2021-08-14T10:18:24.541324Z",
     "iopub.status.idle": "2021-08-14T10:18:24.551562Z",
     "shell.execute_reply": "2021-08-14T10:18:24.552035Z",
     "shell.execute_reply.started": "2021-08-14T10:17:51.860782Z"
    },
    "papermill": {
     "duration": 0.054928,
     "end_time": "2021-08-14T10:18:24.552258",
     "exception": false,
     "start_time": "2021-08-14T10:18:24.497330",
     "status": "completed"
    },
    "tags": []
   },
   "outputs": [],
   "source": [
    "# Save test predictions to file\n",
    "output = pd.DataFrame({'Id': X_test.index,\n",
    "                       'SalePrice': preds_test})\n",
    "output.to_csv('submission.csv', index=False)"
   ]
  },
  {
   "cell_type": "markdown",
   "id": "61c70e5e",
   "metadata": {
    "papermill": {
     "duration": 0.036971,
     "end_time": "2021-08-14T10:18:24.626363",
     "exception": false,
     "start_time": "2021-08-14T10:18:24.589392",
     "status": "completed"
    },
    "tags": []
   },
   "source": [
    "# Submit your results\n",
    "\n",
    "Once you have successfully completed Step 4, you're ready to submit your results to the leaderboard!  (_You also learned how to do this in the previous exercise.  If you need a reminder of how to do this, please use the instructions below._)  \n",
    "\n",
    "First, you'll need to join the competition if you haven't already.  So open a new window by clicking on [this link](https://www.kaggle.com/c/home-data-for-ml-course).  Then click on the **Join Competition** button.\n",
    "\n",
    "![join competition image](https://i.imgur.com/wLmFtH3.png)\n",
    "\n",
    "Next, follow the instructions below:\n",
    "1. Begin by clicking on the blue **Save Version** button in the top right corner of the window.  This will generate a pop-up window.  \n",
    "2. Ensure that the **Save and Run All** option is selected, and then click on the blue **Save** button.\n",
    "3. This generates a window in the bottom left corner of the notebook.  After it has finished running, click on the number to the right of the **Save Version** button.  This pulls up a list of versions on the right of the screen.  Click on the ellipsis **(...)** to the right of the most recent version, and select **Open in Viewer**.  This brings you into view mode of the same page. You will need to scroll down to get back to these instructions.\n",
    "4. Click on the **Output** tab on the right of the screen.  Then, click on the file you would like to submit, and click on the blue **Submit** button to submit your results to the leaderboard.\n",
    "\n",
    "You have now successfully submitted to the competition!\n",
    "\n",
    "If you want to keep working to improve your performance, select the blue **Edit** button in the top right of the screen. Then you can change your code and repeat the process. There's a lot of room to improve, and you will climb up the leaderboard as you work.\n",
    "\n",
    "\n",
    "# Keep going\n",
    "\n",
    "Move on to learn what **[categorical variables](https://www.kaggle.com/alexisbcook/categorical-variables)** are, along with how to incorporate them into your machine learning models.  Categorical variables are very common in real-world data, but you'll get an error if you try to plug them into your models without processing them first!"
   ]
  },
  {
   "cell_type": "markdown",
   "id": "c107d72a",
   "metadata": {
    "papermill": {
     "duration": 0.03682,
     "end_time": "2021-08-14T10:18:24.700277",
     "exception": false,
     "start_time": "2021-08-14T10:18:24.663457",
     "status": "completed"
    },
    "tags": []
   },
   "source": [
    "---\n",
    "\n",
    "\n",
    "\n",
    "\n",
    "*Have questions or comments? Visit the [Learn Discussion forum](https://www.kaggle.com/learn-forum/161289) to chat with other Learners.*"
   ]
  }
 ],
 "metadata": {
  "kernelspec": {
   "display_name": "Python 3",
   "language": "python",
   "name": "python3"
  },
  "language_info": {
   "codemirror_mode": {
    "name": "ipython",
    "version": 3
   },
   "file_extension": ".py",
   "mimetype": "text/x-python",
   "name": "python",
   "nbconvert_exporter": "python",
   "pygments_lexer": "ipython3",
   "version": "3.7.10"
  },
  "papermill": {
   "default_parameters": {},
   "duration": 17.778438,
   "end_time": "2021-08-14T10:18:26.206808",
   "environment_variables": {},
   "exception": null,
   "input_path": "__notebook__.ipynb",
   "output_path": "__notebook__.ipynb",
   "parameters": {},
   "start_time": "2021-08-14T10:18:08.428370",
   "version": "2.3.3"
  }
 },
 "nbformat": 4,
 "nbformat_minor": 5
}

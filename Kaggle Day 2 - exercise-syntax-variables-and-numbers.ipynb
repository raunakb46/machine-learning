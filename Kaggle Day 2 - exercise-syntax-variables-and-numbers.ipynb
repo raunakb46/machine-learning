{
 "cells": [
  {
   "cell_type": "markdown",
   "id": "d49234bf",
   "metadata": {
    "papermill": {
     "duration": 0.022421,
     "end_time": "2021-08-04T07:29:14.369099",
     "exception": false,
     "start_time": "2021-08-04T07:29:14.346678",
     "status": "completed"
    },
    "tags": []
   },
   "source": [
    "**This notebook is an exercise in the [Python](https://www.kaggle.com/learn/python) course.  You can reference the tutorial at [this link](https://www.kaggle.com/colinmorris/hello-python).**\n",
    "\n",
    "---\n"
   ]
  },
  {
   "cell_type": "markdown",
   "id": "1649a94c",
   "metadata": {
    "papermill": {
     "duration": 0.019641,
     "end_time": "2021-08-04T07:29:14.409452",
     "exception": false,
     "start_time": "2021-08-04T07:29:14.389811",
     "status": "completed"
    },
    "tags": []
   },
   "source": [
    "Welcome to your first set of Python coding problems.  If this is your first time using Kaggle Notebooks, welcome! \n",
    "\n",
    "Notebooks are composed of blocks (called \"cells\") of text and code. Each of these is editable, though you'll mainly be editing the code cells to answer some questions.\n",
    "\n",
    "To get started, try running the code cell below (by pressing the ► button, or clicking on the cell and pressing ctrl+enter on your keyboard)."
   ]
  },
  {
   "cell_type": "code",
   "execution_count": 1,
   "id": "ae37b8e4",
   "metadata": {
    "execution": {
     "iopub.execute_input": "2021-08-04T07:29:14.456101Z",
     "iopub.status.busy": "2021-08-04T07:29:14.454239Z",
     "iopub.status.idle": "2021-08-04T07:29:14.468799Z",
     "shell.execute_reply": "2021-08-04T07:29:14.469780Z",
     "shell.execute_reply.started": "2021-08-04T07:01:42.345465Z"
    },
    "papermill": {
     "duration": 0.040886,
     "end_time": "2021-08-04T07:29:14.470390",
     "exception": false,
     "start_time": "2021-08-04T07:29:14.429504",
     "status": "completed"
    },
    "tags": []
   },
   "outputs": [
    {
     "name": "stdout",
     "output_type": "stream",
     "text": [
      "You've successfully run some Python code\n",
      "Congratulations!\n"
     ]
    }
   ],
   "source": [
    "print(\"You've successfully run some Python code\")\n",
    "print(\"Congratulations!\")"
   ]
  },
  {
   "cell_type": "markdown",
   "id": "b487e4e6",
   "metadata": {
    "papermill": {
     "duration": 0.021303,
     "end_time": "2021-08-04T07:29:14.514822",
     "exception": false,
     "start_time": "2021-08-04T07:29:14.493519",
     "status": "completed"
    },
    "tags": []
   },
   "source": [
    "Try adding another line of code in the cell above and re-running it. \n",
    "\n",
    "Now let's get a little fancier:  Add a new code cell by clicking on an existing code cell, hitting the escape key, and then hitting the `a` or `b` key.  The `a` key will add a cell above the current cell, and `b` adds a cell below.\n",
    "\n",
    "Great! Now you know how to use Notebooks.\n",
    "\n",
    "Each hands-on exercise starts by setting up our feedback and code checking mechanism. Run the code cell below to do that. Then you'll be ready to move on to question 0."
   ]
  },
  {
   "cell_type": "code",
   "execution_count": 2,
   "id": "152b0860",
   "metadata": {
    "_kg_hide-input": true,
    "_kg_hide-output": true,
    "execution": {
     "iopub.execute_input": "2021-08-04T07:29:14.559695Z",
     "iopub.status.busy": "2021-08-04T07:29:14.558927Z",
     "iopub.status.idle": "2021-08-04T07:29:14.751199Z",
     "shell.execute_reply": "2021-08-04T07:29:14.750173Z",
     "shell.execute_reply.started": "2021-08-04T07:02:34.989345Z"
    },
    "papermill": {
     "duration": 0.216017,
     "end_time": "2021-08-04T07:29:14.751465",
     "exception": false,
     "start_time": "2021-08-04T07:29:14.535448",
     "status": "completed"
    },
    "tags": []
   },
   "outputs": [
    {
     "name": "stdout",
     "output_type": "stream",
     "text": [
      "Setup complete! You're ready to start question 0.\n"
     ]
    }
   ],
   "source": [
    "from learntools.core import binder; binder.bind(globals())\n",
    "from learntools.python.ex1 import *\n",
    "print(\"Setup complete! You're ready to start question 0.\")"
   ]
  },
  {
   "cell_type": "markdown",
   "id": "434d6cdd",
   "metadata": {
    "papermill": {
     "duration": 0.02114,
     "end_time": "2021-08-04T07:29:14.796100",
     "exception": false,
     "start_time": "2021-08-04T07:29:14.774960",
     "status": "completed"
    },
    "tags": []
   },
   "source": [
    "# 0.\n",
    "\n",
    "*This is a silly question intended as an introduction to the format we use for hands-on exercises throughout all Kaggle courses.*\n",
    "\n",
    "**What is your favorite color? **\n",
    "\n",
    "To complete this question, create a variable called `color` in the cell below with an appropriate value. The function call `q0.check()` (which we've already provided in the cell below) will check your answer."
   ]
  },
  {
   "cell_type": "code",
   "execution_count": 3,
   "id": "92e413ac",
   "metadata": {
    "execution": {
     "iopub.execute_input": "2021-08-04T07:29:14.851891Z",
     "iopub.status.busy": "2021-08-04T07:29:14.850800Z",
     "iopub.status.idle": "2021-08-04T07:29:14.857769Z",
     "shell.execute_reply": "2021-08-04T07:29:14.857166Z",
     "shell.execute_reply.started": "2021-08-04T07:08:57.160149Z"
    },
    "papermill": {
     "duration": 0.037617,
     "end_time": "2021-08-04T07:29:14.857944",
     "exception": false,
     "start_time": "2021-08-04T07:29:14.820327",
     "status": "completed"
    },
    "tags": []
   },
   "outputs": [
    {
     "data": {
      "application/javascript": [
       "parent.postMessage({\"jupyterEvent\": \"custom.exercise_interaction\", \"data\": {\"outcomeType\": 1, \"valueTowardsCompletion\": 0.25, \"interactionType\": 1, \"questionType\": 2, \"questionId\": \"0_ExerciseFormatTutorial\", \"learnToolsVersion\": \"0.3.4\", \"failureMessage\": \"\", \"exceptionClass\": \"\", \"trace\": \"\"}}, \"*\")"
      ],
      "text/plain": [
       "<IPython.core.display.Javascript object>"
      ]
     },
     "metadata": {},
     "output_type": "display_data"
    },
    {
     "data": {
      "text/markdown": [
       "<span style=\"color:#33cc33\">Correct:</span> What?! You got it right without needing a hint or anything? Drats. Well hey, you should still continue to the next step to get some practice asking for a hint and checking solutions. (Even though you obviously don't need any help here.)"
      ],
      "text/plain": [
       "Correct: What?! You got it right without needing a hint or anything? Drats. Well hey, you should still continue to the next step to get some practice asking for a hint and checking solutions. (Even though you obviously don't need any help here.)"
      ]
     },
     "metadata": {},
     "output_type": "display_data"
    }
   ],
   "source": [
    "# create a variable called color with an appropriate value on the line below\n",
    "# (Remember, strings in Python must be enclosed in 'single' or \"double\" quotes)\n",
    "____\n",
    "color = \"Blue\"\n",
    "# Check your answer\n",
    "q0.check()"
   ]
  },
  {
   "cell_type": "markdown",
   "id": "da2cdc4d",
   "metadata": {
    "papermill": {
     "duration": 0.021478,
     "end_time": "2021-08-04T07:29:14.901662",
     "exception": false,
     "start_time": "2021-08-04T07:29:14.880184",
     "status": "completed"
    },
    "tags": []
   },
   "source": [
    "Didn't get the right answer? How do you not even know your own favorite color?!\n",
    "\n",
    "Delete the `#` in the line below to make one of the lines run. You can choose between getting a hint or the full answer by choosing which line to remove the `#` from. \n",
    "\n",
    "Removing the `#` is called uncommenting, because it changes that line from a \"comment\" which Python doesn't run to code, which Python does run."
   ]
  },
  {
   "cell_type": "code",
   "execution_count": 4,
   "id": "6be73960",
   "metadata": {
    "execution": {
     "iopub.execute_input": "2021-08-04T07:29:14.953745Z",
     "iopub.status.busy": "2021-08-04T07:29:14.952618Z",
     "iopub.status.idle": "2021-08-04T07:29:14.959468Z",
     "shell.execute_reply": "2021-08-04T07:29:14.958874Z",
     "shell.execute_reply.started": "2021-08-04T07:08:42.740539Z"
    },
    "papermill": {
     "duration": 0.035876,
     "end_time": "2021-08-04T07:29:14.959638",
     "exception": false,
     "start_time": "2021-08-04T07:29:14.923762",
     "status": "completed"
    },
    "tags": []
   },
   "outputs": [
    {
     "data": {
      "application/javascript": [
       "parent.postMessage({\"jupyterEvent\": \"custom.exercise_interaction\", \"data\": {\"interactionType\": 2, \"questionType\": 2, \"questionId\": \"0_ExerciseFormatTutorial\", \"learnToolsVersion\": \"0.3.4\", \"valueTowardsCompletion\": 0.0, \"failureMessage\": \"\", \"exceptionClass\": \"\", \"trace\": \"\", \"outcomeType\": 4}}, \"*\")"
      ],
      "text/plain": [
       "<IPython.core.display.Javascript object>"
      ]
     },
     "metadata": {},
     "output_type": "display_data"
    },
    {
     "data": {
      "text/markdown": [
       "<span style=\"color:#3366cc\">Hint:</span> Your favorite color rhymes with *glue*."
      ],
      "text/plain": [
       "Hint: Your favorite color rhymes with *glue*."
      ]
     },
     "metadata": {},
     "output_type": "display_data"
    }
   ],
   "source": [
    "q0.hint()\n",
    "#q0.solution()"
   ]
  },
  {
   "cell_type": "markdown",
   "id": "f51548ab",
   "metadata": {
    "papermill": {
     "duration": 0.022506,
     "end_time": "2021-08-04T07:29:15.004986",
     "exception": false,
     "start_time": "2021-08-04T07:29:14.982480",
     "status": "completed"
    },
    "tags": []
   },
   "source": [
    "The upcoming questions work the same way. The only thing that will change are the question numbers. For the next question, you'll call `q1.check()`, `q1.hint()`, `q1.solution()`, for question 2, you'll call `q2.check()`, and so on."
   ]
  },
  {
   "cell_type": "markdown",
   "id": "35f94ff2",
   "metadata": {
    "papermill": {
     "duration": 0.023118,
     "end_time": "2021-08-04T07:29:15.051809",
     "exception": false,
     "start_time": "2021-08-04T07:29:15.028691",
     "status": "completed"
    },
    "tags": []
   },
   "source": [
    "<hr/>\n",
    "\n",
    "# 1.\n",
    "\n",
    "Complete the code below. In case it's helpful, here is the table of available arithmetic operations:\n",
    "\n",
    "\n",
    "\n",
    "| Operator     | Name           | Description                                            |\n",
    "|--------------|----------------|--------------------------------------------------------|\n",
    "| ``a + b``    | Addition       | Sum of ``a`` and ``b``                                 |\n",
    "| ``a - b``    | Subtraction    | Difference of ``a`` and ``b``                          |\n",
    "| ``a * b``    | Multiplication | Product of ``a`` and ``b``                             |\n",
    "| ``a / b``    | True division  | Quotient of ``a`` and ``b``                            |\n",
    "| ``a // b``   | Floor division | Quotient of ``a`` and ``b``, removing fractional parts |\n",
    "| ``a % b``    | Modulus        | Integer remainder after division of ``a`` by ``b``     |\n",
    "| ``a ** b``   | Exponentiation | ``a`` raised to the power of ``b``                     |\n",
    "| ``-a``       | Negation       | The negative of ``a``                                  |\n",
    "\n",
    "<span style=\"display:none\"></span>\n"
   ]
  },
  {
   "cell_type": "code",
   "execution_count": 5,
   "id": "00572ac2",
   "metadata": {
    "execution": {
     "iopub.execute_input": "2021-08-04T07:29:15.102789Z",
     "iopub.status.busy": "2021-08-04T07:29:15.101986Z",
     "iopub.status.idle": "2021-08-04T07:29:15.110255Z",
     "shell.execute_reply": "2021-08-04T07:29:15.111017Z",
     "shell.execute_reply.started": "2021-08-04T07:10:19.300262Z"
    },
    "papermill": {
     "duration": 0.036267,
     "end_time": "2021-08-04T07:29:15.111231",
     "exception": false,
     "start_time": "2021-08-04T07:29:15.074964",
     "status": "completed"
    },
    "tags": []
   },
   "outputs": [
    {
     "data": {
      "application/javascript": [
       "parent.postMessage({\"jupyterEvent\": \"custom.exercise_interaction\", \"data\": {\"outcomeType\": 1, \"valueTowardsCompletion\": 0.25, \"interactionType\": 1, \"questionType\": 1, \"questionId\": \"1_CircleArea\", \"learnToolsVersion\": \"0.3.4\", \"failureMessage\": \"\", \"exceptionClass\": \"\", \"trace\": \"\"}}, \"*\")"
      ],
      "text/plain": [
       "<IPython.core.display.Javascript object>"
      ]
     },
     "metadata": {},
     "output_type": "display_data"
    },
    {
     "data": {
      "text/markdown": [
       "<span style=\"color:#33cc33\">Correct</span>"
      ],
      "text/plain": [
       "Correct"
      ]
     },
     "metadata": {},
     "output_type": "display_data"
    }
   ],
   "source": [
    "pi = 3.14159 # approximate\n",
    "diameter = 3\n",
    "\n",
    "# Create a variable called 'radius' equal to half the diameter\n",
    "____\n",
    "radius = diameter / 2\n",
    "# Create a variable called 'area', using the formula for the area of a circle: pi times the radius squared\n",
    "____\n",
    "area = pi * (radius ** 2)\n",
    "# Check your answer\n",
    "q1.check()"
   ]
  },
  {
   "cell_type": "code",
   "execution_count": 6,
   "id": "bc912478",
   "metadata": {
    "execution": {
     "iopub.execute_input": "2021-08-04T07:29:15.165251Z",
     "iopub.status.busy": "2021-08-04T07:29:15.164112Z",
     "iopub.status.idle": "2021-08-04T07:29:15.169084Z",
     "shell.execute_reply": "2021-08-04T07:29:15.168393Z"
    },
    "papermill": {
     "duration": 0.034006,
     "end_time": "2021-08-04T07:29:15.169259",
     "exception": false,
     "start_time": "2021-08-04T07:29:15.135253",
     "status": "completed"
    },
    "tags": []
   },
   "outputs": [],
   "source": [
    "# Uncomment and run the lines below if you need help.\n",
    "#q1.hint()\n",
    "#q1.solution()"
   ]
  },
  {
   "cell_type": "markdown",
   "id": "0483455b",
   "metadata": {
    "papermill": {
     "duration": 0.024009,
     "end_time": "2021-08-04T07:29:15.219169",
     "exception": false,
     "start_time": "2021-08-04T07:29:15.195160",
     "status": "completed"
    },
    "tags": []
   },
   "source": [
    "<hr/>\n",
    "\n",
    "# 2.\n",
    "\n",
    "Add code to the following cell to swap variables `a` and `b` (so that `a` refers to the object previously referred to by `b` and vice versa)."
   ]
  },
  {
   "cell_type": "code",
   "execution_count": 7,
   "id": "22279e74",
   "metadata": {
    "execution": {
     "iopub.execute_input": "2021-08-04T07:29:15.275714Z",
     "iopub.status.busy": "2021-08-04T07:29:15.274869Z",
     "iopub.status.idle": "2021-08-04T07:29:15.281260Z",
     "shell.execute_reply": "2021-08-04T07:29:15.280676Z",
     "shell.execute_reply.started": "2021-08-04T07:12:11.853594Z"
    },
    "papermill": {
     "duration": 0.037906,
     "end_time": "2021-08-04T07:29:15.281459",
     "exception": false,
     "start_time": "2021-08-04T07:29:15.243553",
     "status": "completed"
    },
    "tags": []
   },
   "outputs": [
    {
     "data": {
      "application/javascript": [
       "parent.postMessage({\"jupyterEvent\": \"custom.exercise_interaction\", \"data\": {\"outcomeType\": 1, \"valueTowardsCompletion\": 0.25, \"interactionType\": 1, \"questionType\": 2, \"questionId\": \"2_VariableSwap\", \"learnToolsVersion\": \"0.3.4\", \"failureMessage\": \"\", \"exceptionClass\": \"\", \"trace\": \"\"}}, \"*\")"
      ],
      "text/plain": [
       "<IPython.core.display.Javascript object>"
      ]
     },
     "metadata": {},
     "output_type": "display_data"
    },
    {
     "data": {
      "text/markdown": [
       "<span style=\"color:#33cc33\">Correct:</span> \n",
       "\n",
       "The most straightforward solution is to use a third variable to temporarily store one of the old values. e.g.:\n",
       "\n",
       "    tmp = a\n",
       "    a = b\n",
       "    b = tmp\n",
       "\n",
       "If you've read lots of Python code, you might have seen the following trick to swap two variables in one line:\n",
       "\n",
       "    a, b = b, a\n",
       "\n",
       "We'll demystify this bit of Python magic later when we talk about *tuples*."
      ],
      "text/plain": [
       "Correct: \n",
       "\n",
       "The most straightforward solution is to use a third variable to temporarily store one of the old values. e.g.:\n",
       "\n",
       "    tmp = a\n",
       "    a = b\n",
       "    b = tmp\n",
       "\n",
       "If you've read lots of Python code, you might have seen the following trick to swap two variables in one line:\n",
       "\n",
       "    a, b = b, a\n",
       "\n",
       "We'll demystify this bit of Python magic later when we talk about *tuples*."
      ]
     },
     "metadata": {},
     "output_type": "display_data"
    }
   ],
   "source": [
    "########### Setup code - don't touch this part ######################\n",
    "# If you're curious, these are examples of lists. We'll talk about \n",
    "# them in depth a few lessons from now. For now, just know that they're\n",
    "# yet another type of Python object, like int or float.\n",
    "a = [1, 2, 3]\n",
    "b = [3, 2, 1]\n",
    "q2.store_original_ids()\n",
    "######################################################################\n",
    "\n",
    "# Your code goes here. Swap the values to which a and b refer.\n",
    "# If you get stuck, you can always uncomment one or both of the lines in\n",
    "# the next cell for a hint, or to peek at the solution.\n",
    "a, b = b, a\n",
    "######################################################################\n",
    "\n",
    "# Check your answer\n",
    "q2.check()"
   ]
  },
  {
   "cell_type": "code",
   "execution_count": 8,
   "id": "57052d8b",
   "metadata": {
    "execution": {
     "iopub.execute_input": "2021-08-04T07:29:15.337454Z",
     "iopub.status.busy": "2021-08-04T07:29:15.336687Z",
     "iopub.status.idle": "2021-08-04T07:29:15.339641Z",
     "shell.execute_reply": "2021-08-04T07:29:15.339078Z"
    },
    "papermill": {
     "duration": 0.033162,
     "end_time": "2021-08-04T07:29:15.339817",
     "exception": false,
     "start_time": "2021-08-04T07:29:15.306655",
     "status": "completed"
    },
    "tags": []
   },
   "outputs": [],
   "source": [
    "#q2.hint()"
   ]
  },
  {
   "cell_type": "code",
   "execution_count": 9,
   "id": "e0e5f056",
   "metadata": {
    "execution": {
     "iopub.execute_input": "2021-08-04T07:29:15.396100Z",
     "iopub.status.busy": "2021-08-04T07:29:15.395409Z",
     "iopub.status.idle": "2021-08-04T07:29:15.399127Z",
     "shell.execute_reply": "2021-08-04T07:29:15.398581Z"
    },
    "papermill": {
     "duration": 0.033525,
     "end_time": "2021-08-04T07:29:15.399366",
     "exception": false,
     "start_time": "2021-08-04T07:29:15.365841",
     "status": "completed"
    },
    "tags": []
   },
   "outputs": [],
   "source": [
    "#q2.solution()"
   ]
  },
  {
   "cell_type": "markdown",
   "id": "0b818bbe",
   "metadata": {
    "papermill": {
     "duration": 0.02471,
     "end_time": "2021-08-04T07:29:15.450069",
     "exception": false,
     "start_time": "2021-08-04T07:29:15.425359",
     "status": "completed"
    },
    "tags": []
   },
   "source": [
    "<hr/>\n",
    "\n",
    "# 3a.\n",
    "\n",
    "Add parentheses to the following expression so that it evaluates to 1."
   ]
  },
  {
   "cell_type": "code",
   "execution_count": 10,
   "id": "d9d7d3ec",
   "metadata": {
    "execution": {
     "iopub.execute_input": "2021-08-04T07:29:15.506638Z",
     "iopub.status.busy": "2021-08-04T07:29:15.505891Z",
     "iopub.status.idle": "2021-08-04T07:29:15.509967Z",
     "shell.execute_reply": "2021-08-04T07:29:15.510509Z",
     "shell.execute_reply.started": "2021-08-04T07:12:50.518424Z"
    },
    "papermill": {
     "duration": 0.03562,
     "end_time": "2021-08-04T07:29:15.510719",
     "exception": false,
     "start_time": "2021-08-04T07:29:15.475099",
     "status": "completed"
    },
    "tags": []
   },
   "outputs": [
    {
     "data": {
      "text/plain": [
       "1"
      ]
     },
     "execution_count": 10,
     "metadata": {},
     "output_type": "execute_result"
    }
   ],
   "source": [
    "(5 - 3) // 2"
   ]
  },
  {
   "cell_type": "code",
   "execution_count": 11,
   "id": "2b58a2c3",
   "metadata": {
    "execution": {
     "iopub.execute_input": "2021-08-04T07:29:15.567796Z",
     "iopub.status.busy": "2021-08-04T07:29:15.566728Z",
     "iopub.status.idle": "2021-08-04T07:29:15.570078Z",
     "shell.execute_reply": "2021-08-04T07:29:15.569369Z"
    },
    "papermill": {
     "duration": 0.033666,
     "end_time": "2021-08-04T07:29:15.570246",
     "exception": false,
     "start_time": "2021-08-04T07:29:15.536580",
     "status": "completed"
    },
    "tags": []
   },
   "outputs": [],
   "source": [
    "#q3.a.hint()"
   ]
  },
  {
   "cell_type": "code",
   "execution_count": 12,
   "id": "8d05de24",
   "metadata": {
    "execution": {
     "iopub.execute_input": "2021-08-04T07:29:15.628407Z",
     "iopub.status.busy": "2021-08-04T07:29:15.627512Z",
     "iopub.status.idle": "2021-08-04T07:29:15.633097Z",
     "shell.execute_reply": "2021-08-04T07:29:15.633678Z",
     "shell.execute_reply.started": "2021-08-04T07:13:00.270785Z"
    },
    "papermill": {
     "duration": 0.037837,
     "end_time": "2021-08-04T07:29:15.633889",
     "exception": false,
     "start_time": "2021-08-04T07:29:15.596052",
     "status": "completed"
    },
    "tags": []
   },
   "outputs": [
    {
     "data": {
      "application/javascript": [
       "parent.postMessage({\"jupyterEvent\": \"custom.exercise_interaction\", \"data\": {\"interactionType\": 3, \"questionType\": 4, \"questionId\": \"3.1_ArithmeticParensEasy\", \"learnToolsVersion\": \"0.3.4\", \"valueTowardsCompletion\": 0.0, \"failureMessage\": \"\", \"exceptionClass\": \"\", \"trace\": \"\", \"outcomeType\": 4}}, \"*\")"
      ],
      "text/plain": [
       "<IPython.core.display.Javascript object>"
      ]
     },
     "metadata": {},
     "output_type": "display_data"
    },
    {
     "data": {
      "text/markdown": [
       "<span style=\"color:#33cc99\">Solution:</span> \n",
       "```python\n",
       "(5 - 3) // 2\n",
       "```"
      ],
      "text/plain": [
       "Solution: \n",
       "```python\n",
       "(5 - 3) // 2\n",
       "```"
      ]
     },
     "metadata": {},
     "output_type": "display_data"
    }
   ],
   "source": [
    "# Check your answer (Run this code cell to receive credit!)\n",
    "q3.a.solution()"
   ]
  },
  {
   "cell_type": "markdown",
   "id": "c4071b96",
   "metadata": {
    "papermill": {
     "duration": 0.026354,
     "end_time": "2021-08-04T07:29:15.687755",
     "exception": false,
     "start_time": "2021-08-04T07:29:15.661401",
     "status": "completed"
    },
    "tags": []
   },
   "source": [
    "# 3b.  <span title=\"A bit spicy\" style=\"color: darkgreen \">🌶️</span>\n",
    "\n",
    "<small>Questions, like this one, marked a spicy pepper are a bit harder.</small>\n",
    "\n",
    "Add parentheses to the following expression so that it evaluates to 0."
   ]
  },
  {
   "cell_type": "code",
   "execution_count": 13,
   "id": "72bd3eed",
   "metadata": {
    "execution": {
     "iopub.execute_input": "2021-08-04T07:29:15.745589Z",
     "iopub.status.busy": "2021-08-04T07:29:15.744478Z",
     "iopub.status.idle": "2021-08-04T07:29:15.751377Z",
     "shell.execute_reply": "2021-08-04T07:29:15.751879Z",
     "shell.execute_reply.started": "2021-08-04T07:21:13.870822Z"
    },
    "papermill": {
     "duration": 0.03769,
     "end_time": "2021-08-04T07:29:15.752094",
     "exception": false,
     "start_time": "2021-08-04T07:29:15.714404",
     "status": "completed"
    },
    "tags": []
   },
   "outputs": [
    {
     "data": {
      "text/plain": [
       "0"
      ]
     },
     "execution_count": 13,
     "metadata": {},
     "output_type": "execute_result"
    }
   ],
   "source": [
    "8 - 3 * 2 - (1 + 1)"
   ]
  },
  {
   "cell_type": "code",
   "execution_count": 14,
   "id": "0d2f79e8",
   "metadata": {
    "execution": {
     "iopub.execute_input": "2021-08-04T07:29:15.812908Z",
     "iopub.status.busy": "2021-08-04T07:29:15.812063Z",
     "iopub.status.idle": "2021-08-04T07:29:15.815600Z",
     "shell.execute_reply": "2021-08-04T07:29:15.814973Z"
    },
    "papermill": {
     "duration": 0.035184,
     "end_time": "2021-08-04T07:29:15.815799",
     "exception": false,
     "start_time": "2021-08-04T07:29:15.780615",
     "status": "completed"
    },
    "tags": []
   },
   "outputs": [],
   "source": [
    "#q3.b.hint()"
   ]
  },
  {
   "cell_type": "code",
   "execution_count": 15,
   "id": "9bf369f7",
   "metadata": {
    "execution": {
     "iopub.execute_input": "2021-08-04T07:29:15.879226Z",
     "iopub.status.busy": "2021-08-04T07:29:15.878489Z",
     "iopub.status.idle": "2021-08-04T07:29:15.885368Z",
     "shell.execute_reply": "2021-08-04T07:29:15.884636Z",
     "shell.execute_reply.started": "2021-08-04T07:21:27.244739Z"
    },
    "papermill": {
     "duration": 0.041525,
     "end_time": "2021-08-04T07:29:15.885539",
     "exception": false,
     "start_time": "2021-08-04T07:29:15.844014",
     "status": "completed"
    },
    "tags": []
   },
   "outputs": [
    {
     "data": {
      "application/javascript": [
       "parent.postMessage({\"jupyterEvent\": \"custom.exercise_interaction\", \"data\": {\"interactionType\": 3, \"questionType\": 4, \"questionId\": \"3.2_ArithmeticParensHard\", \"learnToolsVersion\": \"0.3.4\", \"valueTowardsCompletion\": 0.0, \"failureMessage\": \"\", \"exceptionClass\": \"\", \"trace\": \"\", \"outcomeType\": 4}}, \"*\")"
      ],
      "text/plain": [
       "<IPython.core.display.Javascript object>"
      ]
     },
     "metadata": {},
     "output_type": "display_data"
    },
    {
     "data": {
      "text/markdown": [
       "<span style=\"color:#33cc99\">Solution:</span> `(8 - 3) * (2 - (1 + 1))` is one solution. There may be others."
      ],
      "text/plain": [
       "Solution: `(8 - 3) * (2 - (1 + 1))` is one solution. There may be others."
      ]
     },
     "metadata": {},
     "output_type": "display_data"
    }
   ],
   "source": [
    "# Check your answer (Run this code cell to receive credit!)\n",
    "q3.b.solution()"
   ]
  },
  {
   "cell_type": "markdown",
   "id": "8a5b3485",
   "metadata": {
    "papermill": {
     "duration": 0.02804,
     "end_time": "2021-08-04T07:29:15.941786",
     "exception": false,
     "start_time": "2021-08-04T07:29:15.913746",
     "status": "completed"
    },
    "tags": []
   },
   "source": [
    "<hr/>\n",
    "\n",
    "# 4. \n",
    "Alice, Bob and Carol have agreed to pool their Halloween candy and split it evenly among themselves.\n",
    "For the sake of their friendship, any candies left over will be smashed. For example, if they collectively\n",
    "bring home 91 candies, they'll take 30 each and smash 1.\n",
    "\n",
    "Write an arithmetic expression below to calculate how many candies they must smash for a given haul."
   ]
  },
  {
   "cell_type": "code",
   "execution_count": 16,
   "id": "e0ea2b52",
   "metadata": {
    "execution": {
     "iopub.execute_input": "2021-08-04T07:29:16.004513Z",
     "iopub.status.busy": "2021-08-04T07:29:16.003401Z",
     "iopub.status.idle": "2021-08-04T07:29:16.014455Z",
     "shell.execute_reply": "2021-08-04T07:29:16.013845Z",
     "shell.execute_reply.started": "2021-08-04T07:24:00.948958Z"
    },
    "papermill": {
     "duration": 0.04403,
     "end_time": "2021-08-04T07:29:16.014627",
     "exception": false,
     "start_time": "2021-08-04T07:29:15.970597",
     "status": "completed"
    },
    "tags": []
   },
   "outputs": [
    {
     "data": {
      "application/javascript": [
       "parent.postMessage({\"jupyterEvent\": \"custom.exercise_interaction\", \"data\": {\"outcomeType\": 1, \"valueTowardsCompletion\": 0.25, \"interactionType\": 1, \"questionType\": 1, \"questionId\": \"4_CandySplitting\", \"learnToolsVersion\": \"0.3.4\", \"failureMessage\": \"\", \"exceptionClass\": \"\", \"trace\": \"\"}}, \"*\")"
      ],
      "text/plain": [
       "<IPython.core.display.Javascript object>"
      ]
     },
     "metadata": {},
     "output_type": "display_data"
    },
    {
     "data": {
      "text/markdown": [
       "<span style=\"color:#33cc33\">Correct</span>"
      ],
      "text/plain": [
       "Correct"
      ]
     },
     "metadata": {},
     "output_type": "display_data"
    }
   ],
   "source": [
    "# Variables representing the number of candies collected by alice, bob, and carol\n",
    "alice_candies = 121\n",
    "bob_candies = 77\n",
    "carol_candies = 109\n",
    "\n",
    "# Your code goes here! Replace the right-hand side of this assignment with an expression\n",
    "# involving alice_candies, bob_candies, and carol_candies\n",
    "to_smash = (alice_candies + bob_candies + carol_candies) % 3\n",
    "\n",
    "# Check your answer\n",
    "q4.check()"
   ]
  },
  {
   "cell_type": "code",
   "execution_count": 17,
   "id": "31b3f68e",
   "metadata": {
    "execution": {
     "iopub.execute_input": "2021-08-04T07:29:16.078126Z",
     "iopub.status.busy": "2021-08-04T07:29:16.077449Z",
     "iopub.status.idle": "2021-08-04T07:29:16.081767Z",
     "shell.execute_reply": "2021-08-04T07:29:16.081148Z"
    },
    "papermill": {
     "duration": 0.036798,
     "end_time": "2021-08-04T07:29:16.081951",
     "exception": false,
     "start_time": "2021-08-04T07:29:16.045153",
     "status": "completed"
    },
    "tags": []
   },
   "outputs": [],
   "source": [
    "#q4.hint()\n",
    "#q4.solution()"
   ]
  },
  {
   "cell_type": "markdown",
   "id": "205ea3de",
   "metadata": {
    "papermill": {
     "duration": 0.029039,
     "end_time": "2021-08-04T07:29:16.140910",
     "exception": false,
     "start_time": "2021-08-04T07:29:16.111871",
     "status": "completed"
    },
    "tags": []
   },
   "source": [
    "# Keep Going\n",
    "\n",
    "Next up, you'll **[learn to write new functions and understand functions others write](https://www.kaggle.com/colinmorris/functions-and-getting-help)**. This will make you at least 10 times more productive as a Python programmer. "
   ]
  },
  {
   "cell_type": "markdown",
   "id": "1b2b6357",
   "metadata": {
    "papermill": {
     "duration": 0.028586,
     "end_time": "2021-08-04T07:29:16.198513",
     "exception": false,
     "start_time": "2021-08-04T07:29:16.169927",
     "status": "completed"
    },
    "tags": []
   },
   "source": [
    "---\n",
    "\n",
    "\n",
    "\n",
    "\n",
    "*Have questions or comments? Visit the [Learn Discussion forum](https://www.kaggle.com/learn-forum/161283) to chat with other Learners.*"
   ]
  }
 ],
 "metadata": {
  "kernelspec": {
   "display_name": "Python 3",
   "language": "python",
   "name": "python3"
  },
  "language_info": {
   "codemirror_mode": {
    "name": "ipython",
    "version": 3
   },
   "file_extension": ".py",
   "mimetype": "text/x-python",
   "name": "python",
   "nbconvert_exporter": "python",
   "pygments_lexer": "ipython3",
   "version": "3.9.1"
  },
  "papermill": {
   "default_parameters": {},
   "duration": 12.881688,
   "end_time": "2021-08-04T07:29:17.140080",
   "environment_variables": {},
   "exception": null,
   "input_path": "__notebook__.ipynb",
   "output_path": "__notebook__.ipynb",
   "parameters": {},
   "start_time": "2021-08-04T07:29:04.258392",
   "version": "2.3.3"
  }
 },
 "nbformat": 4,
 "nbformat_minor": 5
}

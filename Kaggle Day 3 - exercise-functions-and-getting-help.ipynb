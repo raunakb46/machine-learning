{
 "cells": [
  {
   "cell_type": "markdown",
   "id": "fa9183c2",
   "metadata": {
    "papermill": {
     "duration": 0.014671,
     "end_time": "2021-08-05T11:00:57.394685",
     "exception": false,
     "start_time": "2021-08-05T11:00:57.380014",
     "status": "completed"
    },
    "tags": []
   },
   "source": [
    "**This notebook is an exercise in the [Python](https://www.kaggle.com/learn/python) course.  You can reference the tutorial at [this link](https://www.kaggle.com/colinmorris/functions-and-getting-help).**\n",
    "\n",
    "---\n"
   ]
  },
  {
   "cell_type": "markdown",
   "id": "b3e10215",
   "metadata": {
    "papermill": {
     "duration": 0.0134,
     "end_time": "2021-08-05T11:00:57.423683",
     "exception": false,
     "start_time": "2021-08-05T11:00:57.410283",
     "status": "completed"
    },
    "tags": []
   },
   "source": [
    "Functions are powerful. Try writing some yourself.\n",
    "\n",
    "As before, don't forget to run the setup code below before jumping into question 1."
   ]
  },
  {
   "cell_type": "code",
   "execution_count": 1,
   "id": "71cab39d",
   "metadata": {
    "_kg_hide-input": true,
    "_kg_hide-output": true,
    "execution": {
     "iopub.execute_input": "2021-08-05T11:00:57.465108Z",
     "iopub.status.busy": "2021-08-05T11:00:57.460721Z",
     "iopub.status.idle": "2021-08-05T11:00:57.597354Z",
     "shell.execute_reply": "2021-08-05T11:00:57.598067Z",
     "shell.execute_reply.started": "2021-08-05T10:42:57.382637Z"
    },
    "papermill": {
     "duration": 0.161108,
     "end_time": "2021-08-05T11:00:57.598441",
     "exception": false,
     "start_time": "2021-08-05T11:00:57.437333",
     "status": "completed"
    },
    "tags": []
   },
   "outputs": [
    {
     "name": "stdout",
     "output_type": "stream",
     "text": [
      "Setup complete.\n"
     ]
    }
   ],
   "source": [
    "# SETUP. You don't need to worry for now about what this code does or how it works.\n",
    "from learntools.core import binder; binder.bind(globals())\n",
    "from learntools.python.ex2 import *\n",
    "print('Setup complete.')"
   ]
  },
  {
   "cell_type": "markdown",
   "id": "a9ca7fc7",
   "metadata": {
    "papermill": {
     "duration": 0.013919,
     "end_time": "2021-08-05T11:00:57.627997",
     "exception": false,
     "start_time": "2021-08-05T11:00:57.614078",
     "status": "completed"
    },
    "tags": []
   },
   "source": [
    "# 1.\n",
    "\n",
    "Complete the body of the following function according to its docstring.\n",
    "\n",
    "HINT: Python has a built-in function `round`."
   ]
  },
  {
   "cell_type": "code",
   "execution_count": 2,
   "id": "85310a4e",
   "metadata": {
    "execution": {
     "iopub.execute_input": "2021-08-05T11:00:57.660434Z",
     "iopub.status.busy": "2021-08-05T11:00:57.659730Z",
     "iopub.status.idle": "2021-08-05T11:00:57.668623Z",
     "shell.execute_reply": "2021-08-05T11:00:57.669167Z",
     "shell.execute_reply.started": "2021-08-05T10:44:01.483978Z"
    },
    "papermill": {
     "duration": 0.02633,
     "end_time": "2021-08-05T11:00:57.669343",
     "exception": false,
     "start_time": "2021-08-05T11:00:57.643013",
     "status": "completed"
    },
    "tags": []
   },
   "outputs": [
    {
     "data": {
      "application/javascript": [
       "parent.postMessage({\"jupyterEvent\": \"custom.exercise_interaction\", \"data\": {\"outcomeType\": 1, \"valueTowardsCompletion\": 0.16666666666666666, \"interactionType\": 1, \"questionType\": 2, \"questionId\": \"1_RoundFunctionProblem\", \"learnToolsVersion\": \"0.3.4\", \"failureMessage\": \"\", \"exceptionClass\": \"\", \"trace\": \"\"}}, \"*\")"
      ],
      "text/plain": [
       "<IPython.core.display.Javascript object>"
      ]
     },
     "metadata": {},
     "output_type": "display_data"
    },
    {
     "data": {
      "text/markdown": [
       "<span style=\"color:#33cc33\">Correct</span>"
      ],
      "text/plain": [
       "Correct"
      ]
     },
     "metadata": {},
     "output_type": "display_data"
    }
   ],
   "source": [
    "def round_to_two_places(num):\n",
    "    \"\"\"Return the given number rounded to two decimal places. \n",
    "    \n",
    "    >>> round_to_two_places(3.14159)\n",
    "    3.14\n",
    "    \"\"\"\n",
    "    # Replace this body with your own code.\n",
    "    # (\"pass\" is a keyword that does literally nothing. We used it as a placeholder\n",
    "    # because after we begin a code block, Python requires at least one line of code)\n",
    "    return round(num, 2)\n",
    "\n",
    "# Check your answer\n",
    "q1.check()"
   ]
  },
  {
   "cell_type": "code",
   "execution_count": 3,
   "id": "dbecbcd6",
   "metadata": {
    "execution": {
     "iopub.execute_input": "2021-08-05T11:00:57.703628Z",
     "iopub.status.busy": "2021-08-05T11:00:57.702946Z",
     "iopub.status.idle": "2021-08-05T11:00:57.705865Z",
     "shell.execute_reply": "2021-08-05T11:00:57.706376Z"
    },
    "papermill": {
     "duration": 0.021889,
     "end_time": "2021-08-05T11:00:57.706593",
     "exception": false,
     "start_time": "2021-08-05T11:00:57.684704",
     "status": "completed"
    },
    "tags": []
   },
   "outputs": [],
   "source": [
    "# Uncomment the following for a hint\n",
    "#q1.hint()\n",
    "# Or uncomment the following to peek at the solution\n",
    "#q1.solution()"
   ]
  },
  {
   "cell_type": "markdown",
   "id": "dbb1e47b",
   "metadata": {
    "papermill": {
     "duration": 0.015118,
     "end_time": "2021-08-05T11:00:57.737004",
     "exception": false,
     "start_time": "2021-08-05T11:00:57.721886",
     "status": "completed"
    },
    "tags": []
   },
   "source": [
    "# 2.\n",
    "The help for `round` says that `ndigits` (the second argument) may be negative.\n",
    "What do you think will happen when it is? Try some examples in the following cell."
   ]
  },
  {
   "cell_type": "code",
   "execution_count": 4,
   "id": "614c77d6",
   "metadata": {
    "execution": {
     "iopub.execute_input": "2021-08-05T11:00:57.776947Z",
     "iopub.status.busy": "2021-08-05T11:00:57.776291Z",
     "iopub.status.idle": "2021-08-05T11:00:57.783828Z",
     "shell.execute_reply": "2021-08-05T11:00:57.784443Z",
     "shell.execute_reply.started": "2021-08-05T10:46:38.908957Z"
    },
    "papermill": {
     "duration": 0.030313,
     "end_time": "2021-08-05T11:00:57.784639",
     "exception": false,
     "start_time": "2021-08-05T11:00:57.754326",
     "status": "completed"
    },
    "tags": []
   },
   "outputs": [
    {
     "data": {
      "text/plain": [
       "338000"
      ]
     },
     "execution_count": 4,
     "metadata": {},
     "output_type": "execute_result"
    }
   ],
   "source": [
    "# Put your test code here\n",
    "round(338456, ndigits = -3)"
   ]
  },
  {
   "cell_type": "markdown",
   "id": "1d09a802",
   "metadata": {
    "papermill": {
     "duration": 0.02222,
     "end_time": "2021-08-05T11:00:57.827253",
     "exception": false,
     "start_time": "2021-08-05T11:00:57.805033",
     "status": "completed"
    },
    "tags": []
   },
   "source": [
    "Can you think of a case where this would be useful?  Once you're ready, run the code cell below to see the answer and to receive credit for completing the problem."
   ]
  },
  {
   "cell_type": "code",
   "execution_count": 5,
   "id": "d12e6963",
   "metadata": {
    "execution": {
     "iopub.execute_input": "2021-08-05T11:00:57.867813Z",
     "iopub.status.busy": "2021-08-05T11:00:57.867057Z",
     "iopub.status.idle": "2021-08-05T11:00:57.873215Z",
     "shell.execute_reply": "2021-08-05T11:00:57.873738Z",
     "shell.execute_reply.started": "2021-08-05T10:45:31.217858Z"
    },
    "papermill": {
     "duration": 0.030209,
     "end_time": "2021-08-05T11:00:57.873909",
     "exception": false,
     "start_time": "2021-08-05T11:00:57.843700",
     "status": "completed"
    },
    "tags": []
   },
   "outputs": [
    {
     "data": {
      "application/javascript": [
       "parent.postMessage({\"jupyterEvent\": \"custom.exercise_interaction\", \"data\": {\"interactionType\": 3, \"questionType\": 4, \"questionId\": \"2_RoundNdigitsProblem\", \"learnToolsVersion\": \"0.3.4\", \"valueTowardsCompletion\": 0.0, \"failureMessage\": \"\", \"exceptionClass\": \"\", \"trace\": \"\", \"outcomeType\": 4}}, \"*\")"
      ],
      "text/plain": [
       "<IPython.core.display.Javascript object>"
      ]
     },
     "metadata": {},
     "output_type": "display_data"
    },
    {
     "data": {
      "text/markdown": [
       "<span style=\"color:#33cc99\">Solution:</span> As you've seen, `ndigits=-1` rounds to the nearest 10, `ndigits=-2` rounds to the nearest 100 and so on. Where might this be useful? Suppose we're dealing with large numbers:\n",
       "\n",
       "> The area of Finland is 338,424 km²  \n",
       "> The area of Greenland is 2,166,086 km²\n",
       "\n",
       "We probably don't care whether it's really 338,424, or 338,425, or 338,177. All those digits of accuracy are just distracting. We can chop them off by calling `round()` with `ndigits=-3`:\n",
       "\n",
       "> The area of Finland is 338,000 km²  \n",
       "> The area of Greenland is 2,166,000 km²\n",
       "\n",
       "(We'll talk about how we would get the commas later when we talk about string formatting :))\n"
      ],
      "text/plain": [
       "Solution: As you've seen, `ndigits=-1` rounds to the nearest 10, `ndigits=-2` rounds to the nearest 100 and so on. Where might this be useful? Suppose we're dealing with large numbers:\n",
       "\n",
       "> The area of Finland is 338,424 km²  \n",
       "> The area of Greenland is 2,166,086 km²\n",
       "\n",
       "We probably don't care whether it's really 338,424, or 338,425, or 338,177. All those digits of accuracy are just distracting. We can chop them off by calling `round()` with `ndigits=-3`:\n",
       "\n",
       "> The area of Finland is 338,000 km²  \n",
       "> The area of Greenland is 2,166,000 km²\n",
       "\n",
       "(We'll talk about how we would get the commas later when we talk about string formatting :))"
      ]
     },
     "metadata": {},
     "output_type": "display_data"
    }
   ],
   "source": [
    "# Check your answer (Run this code cell to receive credit!)\n",
    "q2.solution()"
   ]
  },
  {
   "cell_type": "markdown",
   "id": "cf2a36ed",
   "metadata": {
    "papermill": {
     "duration": 0.016442,
     "end_time": "2021-08-05T11:00:57.907323",
     "exception": false,
     "start_time": "2021-08-05T11:00:57.890881",
     "status": "completed"
    },
    "tags": []
   },
   "source": [
    "# 3.\n",
    "\n",
    "In the previous exercise, the candy-sharing friends Alice, Bob and Carol tried to split candies evenly. For the sake of their friendship, any candies left over would be smashed. For example, if they collectively bring home 91 candies, they'll take 30 each and smash 1.\n",
    "\n",
    "Below is a simple function that will calculate the number of candies to smash for *any* number of total candies.\n",
    "\n",
    "Modify it so that it optionally takes a second argument representing the number of friends the candies are being split between. If no second argument is provided, it should assume 3 friends, as before.\n",
    "\n",
    "Update the docstring to reflect this new behaviour."
   ]
  },
  {
   "cell_type": "code",
   "execution_count": 6,
   "id": "194c5e6f",
   "metadata": {
    "execution": {
     "iopub.execute_input": "2021-08-05T11:00:57.947149Z",
     "iopub.status.busy": "2021-08-05T11:00:57.946227Z",
     "iopub.status.idle": "2021-08-05T11:00:57.950857Z",
     "shell.execute_reply": "2021-08-05T11:00:57.951419Z",
     "shell.execute_reply.started": "2021-08-05T10:56:52.817611Z"
    },
    "papermill": {
     "duration": 0.027526,
     "end_time": "2021-08-05T11:00:57.951611",
     "exception": false,
     "start_time": "2021-08-05T11:00:57.924085",
     "status": "completed"
    },
    "tags": []
   },
   "outputs": [
    {
     "data": {
      "application/javascript": [
       "parent.postMessage({\"jupyterEvent\": \"custom.exercise_interaction\", \"data\": {\"outcomeType\": 1, \"valueTowardsCompletion\": 0.16666666666666666, \"interactionType\": 1, \"questionType\": 2, \"questionId\": \"3_CandySmashingFunctionProblem\", \"learnToolsVersion\": \"0.3.4\", \"failureMessage\": \"\", \"exceptionClass\": \"\", \"trace\": \"\"}}, \"*\")"
      ],
      "text/plain": [
       "<IPython.core.display.Javascript object>"
      ]
     },
     "metadata": {},
     "output_type": "display_data"
    },
    {
     "data": {
      "text/markdown": [
       "<span style=\"color:#33cc33\">Correct</span>"
      ],
      "text/plain": [
       "Correct"
      ]
     },
     "metadata": {},
     "output_type": "display_data"
    }
   ],
   "source": [
    "def to_smash(total_candies, n = 3):\n",
    "    \"\"\"Return the number of leftover candies that must be smashed after distributing\n",
    "    the given number of candies evenly between n number of friends.\n",
    "    \n",
    "    >>> to_smash(91, 7)\n",
    "    0\n",
    "    \"\"\"\n",
    "    return total_candies % n\n",
    "    \n",
    "# Check your answer\n",
    "q3.check()"
   ]
  },
  {
   "cell_type": "code",
   "execution_count": 7,
   "id": "d85dbf9a",
   "metadata": {
    "execution": {
     "iopub.execute_input": "2021-08-05T11:00:57.990317Z",
     "iopub.status.busy": "2021-08-05T11:00:57.989659Z",
     "iopub.status.idle": "2021-08-05T11:00:57.997492Z",
     "shell.execute_reply": "2021-08-05T11:00:57.997942Z",
     "shell.execute_reply.started": "2021-08-05T10:55:13.527638Z"
    },
    "papermill": {
     "duration": 0.028573,
     "end_time": "2021-08-05T11:00:57.998140",
     "exception": false,
     "start_time": "2021-08-05T11:00:57.969567",
     "status": "completed"
    },
    "tags": []
   },
   "outputs": [
    {
     "data": {
      "application/javascript": [
       "parent.postMessage({\"jupyterEvent\": \"custom.exercise_interaction\", \"data\": {\"interactionType\": 2, \"questionType\": 2, \"questionId\": \"3_CandySmashingFunctionProblem\", \"learnToolsVersion\": \"0.3.4\", \"valueTowardsCompletion\": 0.0, \"failureMessage\": \"\", \"exceptionClass\": \"\", \"trace\": \"\", \"outcomeType\": 4}}, \"*\")"
      ],
      "text/plain": [
       "<IPython.core.display.Javascript object>"
      ]
     },
     "metadata": {},
     "output_type": "display_data"
    },
    {
     "data": {
      "text/markdown": [
       "<span style=\"color:#3366cc\">Hint:</span> Refer to the section of the last tutorial notebook where we talked about default arguments"
      ],
      "text/plain": [
       "Hint: Refer to the section of the last tutorial notebook where we talked about default arguments"
      ]
     },
     "metadata": {},
     "output_type": "display_data"
    }
   ],
   "source": [
    "q3.hint()"
   ]
  },
  {
   "cell_type": "code",
   "execution_count": 8,
   "id": "0bdc441a",
   "metadata": {
    "execution": {
     "iopub.execute_input": "2021-08-05T11:00:58.040188Z",
     "iopub.status.busy": "2021-08-05T11:00:58.039364Z",
     "iopub.status.idle": "2021-08-05T11:00:58.042299Z",
     "shell.execute_reply": "2021-08-05T11:00:58.041777Z"
    },
    "papermill": {
     "duration": 0.025557,
     "end_time": "2021-08-05T11:00:58.042447",
     "exception": false,
     "start_time": "2021-08-05T11:00:58.016890",
     "status": "completed"
    },
    "tags": []
   },
   "outputs": [],
   "source": [
    "#q3.solution()"
   ]
  },
  {
   "cell_type": "markdown",
   "id": "0eb7b9d2",
   "metadata": {
    "papermill": {
     "duration": 0.018277,
     "end_time": "2021-08-05T11:00:58.079441",
     "exception": false,
     "start_time": "2021-08-05T11:00:58.061164",
     "status": "completed"
    },
    "tags": []
   },
   "source": [
    "# 4. (Optional)\n",
    "\n",
    "It may not be fun, but reading and understanding error messages will be an important part of your Python career.\n",
    "\n",
    "Each code cell below contains some commented buggy code. For each cell...\n",
    "\n",
    "1. Read the code and predict what you think will happen when it's run.\n",
    "2. Then uncomment the code and run it to see what happens. (**Tip**: In the kernel editor, you can highlight several lines and press `ctrl`+`/` to toggle commenting.)\n",
    "3. Fix the code (so that it accomplishes its intended purpose without throwing an exception)\n",
    "\n",
    "<!-- TODO: should this be autochecked? Delta is probably pretty small. -->"
   ]
  },
  {
   "cell_type": "code",
   "execution_count": 9,
   "id": "d11676e1",
   "metadata": {
    "execution": {
     "iopub.execute_input": "2021-08-05T11:00:58.122273Z",
     "iopub.status.busy": "2021-08-05T11:00:58.121358Z",
     "iopub.status.idle": "2021-08-05T11:00:58.125718Z",
     "shell.execute_reply": "2021-08-05T11:00:58.125111Z",
     "shell.execute_reply.started": "2021-08-05T10:58:13.628501Z"
    },
    "papermill": {
     "duration": 0.027711,
     "end_time": "2021-08-05T11:00:58.125859",
     "exception": false,
     "start_time": "2021-08-05T11:00:58.098148",
     "status": "completed"
    },
    "tags": []
   },
   "outputs": [
    {
     "data": {
      "text/plain": [
       "10.0"
      ]
     },
     "execution_count": 9,
     "metadata": {},
     "output_type": "execute_result"
    }
   ],
   "source": [
    "round_to_two_places(9.9999)"
   ]
  },
  {
   "cell_type": "code",
   "execution_count": 10,
   "id": "dd0ace31",
   "metadata": {
    "execution": {
     "iopub.execute_input": "2021-08-05T11:00:58.167734Z",
     "iopub.status.busy": "2021-08-05T11:00:58.166726Z",
     "iopub.status.idle": "2021-08-05T11:00:58.173072Z",
     "shell.execute_reply": "2021-08-05T11:00:58.172463Z",
     "shell.execute_reply.started": "2021-08-05T10:59:34.943567Z"
    },
    "papermill": {
     "duration": 0.028283,
     "end_time": "2021-08-05T11:00:58.173211",
     "exception": false,
     "start_time": "2021-08-05T11:00:58.144928",
     "status": "completed"
    },
    "tags": []
   },
   "outputs": [
    {
     "name": "stdout",
     "output_type": "stream",
     "text": [
      "5\n"
     ]
    }
   ],
   "source": [
    "x = -10\n",
    "y = 5\n",
    "# Which of the two variables above has the smallest absolute value?\n",
    "smallest_abs = min(abs(x), y)\n",
    "print (smallest_abs)"
   ]
  },
  {
   "cell_type": "code",
   "execution_count": 11,
   "id": "89994fc6",
   "metadata": {
    "execution": {
     "iopub.execute_input": "2021-08-05T11:00:58.217485Z",
     "iopub.status.busy": "2021-08-05T11:00:58.216688Z",
     "iopub.status.idle": "2021-08-05T11:00:58.220478Z",
     "shell.execute_reply": "2021-08-05T11:00:58.221028Z",
     "shell.execute_reply.started": "2021-08-05T11:00:19.433746Z"
    },
    "papermill": {
     "duration": 0.028736,
     "end_time": "2021-08-05T11:00:58.221213",
     "exception": false,
     "start_time": "2021-08-05T11:00:58.192477",
     "status": "completed"
    },
    "tags": []
   },
   "outputs": [
    {
     "name": "stdout",
     "output_type": "stream",
     "text": [
      "5\n"
     ]
    }
   ],
   "source": [
    "def f(x):\n",
    "    y = abs(x)\n",
    "    return y\n",
    "\n",
    "print(f(5))"
   ]
  },
  {
   "cell_type": "markdown",
   "id": "9c487719",
   "metadata": {
    "papermill": {
     "duration": 0.019345,
     "end_time": "2021-08-05T11:00:58.260202",
     "exception": false,
     "start_time": "2021-08-05T11:00:58.240857",
     "status": "completed"
    },
    "tags": []
   },
   "source": [
    "# Keep Going\n",
    "\n",
    "Nice job with the code. Next up, you'll learn about *conditionals*, which you'll need to **[write interesting programs](https://www.kaggle.com/colinmorris/booleans-and-conditionals)**. "
   ]
  },
  {
   "cell_type": "markdown",
   "id": "fa2d695a",
   "metadata": {
    "papermill": {
     "duration": 0.019633,
     "end_time": "2021-08-05T11:00:58.299548",
     "exception": false,
     "start_time": "2021-08-05T11:00:58.279915",
     "status": "completed"
    },
    "tags": []
   },
   "source": [
    "---\n",
    "\n",
    "\n",
    "\n",
    "\n",
    "*Have questions or comments? Visit the [Learn Discussion forum](https://www.kaggle.com/learn-forum/161283) to chat with other Learners.*"
   ]
  }
 ],
 "metadata": {
  "kernelspec": {
   "display_name": "Python 3",
   "language": "python",
   "name": "python3"
  },
  "language_info": {
   "codemirror_mode": {
    "name": "ipython",
    "version": 3
   },
   "file_extension": ".py",
   "mimetype": "text/x-python",
   "name": "python",
   "nbconvert_exporter": "python",
   "pygments_lexer": "ipython3",
   "version": "3.9.1"
  },
  "papermill": {
   "default_parameters": {},
   "duration": 10.832086,
   "end_time": "2021-08-05T11:00:59.806536",
   "environment_variables": {},
   "exception": null,
   "input_path": "__notebook__.ipynb",
   "output_path": "__notebook__.ipynb",
   "parameters": {},
   "start_time": "2021-08-05T11:00:48.974450",
   "version": "2.3.3"
  }
 },
 "nbformat": 4,
 "nbformat_minor": 5
}

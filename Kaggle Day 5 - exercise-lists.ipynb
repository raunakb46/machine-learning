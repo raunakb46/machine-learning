{
 "cells": [
  {
   "cell_type": "markdown",
   "id": "dc1f20e6",
   "metadata": {
    "papermill": {
     "duration": 0.014893,
     "end_time": "2021-08-07T07:51:06.761832",
     "exception": false,
     "start_time": "2021-08-07T07:51:06.746939",
     "status": "completed"
    },
    "tags": []
   },
   "source": [
    "**This notebook is an exercise in the [Python](https://www.kaggle.com/learn/python) course.  You can reference the tutorial at [this link](https://www.kaggle.com/colinmorris/lists).**\n",
    "\n",
    "---\n"
   ]
  },
  {
   "cell_type": "markdown",
   "id": "c01f5cd1",
   "metadata": {
    "papermill": {
     "duration": 0.015633,
     "end_time": "2021-08-07T07:51:06.795844",
     "exception": false,
     "start_time": "2021-08-07T07:51:06.780211",
     "status": "completed"
    },
    "tags": []
   },
   "source": [
    "Things get more interesting with lists. You'll apply your new knowledge to solve the questions below. Remember to run the following cell first."
   ]
  },
  {
   "cell_type": "code",
   "execution_count": 1,
   "id": "c9e6161e",
   "metadata": {
    "execution": {
     "iopub.execute_input": "2021-08-07T07:51:06.840171Z",
     "iopub.status.busy": "2021-08-07T07:51:06.839176Z",
     "iopub.status.idle": "2021-08-07T07:51:06.967241Z",
     "shell.execute_reply": "2021-08-07T07:51:06.967730Z",
     "shell.execute_reply.started": "2021-08-07T07:29:08.046715Z"
    },
    "papermill": {
     "duration": 0.155909,
     "end_time": "2021-08-07T07:51:06.967999",
     "exception": false,
     "start_time": "2021-08-07T07:51:06.812090",
     "status": "completed"
    },
    "tags": []
   },
   "outputs": [
    {
     "name": "stdout",
     "output_type": "stream",
     "text": [
      "Setup complete.\n"
     ]
    }
   ],
   "source": [
    "from learntools.core import binder; binder.bind(globals())\n",
    "from learntools.python.ex4 import *\n",
    "print('Setup complete.')"
   ]
  },
  {
   "cell_type": "markdown",
   "id": "03ea10b7",
   "metadata": {
    "papermill": {
     "duration": 0.01397,
     "end_time": "2021-08-07T07:51:06.996513",
     "exception": false,
     "start_time": "2021-08-07T07:51:06.982543",
     "status": "completed"
    },
    "tags": []
   },
   "source": [
    "# 1.\n",
    "\n",
    "Complete the function below according to its docstring."
   ]
  },
  {
   "cell_type": "code",
   "execution_count": 2,
   "id": "2d541e4f",
   "metadata": {
    "execution": {
     "iopub.execute_input": "2021-08-07T07:51:07.034572Z",
     "iopub.status.busy": "2021-08-07T07:51:07.033561Z",
     "iopub.status.idle": "2021-08-07T07:51:07.039744Z",
     "shell.execute_reply": "2021-08-07T07:51:07.040259Z",
     "shell.execute_reply.started": "2021-08-07T07:32:16.518743Z"
    },
    "papermill": {
     "duration": 0.029077,
     "end_time": "2021-08-07T07:51:07.040468",
     "exception": false,
     "start_time": "2021-08-07T07:51:07.011391",
     "status": "completed"
    },
    "tags": []
   },
   "outputs": [
    {
     "data": {
      "application/javascript": [
       "parent.postMessage({\"jupyterEvent\": \"custom.exercise_interaction\", \"data\": {\"outcomeType\": 1, \"valueTowardsCompletion\": 0.2, \"interactionType\": 1, \"questionType\": 2, \"questionId\": \"1_SelectSecondItem\", \"learnToolsVersion\": \"0.3.4\", \"failureMessage\": \"\", \"exceptionClass\": \"\", \"trace\": \"\"}}, \"*\")"
      ],
      "text/plain": [
       "<IPython.core.display.Javascript object>"
      ]
     },
     "metadata": {},
     "output_type": "display_data"
    },
    {
     "data": {
      "text/markdown": [
       "<span style=\"color:#33cc33\">Correct</span>"
      ],
      "text/plain": [
       "Correct"
      ]
     },
     "metadata": {},
     "output_type": "display_data"
    }
   ],
   "source": [
    "def select_second(L):\n",
    "    \"\"\"Return the second element of the given list. If the list has no second\n",
    "    element, return None.\n",
    "    \"\"\"\n",
    "    if len(L) > 2:\n",
    "        return L[1]\n",
    "    else:\n",
    "        return None\n",
    "\n",
    "# Check your answer\n",
    "q1.check()"
   ]
  },
  {
   "cell_type": "code",
   "execution_count": 3,
   "id": "a5be9eb9",
   "metadata": {
    "collapsed": true,
    "execution": {
     "iopub.execute_input": "2021-08-07T07:51:07.075377Z",
     "iopub.status.busy": "2021-08-07T07:51:07.074741Z",
     "iopub.status.idle": "2021-08-07T07:51:07.076623Z",
     "shell.execute_reply": "2021-08-07T07:51:07.077095Z"
    },
    "jupyter": {
     "outputs_hidden": true
    },
    "papermill": {
     "duration": 0.021155,
     "end_time": "2021-08-07T07:51:07.077246",
     "exception": false,
     "start_time": "2021-08-07T07:51:07.056091",
     "status": "completed"
    },
    "tags": []
   },
   "outputs": [],
   "source": [
    "#q1.hint()\n",
    "#q1.solution()"
   ]
  },
  {
   "cell_type": "markdown",
   "id": "371a4e3a",
   "metadata": {
    "papermill": {
     "duration": 0.014866,
     "end_time": "2021-08-07T07:51:07.107926",
     "exception": false,
     "start_time": "2021-08-07T07:51:07.093060",
     "status": "completed"
    },
    "tags": []
   },
   "source": [
    "# 2.\n",
    "\n",
    "You are analyzing sports teams.  Members of each team are stored in a list. The Coach is the first name in the list, the captain is the second name in the list, and other players are listed after that. \n",
    "These lists are stored in another list, which starts with the best team and proceeds through the list to the worst team last.  Complete the function below to select the **captain** of the worst team."
   ]
  },
  {
   "cell_type": "code",
   "execution_count": 4,
   "id": "a17199b2",
   "metadata": {
    "execution": {
     "iopub.execute_input": "2021-08-07T07:51:07.142716Z",
     "iopub.status.busy": "2021-08-07T07:51:07.142010Z",
     "iopub.status.idle": "2021-08-07T07:51:07.150650Z",
     "shell.execute_reply": "2021-08-07T07:51:07.150129Z",
     "shell.execute_reply.started": "2021-08-07T07:38:22.243575Z"
    },
    "papermill": {
     "duration": 0.026991,
     "end_time": "2021-08-07T07:51:07.150792",
     "exception": false,
     "start_time": "2021-08-07T07:51:07.123801",
     "status": "completed"
    },
    "tags": []
   },
   "outputs": [
    {
     "data": {
      "application/javascript": [
       "parent.postMessage({\"jupyterEvent\": \"custom.exercise_interaction\", \"data\": {\"outcomeType\": 1, \"valueTowardsCompletion\": 0.2, \"interactionType\": 1, \"questionType\": 2, \"questionId\": \"2_LosingTeamCaptain\", \"learnToolsVersion\": \"0.3.4\", \"failureMessage\": \"\", \"exceptionClass\": \"\", \"trace\": \"\"}}, \"*\")"
      ],
      "text/plain": [
       "<IPython.core.display.Javascript object>"
      ]
     },
     "metadata": {},
     "output_type": "display_data"
    },
    {
     "data": {
      "text/markdown": [
       "<span style=\"color:#33cc33\">Correct</span>"
      ],
      "text/plain": [
       "Correct"
      ]
     },
     "metadata": {},
     "output_type": "display_data"
    }
   ],
   "source": [
    "def losing_team_captain(teams):\n",
    "    \"\"\"Given a list of teams, where each team is a list of names, return the 2nd player (captain)\n",
    "    from the last listed team\n",
    "    \"\"\"\n",
    "    return teams[-1][1]\n",
    "\n",
    "# Check your answer\n",
    "q2.check()"
   ]
  },
  {
   "cell_type": "code",
   "execution_count": 5,
   "id": "2690f35a",
   "metadata": {
    "execution": {
     "iopub.execute_input": "2021-08-07T07:51:07.189736Z",
     "iopub.status.busy": "2021-08-07T07:51:07.188768Z",
     "iopub.status.idle": "2021-08-07T07:51:07.198255Z",
     "shell.execute_reply": "2021-08-07T07:51:07.197734Z",
     "shell.execute_reply.started": "2021-08-07T07:38:12.404190Z"
    },
    "papermill": {
     "duration": 0.031088,
     "end_time": "2021-08-07T07:51:07.198389",
     "exception": false,
     "start_time": "2021-08-07T07:51:07.167301",
     "status": "completed"
    },
    "tags": []
   },
   "outputs": [
    {
     "data": {
      "application/javascript": [
       "parent.postMessage({\"jupyterEvent\": \"custom.exercise_interaction\", \"data\": {\"interactionType\": 2, \"questionType\": 2, \"questionId\": \"2_LosingTeamCaptain\", \"learnToolsVersion\": \"0.3.4\", \"valueTowardsCompletion\": 0.0, \"failureMessage\": \"\", \"exceptionClass\": \"\", \"trace\": \"\", \"outcomeType\": 4}}, \"*\")"
      ],
      "text/plain": [
       "<IPython.core.display.Javascript object>"
      ]
     },
     "metadata": {},
     "output_type": "display_data"
    },
    {
     "data": {
      "text/markdown": [
       "<span style=\"color:#3366cc\">Hint:</span> The last item in a list `L` can be selected with `L[-1]`. The first item in the first sublist would be selected as `L[0][0]`"
      ],
      "text/plain": [
       "Hint: The last item in a list `L` can be selected with `L[-1]`. The first item in the first sublist would be selected as `L[0][0]`"
      ]
     },
     "metadata": {},
     "output_type": "display_data"
    },
    {
     "data": {
      "application/javascript": [
       "parent.postMessage({\"jupyterEvent\": \"custom.exercise_interaction\", \"data\": {\"interactionType\": 3, \"questionType\": 2, \"questionId\": \"2_LosingTeamCaptain\", \"learnToolsVersion\": \"0.3.4\", \"valueTowardsCompletion\": 0.0, \"failureMessage\": \"\", \"exceptionClass\": \"\", \"trace\": \"\", \"outcomeType\": 4}}, \"*\")"
      ],
      "text/plain": [
       "<IPython.core.display.Javascript object>"
      ]
     },
     "metadata": {},
     "output_type": "display_data"
    },
    {
     "data": {
      "text/markdown": [
       "<span style=\"color:#33cc99\">Solution:</span> \n",
       "```python\n",
       "def losing_team_captain(teams):\n",
       "    return teams[-1][1]\n",
       "```"
      ],
      "text/plain": [
       "Solution: \n",
       "```python\n",
       "def losing_team_captain(teams):\n",
       "    return teams[-1][1]\n",
       "```"
      ]
     },
     "metadata": {},
     "output_type": "display_data"
    }
   ],
   "source": [
    "q2.hint()\n",
    "q2.solution()"
   ]
  },
  {
   "cell_type": "markdown",
   "id": "8bdcc09d",
   "metadata": {
    "papermill": {
     "duration": 0.017661,
     "end_time": "2021-08-07T07:51:07.234271",
     "exception": false,
     "start_time": "2021-08-07T07:51:07.216610",
     "status": "completed"
    },
    "tags": []
   },
   "source": [
    "# 3.\n",
    "\n",
    "The next iteration of Mario Kart will feature an extra-infuriating new item, the *Purple Shell*. When used, it warps the last place racer into first place and the first place racer into last place. Complete the function below to implement the Purple Shell's effect."
   ]
  },
  {
   "cell_type": "code",
   "execution_count": 6,
   "id": "60c3cb12",
   "metadata": {
    "execution": {
     "iopub.execute_input": "2021-08-07T07:51:07.273575Z",
     "iopub.status.busy": "2021-08-07T07:51:07.272931Z",
     "iopub.status.idle": "2021-08-07T07:51:07.280558Z",
     "shell.execute_reply": "2021-08-07T07:51:07.280088Z",
     "shell.execute_reply.started": "2021-08-07T07:41:27.319470Z"
    },
    "papermill": {
     "duration": 0.028245,
     "end_time": "2021-08-07T07:51:07.280700",
     "exception": false,
     "start_time": "2021-08-07T07:51:07.252455",
     "status": "completed"
    },
    "tags": []
   },
   "outputs": [
    {
     "data": {
      "application/javascript": [
       "parent.postMessage({\"jupyterEvent\": \"custom.exercise_interaction\", \"data\": {\"outcomeType\": 1, \"valueTowardsCompletion\": 0.2, \"interactionType\": 1, \"questionType\": 2, \"questionId\": \"3_PurpleShell\", \"learnToolsVersion\": \"0.3.4\", \"failureMessage\": \"\", \"exceptionClass\": \"\", \"trace\": \"\"}}, \"*\")"
      ],
      "text/plain": [
       "<IPython.core.display.Javascript object>"
      ]
     },
     "metadata": {},
     "output_type": "display_data"
    },
    {
     "data": {
      "text/markdown": [
       "<span style=\"color:#33cc33\">Correct</span>"
      ],
      "text/plain": [
       "Correct"
      ]
     },
     "metadata": {},
     "output_type": "display_data"
    }
   ],
   "source": [
    "def purple_shell(racers):\n",
    "    \"\"\"Given a list of racers, set the first place racer (at the front of the list) to last\n",
    "    place and vice versa.\n",
    "    \n",
    "    >>> r = [\"Mario\", \"Bowser\", \"Luigi\"]\n",
    "    >>> purple_shell(r)\n",
    "    >>> r\n",
    "    [\"Luigi\", \"Bowser\", \"Mario\"]\n",
    "    \"\"\"\n",
    "    racers[-1], racers[0] = racers[0], racers[-1]\n",
    "\n",
    "# Check your answer\n",
    "q3.check()"
   ]
  },
  {
   "cell_type": "code",
   "execution_count": 7,
   "id": "a61bd6df",
   "metadata": {
    "execution": {
     "iopub.execute_input": "2021-08-07T07:51:07.324049Z",
     "iopub.status.busy": "2021-08-07T07:51:07.323454Z",
     "iopub.status.idle": "2021-08-07T07:51:07.326240Z",
     "shell.execute_reply": "2021-08-07T07:51:07.325774Z"
    },
    "papermill": {
     "duration": 0.025571,
     "end_time": "2021-08-07T07:51:07.326389",
     "exception": false,
     "start_time": "2021-08-07T07:51:07.300818",
     "status": "completed"
    },
    "tags": []
   },
   "outputs": [],
   "source": [
    "#q3.hint()\n",
    "#q3.solution()"
   ]
  },
  {
   "cell_type": "markdown",
   "id": "fec4cbed",
   "metadata": {
    "papermill": {
     "duration": 0.018403,
     "end_time": "2021-08-07T07:51:07.363655",
     "exception": false,
     "start_time": "2021-08-07T07:51:07.345252",
     "status": "completed"
    },
    "tags": []
   },
   "source": [
    "# 4.\n",
    "\n",
    "What are the lengths of the following lists? Fill in the variable `lengths` with your predictions. (Try to make a prediction for each list *without* just calling `len()` on it.)"
   ]
  },
  {
   "cell_type": "code",
   "execution_count": 8,
   "id": "7349ff12",
   "metadata": {
    "execution": {
     "iopub.execute_input": "2021-08-07T07:51:07.408477Z",
     "iopub.status.busy": "2021-08-07T07:51:07.407807Z",
     "iopub.status.idle": "2021-08-07T07:51:07.412297Z",
     "shell.execute_reply": "2021-08-07T07:51:07.412805Z",
     "shell.execute_reply.started": "2021-08-07T07:44:25.184023Z"
    },
    "papermill": {
     "duration": 0.03025,
     "end_time": "2021-08-07T07:51:07.412972",
     "exception": false,
     "start_time": "2021-08-07T07:51:07.382722",
     "status": "completed"
    },
    "tags": []
   },
   "outputs": [
    {
     "data": {
      "application/javascript": [
       "parent.postMessage({\"jupyterEvent\": \"custom.exercise_interaction\", \"data\": {\"outcomeType\": 1, \"valueTowardsCompletion\": 0.2, \"interactionType\": 1, \"questionType\": 1, \"questionId\": \"4_UnderstandLen\", \"learnToolsVersion\": \"0.3.4\", \"failureMessage\": \"\", \"exceptionClass\": \"\", \"trace\": \"\"}}, \"*\")"
      ],
      "text/plain": [
       "<IPython.core.display.Javascript object>"
      ]
     },
     "metadata": {},
     "output_type": "display_data"
    },
    {
     "data": {
      "text/markdown": [
       "<span style=\"color:#33cc33\">Correct:</span> \n",
       "\n",
       "\n",
       "- a: There are three items in this list. Nothing tricky yet.\n",
       "- b: The list `[2, 3]` counts as a single item. It has one item before it. So we have 2 items in the list\n",
       "- c: The empty list has 0 items\n",
       "- d: The expression is the same as the list `[2, 3]`, which has length 2."
      ],
      "text/plain": [
       "Correct: \n",
       "\n",
       "\n",
       "- a: There are three items in this list. Nothing tricky yet.\n",
       "- b: The list `[2, 3]` counts as a single item. It has one item before it. So we have 2 items in the list\n",
       "- c: The empty list has 0 items\n",
       "- d: The expression is the same as the list `[2, 3]`, which has length 2."
      ]
     },
     "metadata": {},
     "output_type": "display_data"
    }
   ],
   "source": [
    "a = [1, 2, 3]\n",
    "b = [1, [2, 3]]\n",
    "c = []\n",
    "d = [1, 2, 3][1:]\n",
    "\n",
    "# Put your predictions in the list below. Lengths should contain 4 numbers, the\n",
    "# first being the length of a, the second being the length of b and so on.\n",
    "lengths = [3, 2, 0, 2]\n",
    "\n",
    "# Check your answer\n",
    "q4.check()"
   ]
  },
  {
   "cell_type": "code",
   "execution_count": 9,
   "id": "82370fea",
   "metadata": {
    "execution": {
     "iopub.execute_input": "2021-08-07T07:51:07.458618Z",
     "iopub.status.busy": "2021-08-07T07:51:07.457948Z",
     "iopub.status.idle": "2021-08-07T07:51:07.462862Z",
     "shell.execute_reply": "2021-08-07T07:51:07.462319Z",
     "shell.execute_reply.started": "2021-08-07T07:43:56.284165Z"
    },
    "papermill": {
     "duration": 0.029706,
     "end_time": "2021-08-07T07:51:07.462992",
     "exception": false,
     "start_time": "2021-08-07T07:51:07.433286",
     "status": "completed"
    },
    "tags": []
   },
   "outputs": [
    {
     "data": {
      "application/javascript": [
       "parent.postMessage({\"jupyterEvent\": \"custom.exercise_interaction\", \"data\": {\"interactionType\": 3, \"questionType\": 1, \"questionId\": \"4_UnderstandLen\", \"learnToolsVersion\": \"0.3.4\", \"valueTowardsCompletion\": 0.0, \"failureMessage\": \"\", \"exceptionClass\": \"\", \"trace\": \"\", \"outcomeType\": 4}}, \"*\")"
      ],
      "text/plain": [
       "<IPython.core.display.Javascript object>"
      ]
     },
     "metadata": {},
     "output_type": "display_data"
    },
    {
     "data": {
      "text/markdown": [
       "<span style=\"color:#33cc99\">Solution:</span> \n",
       "- a: There are three items in this list. Nothing tricky yet.\n",
       "- b: The list `[2, 3]` counts as a single item. It has one item before it. So we have 2 items in the list\n",
       "- c: The empty list has 0 items\n",
       "- d: The expression is the same as the list `[2, 3]`, which has length 2."
      ],
      "text/plain": [
       "Solution: \n",
       "- a: There are three items in this list. Nothing tricky yet.\n",
       "- b: The list `[2, 3]` counts as a single item. It has one item before it. So we have 2 items in the list\n",
       "- c: The empty list has 0 items\n",
       "- d: The expression is the same as the list `[2, 3]`, which has length 2."
      ]
     },
     "metadata": {},
     "output_type": "display_data"
    }
   ],
   "source": [
    "# line below provides some explanation\n",
    "q4.solution()"
   ]
  },
  {
   "cell_type": "markdown",
   "id": "93583419",
   "metadata": {
    "papermill": {
     "duration": 0.021175,
     "end_time": "2021-08-07T07:51:07.505547",
     "exception": false,
     "start_time": "2021-08-07T07:51:07.484372",
     "status": "completed"
    },
    "tags": []
   },
   "source": [
    "# 5. <span title=\"A bit spicy\" style=\"color: darkgreen \">🌶️</span>\n",
    "\n",
    "We're using lists to record people who attended our party and what order they arrived in. For example, the following list represents a party with 7 guests, in which Adela showed up first and Ford was the last to arrive:\n",
    "\n",
    "    party_attendees = ['Adela', 'Fleda', 'Owen', 'May', 'Mona', 'Gilbert', 'Ford']\n",
    "\n",
    "A guest is considered 'fashionably late' if they arrived after at least half of the party's guests. However, they must not be the very last guest (that's taking it too far). In the above example, Mona and Gilbert are the only guests who were fashionably late.\n",
    "\n",
    "Complete the function below which takes a list of party attendees as well as a person, and tells us whether that person is fashionably late."
   ]
  },
  {
   "cell_type": "code",
   "execution_count": 10,
   "id": "717f14da",
   "metadata": {
    "execution": {
     "iopub.execute_input": "2021-08-07T07:51:07.554089Z",
     "iopub.status.busy": "2021-08-07T07:51:07.553427Z",
     "iopub.status.idle": "2021-08-07T07:51:07.558321Z",
     "shell.execute_reply": "2021-08-07T07:51:07.557821Z",
     "shell.execute_reply.started": "2021-08-07T07:50:39.998610Z"
    },
    "papermill": {
     "duration": 0.031717,
     "end_time": "2021-08-07T07:51:07.558470",
     "exception": false,
     "start_time": "2021-08-07T07:51:07.526753",
     "status": "completed"
    },
    "tags": []
   },
   "outputs": [
    {
     "data": {
      "application/javascript": [
       "parent.postMessage({\"jupyterEvent\": \"custom.exercise_interaction\", \"data\": {\"outcomeType\": 1, \"valueTowardsCompletion\": 0.2, \"interactionType\": 1, \"questionType\": 2, \"questionId\": \"5_FashionablyLate\", \"learnToolsVersion\": \"0.3.4\", \"failureMessage\": \"\", \"exceptionClass\": \"\", \"trace\": \"\"}}, \"*\")"
      ],
      "text/plain": [
       "<IPython.core.display.Javascript object>"
      ]
     },
     "metadata": {},
     "output_type": "display_data"
    },
    {
     "data": {
      "text/markdown": [
       "<span style=\"color:#33cc33\">Correct</span>"
      ],
      "text/plain": [
       "Correct"
      ]
     },
     "metadata": {},
     "output_type": "display_data"
    }
   ],
   "source": [
    "def fashionably_late(arrivals, name):\n",
    "    \"\"\"Given an ordered list of arrivals to the party and a name, return whether the guest with that\n",
    "    name was fashionably late.\n",
    "    \"\"\"\n",
    "    order = arrivals.index(name)\n",
    "    return order >= len(arrivals) / 2 and order != len(arrivals) - 1\n",
    "\n",
    "# Check your answer\n",
    "q5.check()"
   ]
  },
  {
   "cell_type": "code",
   "execution_count": 11,
   "id": "718a6e62",
   "metadata": {
    "execution": {
     "iopub.execute_input": "2021-08-07T07:51:07.607541Z",
     "iopub.status.busy": "2021-08-07T07:51:07.606901Z",
     "iopub.status.idle": "2021-08-07T07:51:07.613758Z",
     "shell.execute_reply": "2021-08-07T07:51:07.614314Z",
     "shell.execute_reply.started": "2021-08-07T07:49:29.573622Z"
    },
    "papermill": {
     "duration": 0.034287,
     "end_time": "2021-08-07T07:51:07.614477",
     "exception": false,
     "start_time": "2021-08-07T07:51:07.580190",
     "status": "completed"
    },
    "tags": []
   },
   "outputs": [
    {
     "data": {
      "application/javascript": [
       "parent.postMessage({\"jupyterEvent\": \"custom.exercise_interaction\", \"data\": {\"interactionType\": 2, \"questionType\": 2, \"questionId\": \"5_FashionablyLate\", \"learnToolsVersion\": \"0.3.4\", \"valueTowardsCompletion\": 0.0, \"failureMessage\": \"\", \"exceptionClass\": \"\", \"trace\": \"\", \"outcomeType\": 4}}, \"*\")"
      ],
      "text/plain": [
       "<IPython.core.display.Javascript object>"
      ]
     },
     "metadata": {},
     "output_type": "display_data"
    },
    {
     "data": {
      "text/markdown": [
       "<span style=\"color:#3366cc\">Hint:</span> Use the index method to find when the person arrived. Check whether that is a fashionably late spot given the list length (`len`). Think about 0-indexing"
      ],
      "text/plain": [
       "Hint: Use the index method to find when the person arrived. Check whether that is a fashionably late spot given the list length (`len`). Think about 0-indexing"
      ]
     },
     "metadata": {},
     "output_type": "display_data"
    },
    {
     "data": {
      "application/javascript": [
       "parent.postMessage({\"jupyterEvent\": \"custom.exercise_interaction\", \"data\": {\"interactionType\": 3, \"questionType\": 2, \"questionId\": \"5_FashionablyLate\", \"learnToolsVersion\": \"0.3.4\", \"valueTowardsCompletion\": 0.0, \"failureMessage\": \"\", \"exceptionClass\": \"\", \"trace\": \"\", \"outcomeType\": 4}}, \"*\")"
      ],
      "text/plain": [
       "<IPython.core.display.Javascript object>"
      ]
     },
     "metadata": {},
     "output_type": "display_data"
    },
    {
     "data": {
      "text/markdown": [
       "<span style=\"color:#33cc99\">Solution:</span> \n",
       "```python\n",
       "def fashionably_late(arrivals, name):\n",
       "    order = arrivals.index(name)\n",
       "    return order >= len(arrivals) / 2 and order != len(arrivals) - 1\n",
       "```"
      ],
      "text/plain": [
       "Solution: \n",
       "```python\n",
       "def fashionably_late(arrivals, name):\n",
       "    order = arrivals.index(name)\n",
       "    return order >= len(arrivals) / 2 and order != len(arrivals) - 1\n",
       "```"
      ]
     },
     "metadata": {},
     "output_type": "display_data"
    }
   ],
   "source": [
    "q5.hint()\n",
    "q5.solution()"
   ]
  },
  {
   "cell_type": "markdown",
   "id": "15a6eaa5",
   "metadata": {
    "papermill": {
     "duration": 0.023358,
     "end_time": "2021-08-07T07:51:07.661752",
     "exception": false,
     "start_time": "2021-08-07T07:51:07.638394",
     "status": "completed"
    },
    "tags": []
   },
   "source": [
    "# Keep Going\n",
    "\n",
    "That's it for lists and tuples! Now you have the baseline knowledge to **[learn about loops](https://www.kaggle.com/colinmorris/loops-and-list-comprehensions)**, which is where lists and tuples get really interesting. "
   ]
  },
  {
   "cell_type": "markdown",
   "id": "21c489df",
   "metadata": {
    "papermill": {
     "duration": 0.02453,
     "end_time": "2021-08-07T07:51:07.710242",
     "exception": false,
     "start_time": "2021-08-07T07:51:07.685712",
     "status": "completed"
    },
    "tags": []
   },
   "source": [
    "---\n",
    "\n",
    "\n",
    "\n",
    "\n",
    "*Have questions or comments? Visit the [Learn Discussion forum](https://www.kaggle.com/learn-forum/161283) to chat with other Learners.*"
   ]
  }
 ],
 "metadata": {
  "kernelspec": {
   "display_name": "Python 3",
   "language": "python",
   "name": "python3"
  },
  "language_info": {
   "codemirror_mode": {
    "name": "ipython",
    "version": 3
   },
   "file_extension": ".py",
   "mimetype": "text/x-python",
   "name": "python",
   "nbconvert_exporter": "python",
   "pygments_lexer": "ipython3",
   "version": "3.7.10"
  },
  "papermill": {
   "default_parameters": {},
   "duration": 9.277417,
   "end_time": "2021-08-07T07:51:08.343281",
   "environment_variables": {},
   "exception": null,
   "input_path": "__notebook__.ipynb",
   "output_path": "__notebook__.ipynb",
   "parameters": {},
   "start_time": "2021-08-07T07:50:59.065864",
   "version": "2.3.3"
  }
 },
 "nbformat": 4,
 "nbformat_minor": 5
}

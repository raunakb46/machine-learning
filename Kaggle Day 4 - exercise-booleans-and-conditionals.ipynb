{
 "cells": [
  {
   "cell_type": "markdown",
   "id": "49872580",
   "metadata": {
    "papermill": {
     "duration": 0.035139,
     "end_time": "2021-08-06T11:29:21.009206",
     "exception": false,
     "start_time": "2021-08-06T11:29:20.974067",
     "status": "completed"
    },
    "tags": []
   },
   "source": [
    "**This notebook is an exercise in the [Python](https://www.kaggle.com/learn/python) course.  You can reference the tutorial at [this link](https://www.kaggle.com/colinmorris/booleans-and-conditionals).**\n",
    "\n",
    "---\n"
   ]
  },
  {
   "cell_type": "markdown",
   "id": "976e6a04",
   "metadata": {
    "papermill": {
     "duration": 0.033388,
     "end_time": "2021-08-06T11:29:21.077993",
     "exception": false,
     "start_time": "2021-08-06T11:29:21.044605",
     "status": "completed"
    },
    "tags": []
   },
   "source": [
    "In this exercise, you'll put to work what you have learned about booleans and conditionals.\n",
    "\n",
    "To get started, **run the setup code below** before writing your own code (and if you leave this notebook and come back later, don't forget to run the setup code again)."
   ]
  },
  {
   "cell_type": "code",
   "execution_count": 1,
   "id": "7276d4c3",
   "metadata": {
    "execution": {
     "iopub.execute_input": "2021-08-06T11:29:21.148352Z",
     "iopub.status.busy": "2021-08-06T11:29:21.147199Z",
     "iopub.status.idle": "2021-08-06T11:29:21.315789Z",
     "shell.execute_reply": "2021-08-06T11:29:21.316394Z",
     "shell.execute_reply.started": "2021-08-06T10:49:25.699230Z"
    },
    "papermill": {
     "duration": 0.205504,
     "end_time": "2021-08-06T11:29:21.316733",
     "exception": false,
     "start_time": "2021-08-06T11:29:21.111229",
     "status": "completed"
    },
    "tags": []
   },
   "outputs": [
    {
     "name": "stdout",
     "output_type": "stream",
     "text": [
      "Setup complete.\n"
     ]
    }
   ],
   "source": [
    "from learntools.core import binder; binder.bind(globals())\n",
    "from learntools.python.ex3 import *\n",
    "print('Setup complete.')"
   ]
  },
  {
   "cell_type": "markdown",
   "id": "d8e3b16a",
   "metadata": {
    "papermill": {
     "duration": 0.031955,
     "end_time": "2021-08-06T11:29:21.385072",
     "exception": false,
     "start_time": "2021-08-06T11:29:21.353117",
     "status": "completed"
    },
    "tags": []
   },
   "source": [
    "# 1.\n",
    "\n",
    "Many programming languages have [`sign`](https://en.wikipedia.org/wiki/Sign_function) available as a built-in function. Python doesn't, but we can define our own!\n",
    "\n",
    "In the cell below, define a function called `sign` which takes a numerical argument and returns -1 if it's negative, 1 if it's positive, and 0 if it's 0."
   ]
  },
  {
   "cell_type": "code",
   "execution_count": 2,
   "id": "6d92314b",
   "metadata": {
    "execution": {
     "iopub.execute_input": "2021-08-06T11:29:21.456646Z",
     "iopub.status.busy": "2021-08-06T11:29:21.453259Z",
     "iopub.status.idle": "2021-08-06T11:29:21.462132Z",
     "shell.execute_reply": "2021-08-06T11:29:21.461504Z",
     "shell.execute_reply.started": "2021-08-06T10:50:50.290085Z"
    },
    "papermill": {
     "duration": 0.045428,
     "end_time": "2021-08-06T11:29:21.462260",
     "exception": false,
     "start_time": "2021-08-06T11:29:21.416832",
     "status": "completed"
    },
    "tags": []
   },
   "outputs": [
    {
     "data": {
      "application/javascript": [
       "parent.postMessage({\"jupyterEvent\": \"custom.exercise_interaction\", \"data\": {\"outcomeType\": 1, \"valueTowardsCompletion\": 0.2, \"interactionType\": 1, \"questionType\": 2, \"questionId\": \"1_SignFunctionProblem\", \"learnToolsVersion\": \"0.3.4\", \"failureMessage\": \"\", \"exceptionClass\": \"\", \"trace\": \"\"}}, \"*\")"
      ],
      "text/plain": [
       "<IPython.core.display.Javascript object>"
      ]
     },
     "metadata": {},
     "output_type": "display_data"
    },
    {
     "data": {
      "text/markdown": [
       "<span style=\"color:#33cc33\">Correct</span>"
      ],
      "text/plain": [
       "Correct"
      ]
     },
     "metadata": {},
     "output_type": "display_data"
    }
   ],
   "source": [
    "# Your code goes here. Define a function called 'sign'\n",
    "def sign(x):\n",
    "    if x > 0:\n",
    "        return 1\n",
    "    elif x < 0:\n",
    "        return -1\n",
    "    else:\n",
    "        return 0\n",
    "\n",
    "# Check your answer\n",
    "q1.check()"
   ]
  },
  {
   "cell_type": "code",
   "execution_count": 3,
   "id": "09036c78",
   "metadata": {
    "execution": {
     "iopub.execute_input": "2021-08-06T11:29:21.537644Z",
     "iopub.status.busy": "2021-08-06T11:29:21.537020Z",
     "iopub.status.idle": "2021-08-06T11:29:21.539248Z",
     "shell.execute_reply": "2021-08-06T11:29:21.539752Z"
    },
    "papermill": {
     "duration": 0.042727,
     "end_time": "2021-08-06T11:29:21.539900",
     "exception": false,
     "start_time": "2021-08-06T11:29:21.497173",
     "status": "completed"
    },
    "tags": []
   },
   "outputs": [],
   "source": [
    "#q1.solution()"
   ]
  },
  {
   "cell_type": "markdown",
   "id": "175cc8e9",
   "metadata": {
    "papermill": {
     "duration": 0.035456,
     "end_time": "2021-08-06T11:29:21.611435",
     "exception": false,
     "start_time": "2021-08-06T11:29:21.575979",
     "status": "completed"
    },
    "tags": []
   },
   "source": [
    "# 2.\n",
    "\n",
    "We've decided to add \"logging\" to our `to_smash` function from the previous exercise."
   ]
  },
  {
   "cell_type": "code",
   "execution_count": 4,
   "id": "2678bb62",
   "metadata": {
    "execution": {
     "iopub.execute_input": "2021-08-06T11:29:21.687459Z",
     "iopub.status.busy": "2021-08-06T11:29:21.686594Z",
     "iopub.status.idle": "2021-08-06T11:29:21.695381Z",
     "shell.execute_reply": "2021-08-06T11:29:21.694737Z",
     "shell.execute_reply.started": "2021-08-06T10:51:44.300693Z"
    },
    "papermill": {
     "duration": 0.048479,
     "end_time": "2021-08-06T11:29:21.695516",
     "exception": false,
     "start_time": "2021-08-06T11:29:21.647037",
     "status": "completed"
    },
    "tags": []
   },
   "outputs": [
    {
     "name": "stdout",
     "output_type": "stream",
     "text": [
      "Splitting 91 candies\n"
     ]
    },
    {
     "data": {
      "text/plain": [
       "1"
      ]
     },
     "execution_count": 4,
     "metadata": {},
     "output_type": "execute_result"
    }
   ],
   "source": [
    "def to_smash(total_candies):\n",
    "    \"\"\"Return the number of leftover candies that must be smashed after distributing\n",
    "    the given number of candies evenly between 3 friends.\n",
    "    \n",
    "    >>> to_smash(91)\n",
    "    1\n",
    "    \"\"\"\n",
    "    print(\"Splitting\", total_candies, \"candies\")\n",
    "    return total_candies % 3\n",
    "\n",
    "to_smash(91)"
   ]
  },
  {
   "cell_type": "markdown",
   "id": "72e1ccce",
   "metadata": {
    "papermill": {
     "duration": 0.035922,
     "end_time": "2021-08-06T11:29:21.768384",
     "exception": false,
     "start_time": "2021-08-06T11:29:21.732462",
     "status": "completed"
    },
    "tags": []
   },
   "source": [
    "What happens if we call it with `total_candies = 1`?"
   ]
  },
  {
   "cell_type": "code",
   "execution_count": 5,
   "id": "293208b9",
   "metadata": {
    "execution": {
     "iopub.execute_input": "2021-08-06T11:29:21.844373Z",
     "iopub.status.busy": "2021-08-06T11:29:21.843697Z",
     "iopub.status.idle": "2021-08-06T11:29:21.847843Z",
     "shell.execute_reply": "2021-08-06T11:29:21.847312Z",
     "shell.execute_reply.started": "2021-08-06T10:51:56.939137Z"
    },
    "papermill": {
     "duration": 0.043632,
     "end_time": "2021-08-06T11:29:21.847990",
     "exception": false,
     "start_time": "2021-08-06T11:29:21.804358",
     "status": "completed"
    },
    "tags": []
   },
   "outputs": [
    {
     "name": "stdout",
     "output_type": "stream",
     "text": [
      "Splitting 1 candies\n"
     ]
    },
    {
     "data": {
      "text/plain": [
       "1"
      ]
     },
     "execution_count": 5,
     "metadata": {},
     "output_type": "execute_result"
    }
   ],
   "source": [
    "to_smash(1)"
   ]
  },
  {
   "cell_type": "markdown",
   "id": "c2e0c37a",
   "metadata": {
    "papermill": {
     "duration": 0.03665,
     "end_time": "2021-08-06T11:29:21.921186",
     "exception": false,
     "start_time": "2021-08-06T11:29:21.884536",
     "status": "completed"
    },
    "tags": []
   },
   "source": [
    "That isn't great grammar!\n",
    "\n",
    "Modify the definition in the cell below to correct the grammar of our print statement. (If there's only one candy, we should use the singular \"candy\" instead of the plural \"candies\")"
   ]
  },
  {
   "cell_type": "code",
   "execution_count": 6,
   "id": "769171e0",
   "metadata": {
    "execution": {
     "iopub.execute_input": "2021-08-06T11:29:22.000346Z",
     "iopub.status.busy": "2021-08-06T11:29:21.999522Z",
     "iopub.status.idle": "2021-08-06T11:29:22.002763Z",
     "shell.execute_reply": "2021-08-06T11:29:22.003349Z",
     "shell.execute_reply.started": "2021-08-06T10:56:55.496176Z"
    },
    "papermill": {
     "duration": 0.045228,
     "end_time": "2021-08-06T11:29:22.003539",
     "exception": false,
     "start_time": "2021-08-06T11:29:21.958311",
     "status": "completed"
    },
    "tags": []
   },
   "outputs": [
    {
     "name": "stdout",
     "output_type": "stream",
     "text": [
      "Splitting 91 candies\n",
      "Splitting 1 candy\n"
     ]
    }
   ],
   "source": [
    "def to_smash(total_candies):\n",
    "    \"\"\"Return the number of leftover candies that must be smashed after distributing\n",
    "    the given number of candies evenly between 3 friends.\n",
    "    \n",
    "    >>> to_smash(91)\n",
    "    1\n",
    "    \"\"\"\n",
    "    print ('Splitting', total_candies, 'candy' if total_candies == 1 else 'candies')\n",
    "\n",
    "to_smash(91)\n",
    "to_smash(1)"
   ]
  },
  {
   "cell_type": "markdown",
   "id": "f6a3adf4",
   "metadata": {
    "papermill": {
     "duration": 0.036661,
     "end_time": "2021-08-06T11:29:22.077411",
     "exception": false,
     "start_time": "2021-08-06T11:29:22.040750",
     "status": "completed"
    },
    "tags": []
   },
   "source": [
    "To get credit for completing this problem, and to see the official answer, run the code cell below."
   ]
  },
  {
   "cell_type": "code",
   "execution_count": 7,
   "id": "2eb4cdde",
   "metadata": {
    "execution": {
     "iopub.execute_input": "2021-08-06T11:29:22.156977Z",
     "iopub.status.busy": "2021-08-06T11:29:22.156149Z",
     "iopub.status.idle": "2021-08-06T11:29:22.162817Z",
     "shell.execute_reply": "2021-08-06T11:29:22.163320Z",
     "shell.execute_reply.started": "2021-08-06T10:55:01.406541Z"
    },
    "papermill": {
     "duration": 0.04868,
     "end_time": "2021-08-06T11:29:22.163495",
     "exception": false,
     "start_time": "2021-08-06T11:29:22.114815",
     "status": "completed"
    },
    "tags": []
   },
   "outputs": [
    {
     "data": {
      "application/javascript": [
       "parent.postMessage({\"jupyterEvent\": \"custom.exercise_interaction\", \"data\": {\"interactionType\": 3, \"questionType\": 4, \"questionId\": \"2_PluralizationProblem\", \"learnToolsVersion\": \"0.3.4\", \"valueTowardsCompletion\": 0.0, \"failureMessage\": \"\", \"exceptionClass\": \"\", \"trace\": \"\", \"outcomeType\": 4}}, \"*\")"
      ],
      "text/plain": [
       "<IPython.core.display.Javascript object>"
      ]
     },
     "metadata": {},
     "output_type": "display_data"
    },
    {
     "data": {
      "text/markdown": [
       "<span style=\"color:#33cc99\">Solution:</span> A straightforward (and totally fine) solution is to replace the original `print` call with:\n",
       "\n",
       "```python\n",
       "if total_candies == 1:\n",
       "    print(\"Splitting 1 candy\")\n",
       "else:\n",
       "    print(\"Splitting\", total_candies, \"candies\")\n",
       "```\n",
       "\n",
       "Here's a slightly more succinct solution using a conditional expression:\n",
       "\n",
       "```python\n",
       "print(\"Splitting\", total_candies, \"candy\" if total_candies == 1 else \"candies\")\n",
       "```"
      ],
      "text/plain": [
       "Solution: A straightforward (and totally fine) solution is to replace the original `print` call with:\n",
       "\n",
       "```python\n",
       "if total_candies == 1:\n",
       "    print(\"Splitting 1 candy\")\n",
       "else:\n",
       "    print(\"Splitting\", total_candies, \"candies\")\n",
       "```\n",
       "\n",
       "Here's a slightly more succinct solution using a conditional expression:\n",
       "\n",
       "```python\n",
       "print(\"Splitting\", total_candies, \"candy\" if total_candies == 1 else \"candies\")\n",
       "```"
      ]
     },
     "metadata": {},
     "output_type": "display_data"
    }
   ],
   "source": [
    "# Check your answer (Run this code cell to receive credit!)\n",
    "q2.solution()"
   ]
  },
  {
   "cell_type": "markdown",
   "id": "cc2d8266",
   "metadata": {
    "papermill": {
     "duration": 0.035192,
     "end_time": "2021-08-06T11:29:22.234329",
     "exception": false,
     "start_time": "2021-08-06T11:29:22.199137",
     "status": "completed"
    },
    "tags": []
   },
   "source": [
    "# 3. <span title=\"A bit spicy\" style=\"color: darkgreen \">🌶️</span>\n",
    "\n",
    "In the tutorial, we talked about deciding whether we're prepared for the weather. I said that I'm safe from today's weather if...\n",
    "- I have an umbrella...\n",
    "- or if the rain isn't too heavy and I have a hood...\n",
    "- otherwise, I'm still fine unless it's raining *and* it's a workday\n",
    "\n",
    "The function below uses our first attempt at turning this logic into a Python expression. I claimed that there was a bug in that code. Can you find it?\n",
    "\n",
    "To prove that `prepared_for_weather` is buggy, come up with a set of inputs where either:\n",
    "- the function returns `False` (but should have returned `True`), or\n",
    "- the function returned `True` (but should have returned `False`).\n",
    "\n",
    "To get credit for completing this question, your code should return a <font color='#33cc33'>Correct</font> result."
   ]
  },
  {
   "cell_type": "code",
   "execution_count": 8,
   "id": "65f4d27c",
   "metadata": {
    "execution": {
     "iopub.execute_input": "2021-08-06T11:29:22.312625Z",
     "iopub.status.busy": "2021-08-06T11:29:22.311941Z",
     "iopub.status.idle": "2021-08-06T11:29:22.320054Z",
     "shell.execute_reply": "2021-08-06T11:29:22.319560Z",
     "shell.execute_reply.started": "2021-08-06T11:00:41.804426Z"
    },
    "papermill": {
     "duration": 0.050493,
     "end_time": "2021-08-06T11:29:22.320174",
     "exception": false,
     "start_time": "2021-08-06T11:29:22.269681",
     "status": "completed"
    },
    "tags": []
   },
   "outputs": [
    {
     "name": "stdout",
     "output_type": "stream",
     "text": [
      "False\n"
     ]
    },
    {
     "data": {
      "application/javascript": [
       "parent.postMessage({\"jupyterEvent\": \"custom.exercise_interaction\", \"data\": {\"outcomeType\": 1, \"valueTowardsCompletion\": 0.2, \"interactionType\": 1, \"questionType\": 1, \"questionId\": \"3_WeatherDebug\", \"learnToolsVersion\": \"0.3.4\", \"failureMessage\": \"\", \"exceptionClass\": \"\", \"trace\": \"\"}}, \"*\")"
      ],
      "text/plain": [
       "<IPython.core.display.Javascript object>"
      ]
     },
     "metadata": {},
     "output_type": "display_data"
    },
    {
     "data": {
      "text/markdown": [
       "<span style=\"color:#33cc33\">Correct:</span> \n",
       "\n",
       "One example of a failing test case is:\n",
       "\n",
       "```python\n",
       "have_umbrella = False\n",
       "rain_level = 0.0\n",
       "have_hood = False\n",
       "is_workday = False\n",
       "```\n",
       "\n",
       "Clearly we're prepared for the weather in this case. It's not raining. Not only that, it's not a workday, so we don't even need to leave the house! But our function will return False on these inputs.\n",
       "\n",
       "The key problem is that Python implictly parenthesizes the last part as:\n",
       "\n",
       "```python\n",
       "(not (rain_level > 0)) and is_workday\n",
       "```\n",
       "\n",
       "Whereas what we were trying to express would look more like:\n",
       "\n",
       "```python\n",
       "not (rain_level > 0 and is_workday)\n",
       "```\n"
      ],
      "text/plain": [
       "Correct: \n",
       "\n",
       "One example of a failing test case is:\n",
       "\n",
       "```python\n",
       "have_umbrella = False\n",
       "rain_level = 0.0\n",
       "have_hood = False\n",
       "is_workday = False\n",
       "```\n",
       "\n",
       "Clearly we're prepared for the weather in this case. It's not raining. Not only that, it's not a workday, so we don't even need to leave the house! But our function will return False on these inputs.\n",
       "\n",
       "The key problem is that Python implictly parenthesizes the last part as:\n",
       "\n",
       "```python\n",
       "(not (rain_level > 0)) and is_workday\n",
       "```\n",
       "\n",
       "Whereas what we were trying to express would look more like:\n",
       "\n",
       "```python\n",
       "not (rain_level > 0 and is_workday)\n",
       "```"
      ]
     },
     "metadata": {},
     "output_type": "display_data"
    }
   ],
   "source": [
    "def prepared_for_weather(have_umbrella, rain_level, have_hood, is_workday):\n",
    "    # Don't change this code. Our goal is just to find the bug, not fix it!\n",
    "    return have_umbrella or rain_level < 5 and have_hood or not rain_level > 0 and is_workday\n",
    "\n",
    "# Change the values of these inputs so they represent a case where prepared_for_weather\n",
    "# returns the wrong answer.\n",
    "have_umbrella = False\n",
    "rain_level = 10.0\n",
    "have_hood = False\n",
    "is_workday = False\n",
    "\n",
    "# Check what the function returns given the current values of the variables above\n",
    "actual = prepared_for_weather(have_umbrella, rain_level, have_hood, is_workday)\n",
    "print(actual)\n",
    "\n",
    "# Check your answer\n",
    "q3.check()"
   ]
  },
  {
   "cell_type": "code",
   "execution_count": 9,
   "id": "f46f471b",
   "metadata": {
    "execution": {
     "iopub.execute_input": "2021-08-06T11:29:22.378632Z",
     "iopub.status.busy": "2021-08-06T11:29:22.377697Z",
     "iopub.status.idle": "2021-08-06T11:29:22.380291Z",
     "shell.execute_reply": "2021-08-06T11:29:22.379665Z"
    },
    "papermill": {
     "duration": 0.033315,
     "end_time": "2021-08-06T11:29:22.380426",
     "exception": false,
     "start_time": "2021-08-06T11:29:22.347111",
     "status": "completed"
    },
    "tags": []
   },
   "outputs": [],
   "source": [
    "#q3.hint()\n",
    "#q3.solution()"
   ]
  },
  {
   "cell_type": "markdown",
   "id": "f55fa27d",
   "metadata": {
    "papermill": {
     "duration": 0.039857,
     "end_time": "2021-08-06T11:29:22.460350",
     "exception": false,
     "start_time": "2021-08-06T11:29:22.420493",
     "status": "completed"
    },
    "tags": []
   },
   "source": [
    "# 4.\n",
    "\n",
    "The function `is_negative` below is implemented correctly - it returns True if the given number is negative and False otherwise.\n",
    "\n",
    "However, it's more verbose than it needs to be. We can actually reduce the number of lines of code in this function by *75%* while keeping the same behaviour. \n",
    "\n",
    "See if you can come up with an equivalent body that uses just **one line** of code, and put it in the function `concise_is_negative`. (HINT: you don't even need Python's ternary syntax)"
   ]
  },
  {
   "cell_type": "code",
   "execution_count": 10,
   "id": "9322efe9",
   "metadata": {
    "execution": {
     "iopub.execute_input": "2021-08-06T11:29:22.543114Z",
     "iopub.status.busy": "2021-08-06T11:29:22.542306Z",
     "iopub.status.idle": "2021-08-06T11:29:22.548836Z",
     "shell.execute_reply": "2021-08-06T11:29:22.549224Z",
     "shell.execute_reply.started": "2021-08-06T11:03:11.780193Z"
    },
    "papermill": {
     "duration": 0.049005,
     "end_time": "2021-08-06T11:29:22.549356",
     "exception": false,
     "start_time": "2021-08-06T11:29:22.500351",
     "status": "completed"
    },
    "tags": []
   },
   "outputs": [
    {
     "data": {
      "application/javascript": [
       "parent.postMessage({\"jupyterEvent\": \"custom.exercise_interaction\", \"data\": {\"outcomeType\": 1, \"valueTowardsCompletion\": 0.2, \"interactionType\": 1, \"questionType\": 2, \"questionId\": \"4_ConciseIsNegative\", \"learnToolsVersion\": \"0.3.4\", \"failureMessage\": \"\", \"exceptionClass\": \"\", \"trace\": \"\"}}, \"*\")"
      ],
      "text/plain": [
       "<IPython.core.display.Javascript object>"
      ]
     },
     "metadata": {},
     "output_type": "display_data"
    },
    {
     "data": {
      "text/markdown": [
       "<span style=\"color:#33cc33\">Correct</span>"
      ],
      "text/plain": [
       "Correct"
      ]
     },
     "metadata": {},
     "output_type": "display_data"
    }
   ],
   "source": [
    "def is_negative(number):\n",
    "    if number < 0:\n",
    "        return True\n",
    "    else:\n",
    "        return False\n",
    "\n",
    "def concise_is_negative(number):\n",
    "    # Your code goes here (try to keep it to one line!)\n",
    "    return True if number < 0 else False\n",
    "\n",
    "# Check your answer\n",
    "q4.check()"
   ]
  },
  {
   "cell_type": "code",
   "execution_count": 11,
   "id": "42f9e09d",
   "metadata": {
    "execution": {
     "iopub.execute_input": "2021-08-06T11:29:22.614077Z",
     "iopub.status.busy": "2021-08-06T11:29:22.613322Z",
     "iopub.status.idle": "2021-08-06T11:29:22.618464Z",
     "shell.execute_reply": "2021-08-06T11:29:22.617824Z"
    },
    "papermill": {
     "duration": 0.039591,
     "end_time": "2021-08-06T11:29:22.618619",
     "exception": false,
     "start_time": "2021-08-06T11:29:22.579028",
     "status": "completed"
    },
    "tags": []
   },
   "outputs": [],
   "source": [
    "#q4.hint()\n",
    "#q4.solution()"
   ]
  },
  {
   "cell_type": "markdown",
   "id": "a287b5ea",
   "metadata": {
    "papermill": {
     "duration": 0.038267,
     "end_time": "2021-08-06T11:29:22.699916",
     "exception": false,
     "start_time": "2021-08-06T11:29:22.661649",
     "status": "completed"
    },
    "tags": []
   },
   "source": [
    "# 5a.\n",
    "\n",
    "The boolean variables `ketchup`, `mustard` and `onion` represent whether a customer wants a particular topping on their hot dog. We want to implement a number of boolean functions that correspond to some yes-or-no questions about the customer's order. For example:"
   ]
  },
  {
   "cell_type": "code",
   "execution_count": 12,
   "id": "a1a4040c",
   "metadata": {
    "execution": {
     "iopub.execute_input": "2021-08-06T11:29:22.779525Z",
     "iopub.status.busy": "2021-08-06T11:29:22.778903Z",
     "iopub.status.idle": "2021-08-06T11:29:22.783653Z",
     "shell.execute_reply": "2021-08-06T11:29:22.784100Z",
     "shell.execute_reply.started": "2021-08-06T11:03:57.349861Z"
    },
    "papermill": {
     "duration": 0.045516,
     "end_time": "2021-08-06T11:29:22.784229",
     "exception": false,
     "start_time": "2021-08-06T11:29:22.738713",
     "status": "completed"
    },
    "tags": []
   },
   "outputs": [],
   "source": [
    "def onionless(ketchup, mustard, onion):\n",
    "    \"\"\"Return whether the customer doesn't want onions.\n",
    "    \"\"\"\n",
    "    return not onion"
   ]
  },
  {
   "cell_type": "code",
   "execution_count": 13,
   "id": "5f3b6ba0",
   "metadata": {
    "execution": {
     "iopub.execute_input": "2021-08-06T11:29:22.863257Z",
     "iopub.status.busy": "2021-08-06T11:29:22.862699Z",
     "iopub.status.idle": "2021-08-06T11:29:22.869103Z",
     "shell.execute_reply": "2021-08-06T11:29:22.868514Z",
     "shell.execute_reply.started": "2021-08-06T11:05:20.945630Z"
    },
    "papermill": {
     "duration": 0.046679,
     "end_time": "2021-08-06T11:29:22.869208",
     "exception": false,
     "start_time": "2021-08-06T11:29:22.822529",
     "status": "completed"
    },
    "tags": []
   },
   "outputs": [
    {
     "data": {
      "application/javascript": [
       "parent.postMessage({\"jupyterEvent\": \"custom.exercise_interaction\", \"data\": {\"outcomeType\": 1, \"valueTowardsCompletion\": 0.2, \"interactionType\": 1, \"questionType\": 2, \"questionId\": \"5.1_AllToppings\", \"learnToolsVersion\": \"0.3.4\", \"failureMessage\": \"\", \"exceptionClass\": \"\", \"trace\": \"\"}}, \"*\")"
      ],
      "text/plain": [
       "<IPython.core.display.Javascript object>"
      ]
     },
     "metadata": {},
     "output_type": "display_data"
    },
    {
     "data": {
      "text/markdown": [
       "<span style=\"color:#33cc33\">Correct</span>"
      ],
      "text/plain": [
       "Correct"
      ]
     },
     "metadata": {},
     "output_type": "display_data"
    }
   ],
   "source": [
    "def wants_all_toppings(ketchup, mustard, onion):\n",
    "    \"\"\"Return whether the customer wants \"the works\" (all 3 toppings)\n",
    "    \"\"\"\n",
    "    return (ketchup and mustard and onion)\n",
    "\n",
    "# Check your answer\n",
    "q5.a.check()"
   ]
  },
  {
   "cell_type": "code",
   "execution_count": 14,
   "id": "eb2f9c21",
   "metadata": {
    "execution": {
     "iopub.execute_input": "2021-08-06T11:29:22.949695Z",
     "iopub.status.busy": "2021-08-06T11:29:22.949150Z",
     "iopub.status.idle": "2021-08-06T11:29:22.951363Z",
     "shell.execute_reply": "2021-08-06T11:29:22.951882Z"
    },
    "papermill": {
     "duration": 0.043666,
     "end_time": "2021-08-06T11:29:22.952027",
     "exception": false,
     "start_time": "2021-08-06T11:29:22.908361",
     "status": "completed"
    },
    "tags": []
   },
   "outputs": [],
   "source": [
    "#q5.a.hint()\n",
    "#q5.a.solution()"
   ]
  },
  {
   "cell_type": "markdown",
   "id": "b6d81b38",
   "metadata": {
    "papermill": {
     "duration": 0.039361,
     "end_time": "2021-08-06T11:29:23.030511",
     "exception": false,
     "start_time": "2021-08-06T11:29:22.991150",
     "status": "completed"
    },
    "tags": []
   },
   "source": [
    "# 5b.\n",
    "\n",
    "For the next function, fill in the body to match the English description in the docstring. "
   ]
  },
  {
   "cell_type": "code",
   "execution_count": 15,
   "id": "721930ea",
   "metadata": {
    "execution": {
     "iopub.execute_input": "2021-08-06T11:29:23.111759Z",
     "iopub.status.busy": "2021-08-06T11:29:23.111203Z",
     "iopub.status.idle": "2021-08-06T11:29:23.116319Z",
     "shell.execute_reply": "2021-08-06T11:29:23.116846Z",
     "shell.execute_reply.started": "2021-08-06T11:07:17.490426Z"
    },
    "papermill": {
     "duration": 0.046926,
     "end_time": "2021-08-06T11:29:23.116993",
     "exception": false,
     "start_time": "2021-08-06T11:29:23.070067",
     "status": "completed"
    },
    "tags": []
   },
   "outputs": [
    {
     "data": {
      "application/javascript": [
       "parent.postMessage({\"jupyterEvent\": \"custom.exercise_interaction\", \"data\": {\"outcomeType\": 1, \"valueTowardsCompletion\": 0.2, \"interactionType\": 1, \"questionType\": 2, \"questionId\": \"5.2_PlainDog\", \"learnToolsVersion\": \"0.3.4\", \"failureMessage\": \"\", \"exceptionClass\": \"\", \"trace\": \"\"}}, \"*\")"
      ],
      "text/plain": [
       "<IPython.core.display.Javascript object>"
      ]
     },
     "metadata": {},
     "output_type": "display_data"
    },
    {
     "data": {
      "text/markdown": [
       "<span style=\"color:#33cc33\">Correct:</span> \n",
       "\n",
       "One solution looks like:\n",
       "```python\n",
       "return not ketchup and not mustard and not onion\n",
       "```\n",
       "\n",
       "We can also [\"factor out\" the nots](https://en.wikipedia.org/wiki/De_Morgan%27s_laws) to get:\n",
       "\n",
       "```python\n",
       "return not (ketchup or mustard or onion)\n",
       "```"
      ],
      "text/plain": [
       "Correct: \n",
       "\n",
       "One solution looks like:\n",
       "```python\n",
       "return not ketchup and not mustard and not onion\n",
       "```\n",
       "\n",
       "We can also [\"factor out\" the nots](https://en.wikipedia.org/wiki/De_Morgan%27s_laws) to get:\n",
       "\n",
       "```python\n",
       "return not (ketchup or mustard or onion)\n",
       "```"
      ]
     },
     "metadata": {},
     "output_type": "display_data"
    }
   ],
   "source": [
    "def wants_plain_hotdog(ketchup, mustard, onion):\n",
    "    \"\"\"Return whether the customer wants a plain hot dog with no toppings.\n",
    "    \"\"\"\n",
    "    return not (ketchup or mustard or onion)\n",
    "\n",
    "# Check your answer\n",
    "q5.b.check()"
   ]
  },
  {
   "cell_type": "code",
   "execution_count": 16,
   "id": "014672fd",
   "metadata": {
    "execution": {
     "iopub.execute_input": "2021-08-06T11:29:23.201301Z",
     "iopub.status.busy": "2021-08-06T11:29:23.200784Z",
     "iopub.status.idle": "2021-08-06T11:29:23.204631Z",
     "shell.execute_reply": "2021-08-06T11:29:23.204033Z"
    },
    "papermill": {
     "duration": 0.04737,
     "end_time": "2021-08-06T11:29:23.204748",
     "exception": false,
     "start_time": "2021-08-06T11:29:23.157378",
     "status": "completed"
    },
    "tags": []
   },
   "outputs": [],
   "source": [
    "#q5.b.hint()\n",
    "#q5.b.solution()"
   ]
  },
  {
   "cell_type": "markdown",
   "id": "90b78917",
   "metadata": {
    "papermill": {
     "duration": 0.02863,
     "end_time": "2021-08-06T11:29:23.262655",
     "exception": false,
     "start_time": "2021-08-06T11:29:23.234025",
     "status": "completed"
    },
    "tags": []
   },
   "source": [
    "# 5c.\n",
    "\n",
    "You know what to do: for the next function, fill in the body to match the English description in the docstring."
   ]
  },
  {
   "cell_type": "code",
   "execution_count": 17,
   "id": "1966b906",
   "metadata": {
    "execution": {
     "iopub.execute_input": "2021-08-06T11:29:23.323807Z",
     "iopub.status.busy": "2021-08-06T11:29:23.323326Z",
     "iopub.status.idle": "2021-08-06T11:29:23.330044Z",
     "shell.execute_reply": "2021-08-06T11:29:23.330627Z",
     "shell.execute_reply.started": "2021-08-06T11:09:08.341299Z"
    },
    "papermill": {
     "duration": 0.039106,
     "end_time": "2021-08-06T11:29:23.330810",
     "exception": false,
     "start_time": "2021-08-06T11:29:23.291704",
     "status": "completed"
    },
    "tags": []
   },
   "outputs": [
    {
     "data": {
      "application/javascript": [
       "parent.postMessage({\"jupyterEvent\": \"custom.exercise_interaction\", \"data\": {\"outcomeType\": 1, \"valueTowardsCompletion\": 0.2, \"interactionType\": 1, \"questionType\": 2, \"questionId\": \"5.3_OneSauce\", \"learnToolsVersion\": \"0.3.4\", \"failureMessage\": \"\", \"exceptionClass\": \"\", \"trace\": \"\"}}, \"*\")"
      ],
      "text/plain": [
       "<IPython.core.display.Javascript object>"
      ]
     },
     "metadata": {},
     "output_type": "display_data"
    },
    {
     "data": {
      "text/markdown": [
       "<span style=\"color:#33cc33\">Correct</span>"
      ],
      "text/plain": [
       "Correct"
      ]
     },
     "metadata": {},
     "output_type": "display_data"
    }
   ],
   "source": [
    "def exactly_one_sauce(ketchup, mustard, onion):\n",
    "    \"\"\"Return whether the customer wants either ketchup or mustard, but not both.\n",
    "    (You may be familiar with this operation under the name \"exclusive or\")\n",
    "    \"\"\"\n",
    "    return ketchup ^ mustard\n",
    "\n",
    "# Check your answer\n",
    "q5.c.check()"
   ]
  },
  {
   "cell_type": "code",
   "execution_count": 18,
   "id": "be4a8c16",
   "metadata": {
    "execution": {
     "iopub.execute_input": "2021-08-06T11:29:23.425568Z",
     "iopub.status.busy": "2021-08-06T11:29:23.424919Z",
     "iopub.status.idle": "2021-08-06T11:29:23.427933Z",
     "shell.execute_reply": "2021-08-06T11:29:23.427390Z"
    },
    "papermill": {
     "duration": 0.051465,
     "end_time": "2021-08-06T11:29:23.428083",
     "exception": false,
     "start_time": "2021-08-06T11:29:23.376618",
     "status": "completed"
    },
    "tags": []
   },
   "outputs": [],
   "source": [
    "#q5.c.hint()\n",
    "#q5.c.solution()"
   ]
  },
  {
   "cell_type": "markdown",
   "id": "721c6028",
   "metadata": {
    "papermill": {
     "duration": 0.045606,
     "end_time": "2021-08-06T11:29:23.518220",
     "exception": false,
     "start_time": "2021-08-06T11:29:23.472614",
     "status": "completed"
    },
    "tags": []
   },
   "source": [
    "# 6. <span title=\"A bit spicy\" style=\"color: darkgreen \">🌶️</span>\n",
    "\n",
    "We’ve seen that calling `bool()` on an integer returns `False` if it’s equal to 0 and `True` otherwise. What happens if we call `int()` on a bool? Try it out in the notebook cell below.\n",
    "\n",
    "Can you take advantage of this to write a succinct function that corresponds to the English sentence \"does the customer want exactly one topping?\"?"
   ]
  },
  {
   "cell_type": "code",
   "execution_count": 19,
   "id": "36593a87",
   "metadata": {
    "execution": {
     "iopub.execute_input": "2021-08-06T11:29:23.615549Z",
     "iopub.status.busy": "2021-08-06T11:29:23.614848Z",
     "iopub.status.idle": "2021-08-06T11:29:23.622009Z",
     "shell.execute_reply": "2021-08-06T11:29:23.621444Z",
     "shell.execute_reply.started": "2021-08-06T11:15:56.009735Z"
    },
    "papermill": {
     "duration": 0.057754,
     "end_time": "2021-08-06T11:29:23.622136",
     "exception": false,
     "start_time": "2021-08-06T11:29:23.564382",
     "status": "completed"
    },
    "tags": []
   },
   "outputs": [
    {
     "data": {
      "application/javascript": [
       "parent.postMessage({\"jupyterEvent\": \"custom.exercise_interaction\", \"data\": {\"outcomeType\": 1, \"valueTowardsCompletion\": 0.2, \"interactionType\": 1, \"questionType\": 2, \"questionId\": \"6_OneTopping\", \"learnToolsVersion\": \"0.3.4\", \"failureMessage\": \"\", \"exceptionClass\": \"\", \"trace\": \"\"}}, \"*\")"
      ],
      "text/plain": [
       "<IPython.core.display.Javascript object>"
      ]
     },
     "metadata": {},
     "output_type": "display_data"
    },
    {
     "data": {
      "text/markdown": [
       "<span style=\"color:#33cc33\">Correct:</span> \n",
       "\n",
       "This condition would be pretty complicated to express using just `and`, `or` and `not`, but using boolean-to-integer conversion gives us this short solution:\n",
       "```python\n",
       "return (int(ketchup) + int(mustard) + int(onion)) == 1\n",
       "```\n",
       "\n",
       "Fun fact: we don't technically need to call `int` on the arguments. Just by doing addition with booleans, Python implicitly does the integer conversion. So we could also write...\n",
       "\n",
       "```python\n",
       "return (ketchup + mustard + onion) == 1\n",
       "```"
      ],
      "text/plain": [
       "Correct: \n",
       "\n",
       "This condition would be pretty complicated to express using just `and`, `or` and `not`, but using boolean-to-integer conversion gives us this short solution:\n",
       "```python\n",
       "return (int(ketchup) + int(mustard) + int(onion)) == 1\n",
       "```\n",
       "\n",
       "Fun fact: we don't technically need to call `int` on the arguments. Just by doing addition with booleans, Python implicitly does the integer conversion. So we could also write...\n",
       "\n",
       "```python\n",
       "return (ketchup + mustard + onion) == 1\n",
       "```"
      ]
     },
     "metadata": {},
     "output_type": "display_data"
    }
   ],
   "source": [
    "def exactly_one_topping(ketchup, mustard, onion):\n",
    "    \"\"\"Return whether the customer wants exactly one of the three available toppings\n",
    "    on their hot dog.\n",
    "    \"\"\"\n",
    "    xor = ketchup ^ mustard ^ onion\n",
    "    max_true = (not(ketchup and mustard)) and (not (mustard and onion)) and (not(onion and ketchup))\n",
    "    return xor and max_true\n",
    "\n",
    "# Check your answer\n",
    "q6.check()"
   ]
  },
  {
   "cell_type": "code",
   "execution_count": 20,
   "id": "2ac3c9f0",
   "metadata": {
    "execution": {
     "iopub.execute_input": "2021-08-06T11:29:23.711967Z",
     "iopub.status.busy": "2021-08-06T11:29:23.711387Z",
     "iopub.status.idle": "2021-08-06T11:29:23.714972Z",
     "shell.execute_reply": "2021-08-06T11:29:23.714392Z"
    },
    "papermill": {
     "duration": 0.049063,
     "end_time": "2021-08-06T11:29:23.715084",
     "exception": false,
     "start_time": "2021-08-06T11:29:23.666021",
     "status": "completed"
    },
    "tags": []
   },
   "outputs": [],
   "source": [
    "#q6.hint()\n",
    "#q6.solution()"
   ]
  },
  {
   "cell_type": "markdown",
   "id": "f706c3b4",
   "metadata": {
    "papermill": {
     "duration": 0.043202,
     "end_time": "2021-08-06T11:29:23.801555",
     "exception": false,
     "start_time": "2021-08-06T11:29:23.758353",
     "status": "completed"
    },
    "tags": []
   },
   "source": [
    "# 7. <span title=\"A bit spicy\" style=\"color: darkgreen \">🌶️</span> (Optional)\n",
    "\n",
    "In this problem we'll be working with a simplified version of [blackjack](https://en.wikipedia.org/wiki/Blackjack) (aka twenty-one). In this version there is one player (who you'll control) and a dealer. Play proceeds as follows:\n",
    "\n",
    "- The player is dealt two face-up cards. The dealer is dealt one face-up card.\n",
    "- The player may ask to be dealt another card ('hit') as many times as they wish. If the sum of their cards exceeds 21, they lose the round immediately.\n",
    "- The dealer then deals additional cards to himself until either:\n",
    "    - the sum of the dealer's cards exceeds 21, in which case the player wins the round\n",
    "    - the sum of the dealer's cards is greater than or equal to 17. If the player's total is greater than the dealer's, the player wins. Otherwise, the dealer wins (even in case of a tie).\n",
    "    \n",
    "When calculating the sum of cards, Jack, Queen, and King count for 10. Aces can count as 1 or 11 (when referring to a player's \"total\" above, we mean the largest total that can be made without exceeding 21. So e.g. A+8 = 19, A+8+8 = 17)\n",
    "\n",
    "For this problem, you'll write a function representing the player's decision-making strategy in this game. We've provided a very unintelligent implementation below:"
   ]
  },
  {
   "cell_type": "code",
   "execution_count": 21,
   "id": "63773637",
   "metadata": {
    "execution": {
     "iopub.execute_input": "2021-08-06T11:29:23.893170Z",
     "iopub.status.busy": "2021-08-06T11:29:23.892606Z",
     "iopub.status.idle": "2021-08-06T11:29:23.895208Z",
     "shell.execute_reply": "2021-08-06T11:29:23.894664Z",
     "shell.execute_reply.started": "2021-08-06T11:18:01.335092Z"
    },
    "papermill": {
     "duration": 0.050279,
     "end_time": "2021-08-06T11:29:23.895314",
     "exception": false,
     "start_time": "2021-08-06T11:29:23.845035",
     "status": "completed"
    },
    "tags": []
   },
   "outputs": [],
   "source": [
    "def should_hit(dealer_total, player_total, player_low_aces, player_high_aces):\n",
    "    \"\"\"Return True if the player should hit (request another card) given the current game\n",
    "    state, or False if the player should stay.\n",
    "    When calculating a hand's total value, we count aces as \"high\" (with value 11) if doing so\n",
    "    doesn't bring the total above 21, otherwise we count them as low (with value 1). \n",
    "    For example, if the player's hand is {A, A, A, 7}, we will count it as 11 + 1 + 1 + 7,\n",
    "    and therefore set player_total=20, player_low_aces=2, player_high_aces=1.\n",
    "    \"\"\"\n",
    "    return False"
   ]
  },
  {
   "cell_type": "markdown",
   "id": "b7a52a6f",
   "metadata": {
    "papermill": {
     "duration": 0.044579,
     "end_time": "2021-08-06T11:29:23.983046",
     "exception": false,
     "start_time": "2021-08-06T11:29:23.938467",
     "status": "completed"
    },
    "tags": []
   },
   "source": [
    "This very conservative agent *always* sticks with the hand of two cards that they're dealt.\n",
    "\n",
    "We'll be simulating games between your player agent and our own dealer agent by calling your function.\n",
    "\n",
    "Try running the function below to see an example of a simulated game:"
   ]
  },
  {
   "cell_type": "code",
   "execution_count": 22,
   "id": "9cec2282",
   "metadata": {
    "execution": {
     "iopub.execute_input": "2021-08-06T11:29:24.076162Z",
     "iopub.status.busy": "2021-08-06T11:29:24.075459Z",
     "iopub.status.idle": "2021-08-06T11:29:24.079520Z",
     "shell.execute_reply": "2021-08-06T11:29:24.078907Z",
     "shell.execute_reply.started": "2021-08-06T11:18:07.850329Z"
    },
    "papermill": {
     "duration": 0.052862,
     "end_time": "2021-08-06T11:29:24.079668",
     "exception": false,
     "start_time": "2021-08-06T11:29:24.026806",
     "status": "completed"
    },
    "tags": []
   },
   "outputs": [
    {
     "name": "stdout",
     "output_type": "stream",
     "text": [
      "Player starts with Q and K (total = 20)\n",
      "Dealer starts with 8\n",
      "\n",
      "__Player's turn__\n",
      "Player stays\n",
      "\n",
      "__Dealer's turn__\n",
      "Dealer hits and receives Q. (total = 18)\n",
      "Dealer stands.\n",
      "Player wins. 20 > 18\n"
     ]
    }
   ],
   "source": [
    "q7.simulate_one_game()"
   ]
  },
  {
   "cell_type": "markdown",
   "id": "7371771d",
   "metadata": {
    "papermill": {
     "duration": 0.046403,
     "end_time": "2021-08-06T11:29:24.173089",
     "exception": false,
     "start_time": "2021-08-06T11:29:24.126686",
     "status": "completed"
    },
    "tags": []
   },
   "source": [
    "The real test of your agent's mettle is their average win rate over many games. Try calling the function below to simulate 50000 games of blackjack (it may take a couple seconds):"
   ]
  },
  {
   "cell_type": "code",
   "execution_count": 23,
   "id": "031b6ac3",
   "metadata": {
    "execution": {
     "iopub.execute_input": "2021-08-06T11:29:24.291642Z",
     "iopub.status.busy": "2021-08-06T11:29:24.286362Z",
     "iopub.status.idle": "2021-08-06T11:29:25.651912Z",
     "shell.execute_reply": "2021-08-06T11:29:25.651372Z",
     "shell.execute_reply.started": "2021-08-06T11:18:42.645522Z"
    },
    "papermill": {
     "duration": 1.432211,
     "end_time": "2021-08-06T11:29:25.652069",
     "exception": false,
     "start_time": "2021-08-06T11:29:24.219858",
     "status": "completed"
    },
    "tags": []
   },
   "outputs": [
    {
     "name": "stdout",
     "output_type": "stream",
     "text": [
      "Player won 19011 out of 50000 games (win rate = 38.0%)\n"
     ]
    }
   ],
   "source": [
    "q7.simulate(n_games=50000)"
   ]
  },
  {
   "cell_type": "markdown",
   "id": "f6d8221e",
   "metadata": {
    "papermill": {
     "duration": 0.047488,
     "end_time": "2021-08-06T11:29:25.746727",
     "exception": false,
     "start_time": "2021-08-06T11:29:25.699239",
     "status": "completed"
    },
    "tags": []
   },
   "source": [
    "Our dumb agent that completely ignores the game state still manages to win shockingly often!\n",
    "\n",
    "Try adding some more smarts to the `should_hit` function and see how it affects the results."
   ]
  },
  {
   "cell_type": "code",
   "execution_count": 24,
   "id": "87112691",
   "metadata": {
    "execution": {
     "iopub.execute_input": "2021-08-06T11:29:25.854077Z",
     "iopub.status.busy": "2021-08-06T11:29:25.853407Z",
     "iopub.status.idle": "2021-08-06T11:29:27.519452Z",
     "shell.execute_reply": "2021-08-06T11:29:27.518832Z"
    },
    "papermill": {
     "duration": 1.725485,
     "end_time": "2021-08-06T11:29:27.519574",
     "exception": false,
     "start_time": "2021-08-06T11:29:25.794089",
     "status": "completed"
    },
    "tags": []
   },
   "outputs": [
    {
     "name": "stdout",
     "output_type": "stream",
     "text": [
      "Player won 19197 out of 50000 games (win rate = 38.4%)\n"
     ]
    }
   ],
   "source": [
    "def should_hit(dealer_total, player_total, player_low_aces, player_high_aces):\n",
    "    \"\"\"Return True if the player should hit (request another card) given the current game\n",
    "    state, or False if the player should stay.\n",
    "    When calculating a hand's total value, we count aces as \"high\" (with value 11) if doing so\n",
    "    doesn't bring the total above 21, otherwise we count them as low (with value 1). \n",
    "    For example, if the player's hand is {A, A, A, 7}, we will count it as 11 + 1 + 1 + 7,\n",
    "    and therefore set player_total=20, player_low_aces=2, player_high_aces=1.\n",
    "    \"\"\"\n",
    "    return False\n",
    "\n",
    "q7.simulate(n_games=50000)"
   ]
  },
  {
   "cell_type": "markdown",
   "id": "250f5e11",
   "metadata": {
    "papermill": {
     "duration": 0.049239,
     "end_time": "2021-08-06T11:29:27.618212",
     "exception": false,
     "start_time": "2021-08-06T11:29:27.568973",
     "status": "completed"
    },
    "tags": []
   },
   "source": [
    "# Keep Going\n",
    "\n",
    "Learn about **[lists and tuples](https://www.kaggle.com/colinmorris/lists)** to handle multiple items of data in a systematic way."
   ]
  },
  {
   "cell_type": "markdown",
   "id": "0b33e4e2",
   "metadata": {
    "papermill": {
     "duration": 0.048399,
     "end_time": "2021-08-06T11:29:27.715579",
     "exception": false,
     "start_time": "2021-08-06T11:29:27.667180",
     "status": "completed"
    },
    "tags": []
   },
   "source": [
    "---\n",
    "\n",
    "\n",
    "\n",
    "\n",
    "*Have questions or comments? Visit the [Learn Discussion forum](https://www.kaggle.com/learn-forum/161283) to chat with other Learners.*"
   ]
  }
 ],
 "metadata": {
  "kernelspec": {
   "display_name": "Python 3",
   "language": "python",
   "name": "python3"
  },
  "language_info": {
   "codemirror_mode": {
    "name": "ipython",
    "version": 3
   },
   "file_extension": ".py",
   "mimetype": "text/x-python",
   "name": "python",
   "nbconvert_exporter": "python",
   "pygments_lexer": "ipython3",
   "version": "3.7.10"
  },
  "papermill": {
   "default_parameters": {},
   "duration": 15.637918,
   "end_time": "2021-08-06T11:29:28.474264",
   "environment_variables": {},
   "exception": null,
   "input_path": "__notebook__.ipynb",
   "output_path": "__notebook__.ipynb",
   "parameters": {},
   "start_time": "2021-08-06T11:29:12.836346",
   "version": "2.3.3"
  }
 },
 "nbformat": 4,
 "nbformat_minor": 5
}

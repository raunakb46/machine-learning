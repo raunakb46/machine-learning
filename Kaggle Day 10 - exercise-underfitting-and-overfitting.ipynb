{
 "cells": [
  {
   "cell_type": "markdown",
   "id": "5b41485c",
   "metadata": {
    "papermill": {
     "duration": 0.010596,
     "end_time": "2021-08-12T06:15:02.037242",
     "exception": false,
     "start_time": "2021-08-12T06:15:02.026646",
     "status": "completed"
    },
    "tags": []
   },
   "source": [
    "**This notebook is an exercise in the [Introduction to Machine Learning](https://www.kaggle.com/learn/intro-to-machine-learning) course.  You can reference the tutorial at [this link](https://www.kaggle.com/dansbecker/underfitting-and-overfitting).**\n",
    "\n",
    "---\n"
   ]
  },
  {
   "cell_type": "markdown",
   "id": "4b13aa08",
   "metadata": {
    "papermill": {
     "duration": 0.008738,
     "end_time": "2021-08-12T06:15:02.057303",
     "exception": false,
     "start_time": "2021-08-12T06:15:02.048565",
     "status": "completed"
    },
    "tags": []
   },
   "source": [
    "## Recap\n",
    "You've built your first model, and now it's time to optimize the size of the tree to make better predictions. Run this cell to set up your coding environment where the previous step left off."
   ]
  },
  {
   "cell_type": "code",
   "execution_count": 1,
   "id": "e8793458",
   "metadata": {
    "execution": {
     "iopub.execute_input": "2021-08-12T06:15:02.093295Z",
     "iopub.status.busy": "2021-08-12T06:15:02.092353Z",
     "iopub.status.idle": "2021-08-12T06:15:03.186246Z",
     "shell.execute_reply": "2021-08-12T06:15:03.185351Z",
     "shell.execute_reply.started": "2021-08-12T06:03:56.822914Z"
    },
    "papermill": {
     "duration": 1.119893,
     "end_time": "2021-08-12T06:15:03.186410",
     "exception": false,
     "start_time": "2021-08-12T06:15:02.066517",
     "status": "completed"
    },
    "tags": []
   },
   "outputs": [
    {
     "name": "stdout",
     "output_type": "stream",
     "text": [
      "Validation MAE: 29,653\n",
      "\n",
      "Setup complete\n"
     ]
    }
   ],
   "source": [
    "# Code you have previously used to load data\n",
    "import pandas as pd\n",
    "from sklearn.metrics import mean_absolute_error\n",
    "from sklearn.model_selection import train_test_split\n",
    "from sklearn.tree import DecisionTreeRegressor\n",
    "\n",
    "\n",
    "# Path of the file to read\n",
    "iowa_file_path = '../input/home-data-for-ml-course/train.csv'\n",
    "\n",
    "home_data = pd.read_csv(iowa_file_path)\n",
    "# Create target object and call it y\n",
    "y = home_data.SalePrice\n",
    "# Create X\n",
    "features = ['LotArea', 'YearBuilt', '1stFlrSF', '2ndFlrSF', 'FullBath', 'BedroomAbvGr', 'TotRmsAbvGrd']\n",
    "X = home_data[features]\n",
    "\n",
    "# Split into validation and training data\n",
    "train_X, val_X, train_y, val_y = train_test_split(X, y, random_state=1)\n",
    "\n",
    "# Specify Model\n",
    "iowa_model = DecisionTreeRegressor(random_state=1)\n",
    "# Fit Model\n",
    "iowa_model.fit(train_X, train_y)\n",
    "\n",
    "# Make validation predictions and calculate mean absolute error\n",
    "val_predictions = iowa_model.predict(val_X)\n",
    "val_mae = mean_absolute_error(val_predictions, val_y)\n",
    "print(\"Validation MAE: {:,.0f}\".format(val_mae))\n",
    "\n",
    "# Set up code checking\n",
    "from learntools.core import binder\n",
    "binder.bind(globals())\n",
    "from learntools.machine_learning.ex5 import *\n",
    "print(\"\\nSetup complete\")"
   ]
  },
  {
   "cell_type": "markdown",
   "id": "fff7d5d5",
   "metadata": {
    "papermill": {
     "duration": 0.009195,
     "end_time": "2021-08-12T06:15:03.205796",
     "exception": false,
     "start_time": "2021-08-12T06:15:03.196601",
     "status": "completed"
    },
    "tags": []
   },
   "source": [
    "# Exercises\n",
    "You could write the function `get_mae` yourself. For now, we'll supply it. This is the same function you read about in the previous lesson. Just run the cell below."
   ]
  },
  {
   "cell_type": "code",
   "execution_count": 2,
   "id": "0dedeccd",
   "metadata": {
    "execution": {
     "iopub.execute_input": "2021-08-12T06:15:03.230885Z",
     "iopub.status.busy": "2021-08-12T06:15:03.230209Z",
     "iopub.status.idle": "2021-08-12T06:15:03.233334Z",
     "shell.execute_reply": "2021-08-12T06:15:03.232735Z",
     "shell.execute_reply.started": "2021-08-12T06:04:16.947431Z"
    },
    "papermill": {
     "duration": 0.018185,
     "end_time": "2021-08-12T06:15:03.233479",
     "exception": false,
     "start_time": "2021-08-12T06:15:03.215294",
     "status": "completed"
    },
    "tags": []
   },
   "outputs": [],
   "source": [
    "def get_mae(max_leaf_nodes, train_X, val_X, train_y, val_y):\n",
    "    model = DecisionTreeRegressor(max_leaf_nodes=max_leaf_nodes, random_state=0)\n",
    "    model.fit(train_X, train_y)\n",
    "    preds_val = model.predict(val_X)\n",
    "    mae = mean_absolute_error(val_y, preds_val)\n",
    "    return(mae)"
   ]
  },
  {
   "cell_type": "markdown",
   "id": "cc2f040b",
   "metadata": {
    "papermill": {
     "duration": 0.009272,
     "end_time": "2021-08-12T06:15:03.252568",
     "exception": false,
     "start_time": "2021-08-12T06:15:03.243296",
     "status": "completed"
    },
    "tags": []
   },
   "source": [
    "## Step 1: Compare Different Tree Sizes\n",
    "Write a loop that tries the following values for *max_leaf_nodes* from a set of possible values.\n",
    "\n",
    "Call the *get_mae* function on each value of max_leaf_nodes. Store the output in some way that allows you to select the value of `max_leaf_nodes` that gives the most accurate model on your data."
   ]
  },
  {
   "cell_type": "code",
   "execution_count": 3,
   "id": "4c4f8ca0",
   "metadata": {
    "execution": {
     "iopub.execute_input": "2021-08-12T06:15:03.280378Z",
     "iopub.status.busy": "2021-08-12T06:15:03.279721Z",
     "iopub.status.idle": "2021-08-12T06:15:03.337943Z",
     "shell.execute_reply": "2021-08-12T06:15:03.336851Z",
     "shell.execute_reply.started": "2021-08-12T06:09:44.836866Z"
    },
    "papermill": {
     "duration": 0.075962,
     "end_time": "2021-08-12T06:15:03.338162",
     "exception": false,
     "start_time": "2021-08-12T06:15:03.262200",
     "status": "completed"
    },
    "tags": []
   },
   "outputs": [
    {
     "name": "stdout",
     "output_type": "stream",
     "text": [
      "Max leaf node: 5 \t\t Mean Absolute Error: 35044.51299744237\n",
      "Max leaf node: 25 \t\t Mean Absolute Error: 29016.41319191076\n",
      "Max leaf node: 50 \t\t Mean Absolute Error: 27405.930473214907\n",
      "Max leaf node: 100 \t\t Mean Absolute Error: 27282.50803885739\n",
      "Max leaf node: 250 \t\t Mean Absolute Error: 27893.822225701646\n",
      "Max leaf node: 500 \t\t Mean Absolute Error: 29454.18598068598\n"
     ]
    },
    {
     "data": {
      "application/javascript": [
       "parent.postMessage({\"jupyterEvent\": \"custom.exercise_interaction\", \"data\": {\"outcomeType\": 1, \"valueTowardsCompletion\": 0.5, \"interactionType\": 1, \"questionType\": 1, \"questionId\": \"1_BestTreeSize\", \"learnToolsVersion\": \"0.3.4\", \"failureMessage\": \"\", \"exceptionClass\": \"\", \"trace\": \"\"}}, \"*\")"
      ],
      "text/plain": [
       "<IPython.core.display.Javascript object>"
      ]
     },
     "metadata": {},
     "output_type": "display_data"
    },
    {
     "data": {
      "text/markdown": [
       "<span style=\"color:#33cc33\">Correct</span>"
      ],
      "text/plain": [
       "Correct"
      ]
     },
     "metadata": {},
     "output_type": "display_data"
    }
   ],
   "source": [
    "candidate_max_leaf_nodes = [5, 25, 50, 100, 250, 500]\n",
    "# Write loop to find the ideal tree size from candidate_max_leaf_nodes\n",
    "for i in candidate_max_leaf_nodes:\n",
    "    ideal = get_mae(i, train_X, val_X, train_y, val_y)\n",
    "    print ('Max leaf node: {} \\t\\t Mean Absolute Error: {}'.format(i, ideal))\n",
    "\n",
    "# Store the best value of max_leaf_nodes (it will be either 5, 25, 50, 100, 250 or 500)\n",
    "best_tree_size = 100\n",
    "\n",
    "# Check your answer\n",
    "step_1.check()"
   ]
  },
  {
   "cell_type": "code",
   "execution_count": 4,
   "id": "7166c123",
   "metadata": {
    "execution": {
     "iopub.execute_input": "2021-08-12T06:15:03.372231Z",
     "iopub.status.busy": "2021-08-12T06:15:03.371289Z",
     "iopub.status.idle": "2021-08-12T06:15:03.376778Z",
     "shell.execute_reply": "2021-08-12T06:15:03.376211Z"
    },
    "papermill": {
     "duration": 0.023058,
     "end_time": "2021-08-12T06:15:03.376927",
     "exception": false,
     "start_time": "2021-08-12T06:15:03.353869",
     "status": "completed"
    },
    "tags": []
   },
   "outputs": [],
   "source": [
    "# The lines below will show you a hint or the solution.\n",
    "# step_1.hint() \n",
    "# step_1.solution()"
   ]
  },
  {
   "cell_type": "markdown",
   "id": "3f5854bc",
   "metadata": {
    "papermill": {
     "duration": 0.015094,
     "end_time": "2021-08-12T06:15:03.408957",
     "exception": false,
     "start_time": "2021-08-12T06:15:03.393863",
     "status": "completed"
    },
    "tags": []
   },
   "source": [
    "## Step 2: Fit Model Using All Data\n",
    "You know the best tree size. If you were going to deploy this model in practice, you would make it even more accurate by using all of the data and keeping that tree size.  That is, you don't need to hold out the validation data now that you've made all your modeling decisions."
   ]
  },
  {
   "cell_type": "code",
   "execution_count": 5,
   "id": "b510b5a0",
   "metadata": {
    "execution": {
     "iopub.execute_input": "2021-08-12T06:15:03.446409Z",
     "iopub.status.busy": "2021-08-12T06:15:03.445428Z",
     "iopub.status.idle": "2021-08-12T06:15:03.458995Z",
     "shell.execute_reply": "2021-08-12T06:15:03.458356Z",
     "shell.execute_reply.started": "2021-08-12T06:14:38.697568Z"
    },
    "papermill": {
     "duration": 0.036781,
     "end_time": "2021-08-12T06:15:03.459134",
     "exception": false,
     "start_time": "2021-08-12T06:15:03.422353",
     "status": "completed"
    },
    "tags": []
   },
   "outputs": [
    {
     "data": {
      "application/javascript": [
       "parent.postMessage({\"jupyterEvent\": \"custom.exercise_interaction\", \"data\": {\"outcomeType\": 1, \"valueTowardsCompletion\": 0.5, \"interactionType\": 1, \"questionType\": 2, \"questionId\": \"2_FitModelWithAllData\", \"learnToolsVersion\": \"0.3.4\", \"failureMessage\": \"\", \"exceptionClass\": \"\", \"trace\": \"\"}}, \"*\")"
      ],
      "text/plain": [
       "<IPython.core.display.Javascript object>"
      ]
     },
     "metadata": {},
     "output_type": "display_data"
    },
    {
     "data": {
      "text/markdown": [
       "<span style=\"color:#33cc33\">Correct</span>"
      ],
      "text/plain": [
       "Correct"
      ]
     },
     "metadata": {},
     "output_type": "display_data"
    }
   ],
   "source": [
    "# Fill in argument to make optimal size and uncomment\n",
    "final_model = DecisionTreeRegressor(max_leaf_nodes = 100, random_state = 0)\n",
    "\n",
    "# fit the final model and uncomment the next two lines\n",
    "final_model.fit(X, y)\n",
    "\n",
    "# Check your answer\n",
    "step_2.check()"
   ]
  },
  {
   "cell_type": "code",
   "execution_count": 6,
   "id": "7f1fe050",
   "metadata": {
    "execution": {
     "iopub.execute_input": "2021-08-12T06:15:03.488413Z",
     "iopub.status.busy": "2021-08-12T06:15:03.487823Z",
     "iopub.status.idle": "2021-08-12T06:15:03.493704Z",
     "shell.execute_reply": "2021-08-12T06:15:03.493078Z",
     "shell.execute_reply.started": "2021-08-12T06:14:14.287237Z"
    },
    "papermill": {
     "duration": 0.022649,
     "end_time": "2021-08-12T06:15:03.493850",
     "exception": false,
     "start_time": "2021-08-12T06:15:03.471201",
     "status": "completed"
    },
    "tags": []
   },
   "outputs": [
    {
     "data": {
      "application/javascript": [
       "parent.postMessage({\"jupyterEvent\": \"custom.exercise_interaction\", \"data\": {\"interactionType\": 3, \"questionType\": 2, \"questionId\": \"2_FitModelWithAllData\", \"learnToolsVersion\": \"0.3.4\", \"valueTowardsCompletion\": 0.0, \"failureMessage\": \"\", \"exceptionClass\": \"\", \"trace\": \"\", \"outcomeType\": 4}}, \"*\")"
      ],
      "text/plain": [
       "<IPython.core.display.Javascript object>"
      ]
     },
     "metadata": {},
     "output_type": "display_data"
    },
    {
     "data": {
      "text/markdown": [
       "<span style=\"color:#33cc99\">Solution:</span> \n",
       "```python\n",
       "# Fit the model with best_tree_size. Fill in argument to make optimal size\n",
       "final_model = DecisionTreeRegressor(max_leaf_nodes=best_tree_size, random_state=1)\n",
       "\n",
       "# fit the final model\n",
       "final_model.fit(X, y)\n",
       "```"
      ],
      "text/plain": [
       "Solution: \n",
       "```python\n",
       "# Fit the model with best_tree_size. Fill in argument to make optimal size\n",
       "final_model = DecisionTreeRegressor(max_leaf_nodes=best_tree_size, random_state=1)\n",
       "\n",
       "# fit the final model\n",
       "final_model.fit(X, y)\n",
       "```"
      ]
     },
     "metadata": {},
     "output_type": "display_data"
    }
   ],
   "source": [
    "# step_2.hint()\n",
    "step_2.solution()"
   ]
  },
  {
   "cell_type": "markdown",
   "id": "b3e33f36",
   "metadata": {
    "papermill": {
     "duration": 0.013377,
     "end_time": "2021-08-12T06:15:03.520408",
     "exception": false,
     "start_time": "2021-08-12T06:15:03.507031",
     "status": "completed"
    },
    "tags": []
   },
   "source": [
    "You've tuned this model and improved your results. But we are still using Decision Tree models, which are not very sophisticated by modern machine learning standards. In the next step you will learn to use Random Forests to improve your models even more.\n",
    "\n",
    "# Keep Going\n",
    "\n",
    "You are ready for **[Random Forests](https://www.kaggle.com/dansbecker/random-forests).**\n"
   ]
  },
  {
   "cell_type": "markdown",
   "id": "22f41fb2",
   "metadata": {
    "papermill": {
     "duration": 0.012791,
     "end_time": "2021-08-12T06:15:03.546520",
     "exception": false,
     "start_time": "2021-08-12T06:15:03.533729",
     "status": "completed"
    },
    "tags": []
   },
   "source": [
    "---\n",
    "\n",
    "\n",
    "\n",
    "\n",
    "*Have questions or comments? Visit the [Learn Discussion forum](https://www.kaggle.com/learn-forum/161285) to chat with other Learners.*"
   ]
  }
 ],
 "metadata": {
  "kernelspec": {
   "display_name": "Python 3",
   "language": "python",
   "name": "python3"
  },
  "language_info": {
   "codemirror_mode": {
    "name": "ipython",
    "version": 3
   },
   "file_extension": ".py",
   "mimetype": "text/x-python",
   "name": "python",
   "nbconvert_exporter": "python",
   "pygments_lexer": "ipython3",
   "version": "3.7.10"
  },
  "papermill": {
   "default_parameters": {},
   "duration": 10.738742,
   "end_time": "2021-08-12T06:15:04.912461",
   "environment_variables": {},
   "exception": null,
   "input_path": "__notebook__.ipynb",
   "output_path": "__notebook__.ipynb",
   "parameters": {},
   "start_time": "2021-08-12T06:14:54.173719",
   "version": "2.3.3"
  }
 },
 "nbformat": 4,
 "nbformat_minor": 5
}

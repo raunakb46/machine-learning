{
 "cells": [
  {
   "cell_type": "markdown",
   "id": "a08f7a5a",
   "metadata": {
    "papermill": {
     "duration": 0.016571,
     "end_time": "2021-08-11T11:14:26.430436",
     "exception": false,
     "start_time": "2021-08-11T11:14:26.413865",
     "status": "completed"
    },
    "tags": []
   },
   "source": [
    "**This notebook is an exercise in the [Introduction to Machine Learning](https://www.kaggle.com/learn/intro-to-machine-learning) course.  You can reference the tutorial at [this link](https://www.kaggle.com/dansbecker/your-first-machine-learning-model).**\n",
    "\n",
    "---\n"
   ]
  },
  {
   "cell_type": "markdown",
   "id": "d5faa40b",
   "metadata": {
    "papermill": {
     "duration": 0.01527,
     "end_time": "2021-08-11T11:14:26.464294",
     "exception": false,
     "start_time": "2021-08-11T11:14:26.449024",
     "status": "completed"
    },
    "tags": []
   },
   "source": [
    "## Recap\n",
    "So far, you have loaded your data and reviewed it with the following code. Run this cell to set up your coding environment where the previous step left off."
   ]
  },
  {
   "cell_type": "code",
   "execution_count": 1,
   "id": "04bb3004",
   "metadata": {
    "execution": {
     "iopub.execute_input": "2021-08-11T11:14:26.510018Z",
     "iopub.status.busy": "2021-08-11T11:14:26.508942Z",
     "iopub.status.idle": "2021-08-11T11:14:27.881952Z",
     "shell.execute_reply": "2021-08-11T11:14:27.882455Z",
     "shell.execute_reply.started": "2021-08-11T10:53:13.062893Z"
    },
    "papermill": {
     "duration": 1.402512,
     "end_time": "2021-08-11T11:14:27.882835",
     "exception": false,
     "start_time": "2021-08-11T11:14:26.480323",
     "status": "completed"
    },
    "tags": []
   },
   "outputs": [
    {
     "name": "stdout",
     "output_type": "stream",
     "text": [
      "Setup Complete\n"
     ]
    }
   ],
   "source": [
    "# Code you have previously used to load data\n",
    "import pandas as pd\n",
    "\n",
    "# Path of the file to read\n",
    "iowa_file_path = '../input/home-data-for-ml-course/train.csv'\n",
    "\n",
    "home_data = pd.read_csv(iowa_file_path)\n",
    "\n",
    "# Set up code checking\n",
    "from learntools.core import binder\n",
    "binder.bind(globals())\n",
    "from learntools.machine_learning.ex3 import *\n",
    "\n",
    "print(\"Setup Complete\")"
   ]
  },
  {
   "cell_type": "markdown",
   "id": "ff27045f",
   "metadata": {
    "papermill": {
     "duration": 0.016566,
     "end_time": "2021-08-11T11:14:27.915690",
     "exception": false,
     "start_time": "2021-08-11T11:14:27.899124",
     "status": "completed"
    },
    "tags": []
   },
   "source": [
    "# Exercises\n",
    "\n",
    "## Step 1: Specify Prediction Target\n",
    "Select the target variable, which corresponds to the sales price. Save this to a new variable called `y`. You'll need to print a list of the columns to find the name of the column you need.\n"
   ]
  },
  {
   "cell_type": "code",
   "execution_count": 2,
   "id": "3f46e9a0",
   "metadata": {
    "execution": {
     "iopub.execute_input": "2021-08-11T11:14:27.958137Z",
     "iopub.status.busy": "2021-08-11T11:14:27.956966Z",
     "iopub.status.idle": "2021-08-11T11:14:27.961737Z",
     "shell.execute_reply": "2021-08-11T11:14:27.961167Z",
     "shell.execute_reply.started": "2021-08-11T10:54:13.329204Z"
    },
    "papermill": {
     "duration": 0.029975,
     "end_time": "2021-08-11T11:14:27.961898",
     "exception": false,
     "start_time": "2021-08-11T11:14:27.931923",
     "status": "completed"
    },
    "tags": []
   },
   "outputs": [
    {
     "data": {
      "text/plain": [
       "Index(['Id', 'MSSubClass', 'MSZoning', 'LotFrontage', 'LotArea', 'Street',\n",
       "       'Alley', 'LotShape', 'LandContour', 'Utilities', 'LotConfig',\n",
       "       'LandSlope', 'Neighborhood', 'Condition1', 'Condition2', 'BldgType',\n",
       "       'HouseStyle', 'OverallQual', 'OverallCond', 'YearBuilt', 'YearRemodAdd',\n",
       "       'RoofStyle', 'RoofMatl', 'Exterior1st', 'Exterior2nd', 'MasVnrType',\n",
       "       'MasVnrArea', 'ExterQual', 'ExterCond', 'Foundation', 'BsmtQual',\n",
       "       'BsmtCond', 'BsmtExposure', 'BsmtFinType1', 'BsmtFinSF1',\n",
       "       'BsmtFinType2', 'BsmtFinSF2', 'BsmtUnfSF', 'TotalBsmtSF', 'Heating',\n",
       "       'HeatingQC', 'CentralAir', 'Electrical', '1stFlrSF', '2ndFlrSF',\n",
       "       'LowQualFinSF', 'GrLivArea', 'BsmtFullBath', 'BsmtHalfBath', 'FullBath',\n",
       "       'HalfBath', 'BedroomAbvGr', 'KitchenAbvGr', 'KitchenQual',\n",
       "       'TotRmsAbvGrd', 'Functional', 'Fireplaces', 'FireplaceQu', 'GarageType',\n",
       "       'GarageYrBlt', 'GarageFinish', 'GarageCars', 'GarageArea', 'GarageQual',\n",
       "       'GarageCond', 'PavedDrive', 'WoodDeckSF', 'OpenPorchSF',\n",
       "       'EnclosedPorch', '3SsnPorch', 'ScreenPorch', 'PoolArea', 'PoolQC',\n",
       "       'Fence', 'MiscFeature', 'MiscVal', 'MoSold', 'YrSold', 'SaleType',\n",
       "       'SaleCondition', 'SalePrice'],\n",
       "      dtype='object')"
      ]
     },
     "execution_count": 2,
     "metadata": {},
     "output_type": "execute_result"
    }
   ],
   "source": [
    "# print the list of columns in the dataset to find the name of the prediction target\n",
    "home_data.columns"
   ]
  },
  {
   "cell_type": "code",
   "execution_count": 3,
   "id": "e28b03fd",
   "metadata": {
    "execution": {
     "iopub.execute_input": "2021-08-11T11:14:28.007148Z",
     "iopub.status.busy": "2021-08-11T11:14:28.006396Z",
     "iopub.status.idle": "2021-08-11T11:14:28.013940Z",
     "shell.execute_reply": "2021-08-11T11:14:28.014527Z",
     "shell.execute_reply.started": "2021-08-11T10:54:56.749272Z"
    },
    "papermill": {
     "duration": 0.036694,
     "end_time": "2021-08-11T11:14:28.014730",
     "exception": false,
     "start_time": "2021-08-11T11:14:27.978036",
     "status": "completed"
    },
    "tags": []
   },
   "outputs": [
    {
     "data": {
      "application/javascript": [
       "parent.postMessage({\"jupyterEvent\": \"custom.exercise_interaction\", \"data\": {\"outcomeType\": 1, \"valueTowardsCompletion\": 0.25, \"interactionType\": 1, \"questionType\": 2, \"questionId\": \"1_SetTarget\", \"learnToolsVersion\": \"0.3.4\", \"failureMessage\": \"\", \"exceptionClass\": \"\", \"trace\": \"\"}}, \"*\")"
      ],
      "text/plain": [
       "<IPython.core.display.Javascript object>"
      ]
     },
     "metadata": {},
     "output_type": "display_data"
    },
    {
     "data": {
      "text/markdown": [
       "<span style=\"color:#33cc33\">Correct</span>"
      ],
      "text/plain": [
       "Correct"
      ]
     },
     "metadata": {},
     "output_type": "display_data"
    }
   ],
   "source": [
    "y = home_data.SalePrice\n",
    "\n",
    "# Check your answer\n",
    "step_1.check()"
   ]
  },
  {
   "cell_type": "code",
   "execution_count": 4,
   "id": "ac39ca46",
   "metadata": {
    "collapsed": true,
    "execution": {
     "iopub.execute_input": "2021-08-11T11:14:28.054885Z",
     "iopub.status.busy": "2021-08-11T11:14:28.054233Z",
     "iopub.status.idle": "2021-08-11T11:14:28.058030Z",
     "shell.execute_reply": "2021-08-11T11:14:28.057276Z"
    },
    "jupyter": {
     "outputs_hidden": true
    },
    "papermill": {
     "duration": 0.026541,
     "end_time": "2021-08-11T11:14:28.058236",
     "exception": false,
     "start_time": "2021-08-11T11:14:28.031695",
     "status": "completed"
    },
    "tags": []
   },
   "outputs": [],
   "source": [
    "# The lines below will show you a hint or the solution.\n",
    "# step_1.hint() \n",
    "# step_1.solution()"
   ]
  },
  {
   "cell_type": "markdown",
   "id": "580905fc",
   "metadata": {
    "papermill": {
     "duration": 0.019646,
     "end_time": "2021-08-11T11:14:28.101025",
     "exception": false,
     "start_time": "2021-08-11T11:14:28.081379",
     "status": "completed"
    },
    "tags": []
   },
   "source": [
    "## Step 2: Create X\n",
    "Now you will create a DataFrame called `X` holding the predictive features.\n",
    "\n",
    "Since you want only some columns from the original data, you'll first create a list with the names of the columns you want in `X`.\n",
    "\n",
    "You'll use just the following columns in the list (you can copy and paste the whole list to save some typing, though you'll still need to add quotes):\n",
    "    * LotArea\n",
    "    * YearBuilt\n",
    "    * 1stFlrSF\n",
    "    * 2ndFlrSF\n",
    "    * FullBath\n",
    "    * BedroomAbvGr\n",
    "    * TotRmsAbvGrd\n",
    "\n",
    "After you've created that list of features, use it to create the DataFrame that you'll use to fit the model."
   ]
  },
  {
   "cell_type": "code",
   "execution_count": 5,
   "id": "6b952b91",
   "metadata": {
    "execution": {
     "iopub.execute_input": "2021-08-11T11:14:28.149835Z",
     "iopub.status.busy": "2021-08-11T11:14:28.148799Z",
     "iopub.status.idle": "2021-08-11T11:14:28.155736Z",
     "shell.execute_reply": "2021-08-11T11:14:28.155183Z",
     "shell.execute_reply.started": "2021-08-11T11:09:17.768785Z"
    },
    "papermill": {
     "duration": 0.032934,
     "end_time": "2021-08-11T11:14:28.155874",
     "exception": false,
     "start_time": "2021-08-11T11:14:28.122940",
     "status": "completed"
    },
    "tags": []
   },
   "outputs": [
    {
     "data": {
      "application/javascript": [
       "parent.postMessage({\"jupyterEvent\": \"custom.exercise_interaction\", \"data\": {\"outcomeType\": 1, \"valueTowardsCompletion\": 0.25, \"interactionType\": 1, \"questionType\": 2, \"questionId\": \"2_SelectPredictionData\", \"learnToolsVersion\": \"0.3.4\", \"failureMessage\": \"\", \"exceptionClass\": \"\", \"trace\": \"\"}}, \"*\")"
      ],
      "text/plain": [
       "<IPython.core.display.Javascript object>"
      ]
     },
     "metadata": {},
     "output_type": "display_data"
    },
    {
     "data": {
      "text/markdown": [
       "<span style=\"color:#33cc33\">Correct</span>"
      ],
      "text/plain": [
       "Correct"
      ]
     },
     "metadata": {},
     "output_type": "display_data"
    }
   ],
   "source": [
    "# Create the list of features below\n",
    "feature_names = ['LotArea', 'YearBuilt', '1stFlrSF', '2ndFlrSF', 'FullBath', 'BedroomAbvGr', 'TotRmsAbvGrd']\n",
    "\n",
    "# Select data corresponding to features in feature_names\n",
    "X = home_data[feature_names]\n",
    "\n",
    "# Check your answer\n",
    "step_2.check()"
   ]
  },
  {
   "cell_type": "code",
   "execution_count": 6,
   "id": "df00705c",
   "metadata": {
    "collapsed": true,
    "execution": {
     "iopub.execute_input": "2021-08-11T11:14:28.207671Z",
     "iopub.status.busy": "2021-08-11T11:14:28.206949Z",
     "iopub.status.idle": "2021-08-11T11:14:28.210320Z",
     "shell.execute_reply": "2021-08-11T11:14:28.209794Z"
    },
    "jupyter": {
     "outputs_hidden": true
    },
    "papermill": {
     "duration": 0.035955,
     "end_time": "2021-08-11T11:14:28.210474",
     "exception": false,
     "start_time": "2021-08-11T11:14:28.174519",
     "status": "completed"
    },
    "tags": []
   },
   "outputs": [],
   "source": [
    "# step_2.hint()\n",
    "# step_2.solution()"
   ]
  },
  {
   "cell_type": "markdown",
   "id": "4b3ce1e9",
   "metadata": {
    "papermill": {
     "duration": 0.017599,
     "end_time": "2021-08-11T11:14:28.246287",
     "exception": false,
     "start_time": "2021-08-11T11:14:28.228688",
     "status": "completed"
    },
    "tags": []
   },
   "source": [
    "## Review Data\n",
    "Before building a model, take a quick look at **X** to verify it looks sensible"
   ]
  },
  {
   "cell_type": "code",
   "execution_count": 7,
   "id": "f789d4d1",
   "metadata": {
    "execution": {
     "iopub.execute_input": "2021-08-11T11:14:28.291299Z",
     "iopub.status.busy": "2021-08-11T11:14:28.290297Z",
     "iopub.status.idle": "2021-08-11T11:14:28.410720Z",
     "shell.execute_reply": "2021-08-11T11:14:28.409487Z",
     "shell.execute_reply.started": "2021-08-11T11:10:02.975390Z"
    },
    "papermill": {
     "duration": 0.146701,
     "end_time": "2021-08-11T11:14:28.410936",
     "exception": false,
     "start_time": "2021-08-11T11:14:28.264235",
     "status": "completed"
    },
    "tags": []
   },
   "outputs": [
    {
     "name": "stdout",
     "output_type": "stream",
     "text": [
      "                Id   MSSubClass  LotFrontage        LotArea  OverallQual  \\\n",
      "count  1460.000000  1460.000000  1201.000000    1460.000000  1460.000000   \n",
      "mean    730.500000    56.897260    70.049958   10516.828082     6.099315   \n",
      "std     421.610009    42.300571    24.284752    9981.264932     1.382997   \n",
      "min       1.000000    20.000000    21.000000    1300.000000     1.000000   \n",
      "25%     365.750000    20.000000    59.000000    7553.500000     5.000000   \n",
      "50%     730.500000    50.000000    69.000000    9478.500000     6.000000   \n",
      "75%    1095.250000    70.000000    80.000000   11601.500000     7.000000   \n",
      "max    1460.000000   190.000000   313.000000  215245.000000    10.000000   \n",
      "\n",
      "       OverallCond    YearBuilt  YearRemodAdd   MasVnrArea   BsmtFinSF1  ...  \\\n",
      "count  1460.000000  1460.000000   1460.000000  1452.000000  1460.000000  ...   \n",
      "mean      5.575342  1971.267808   1984.865753   103.685262   443.639726  ...   \n",
      "std       1.112799    30.202904     20.645407   181.066207   456.098091  ...   \n",
      "min       1.000000  1872.000000   1950.000000     0.000000     0.000000  ...   \n",
      "25%       5.000000  1954.000000   1967.000000     0.000000     0.000000  ...   \n",
      "50%       5.000000  1973.000000   1994.000000     0.000000   383.500000  ...   \n",
      "75%       6.000000  2000.000000   2004.000000   166.000000   712.250000  ...   \n",
      "max       9.000000  2010.000000   2010.000000  1600.000000  5644.000000  ...   \n",
      "\n",
      "        WoodDeckSF  OpenPorchSF  EnclosedPorch    3SsnPorch  ScreenPorch  \\\n",
      "count  1460.000000  1460.000000    1460.000000  1460.000000  1460.000000   \n",
      "mean     94.244521    46.660274      21.954110     3.409589    15.060959   \n",
      "std     125.338794    66.256028      61.119149    29.317331    55.757415   \n",
      "min       0.000000     0.000000       0.000000     0.000000     0.000000   \n",
      "25%       0.000000     0.000000       0.000000     0.000000     0.000000   \n",
      "50%       0.000000    25.000000       0.000000     0.000000     0.000000   \n",
      "75%     168.000000    68.000000       0.000000     0.000000     0.000000   \n",
      "max     857.000000   547.000000     552.000000   508.000000   480.000000   \n",
      "\n",
      "          PoolArea       MiscVal       MoSold       YrSold      SalePrice  \n",
      "count  1460.000000   1460.000000  1460.000000  1460.000000    1460.000000  \n",
      "mean      2.758904     43.489041     6.321918  2007.815753  180921.195890  \n",
      "std      40.177307    496.123024     2.703626     1.328095   79442.502883  \n",
      "min       0.000000      0.000000     1.000000  2006.000000   34900.000000  \n",
      "25%       0.000000      0.000000     5.000000  2007.000000  129975.000000  \n",
      "50%       0.000000      0.000000     6.000000  2008.000000  163000.000000  \n",
      "75%       0.000000      0.000000     8.000000  2009.000000  214000.000000  \n",
      "max     738.000000  15500.000000    12.000000  2010.000000  755000.000000  \n",
      "\n",
      "[8 rows x 38 columns]\n",
      "   Id  MSSubClass MSZoning  LotFrontage  LotArea Street Alley LotShape  \\\n",
      "0   1          60       RL         65.0     8450   Pave   NaN      Reg   \n",
      "1   2          20       RL         80.0     9600   Pave   NaN      Reg   \n",
      "2   3          60       RL         68.0    11250   Pave   NaN      IR1   \n",
      "3   4          70       RL         60.0     9550   Pave   NaN      IR1   \n",
      "4   5          60       RL         84.0    14260   Pave   NaN      IR1   \n",
      "\n",
      "  LandContour Utilities  ... PoolArea PoolQC Fence MiscFeature MiscVal MoSold  \\\n",
      "0         Lvl    AllPub  ...        0    NaN   NaN         NaN       0      2   \n",
      "1         Lvl    AllPub  ...        0    NaN   NaN         NaN       0      5   \n",
      "2         Lvl    AllPub  ...        0    NaN   NaN         NaN       0      9   \n",
      "3         Lvl    AllPub  ...        0    NaN   NaN         NaN       0      2   \n",
      "4         Lvl    AllPub  ...        0    NaN   NaN         NaN       0     12   \n",
      "\n",
      "  YrSold  SaleType  SaleCondition  SalePrice  \n",
      "0   2008        WD         Normal     208500  \n",
      "1   2007        WD         Normal     181500  \n",
      "2   2008        WD         Normal     223500  \n",
      "3   2006        WD        Abnorml     140000  \n",
      "4   2008        WD         Normal     250000  \n",
      "\n",
      "[5 rows x 81 columns]\n"
     ]
    }
   ],
   "source": [
    "# Review data\n",
    "#print description or statistics from X\n",
    "print(home_data.describe())\n",
    "\n",
    "#print the top few lines\n",
    "print(home_data.head())"
   ]
  },
  {
   "cell_type": "markdown",
   "id": "eaf37ff9",
   "metadata": {
    "papermill": {
     "duration": 0.018097,
     "end_time": "2021-08-11T11:14:28.452966",
     "exception": false,
     "start_time": "2021-08-11T11:14:28.434869",
     "status": "completed"
    },
    "tags": []
   },
   "source": [
    "## Step 3: Specify and Fit Model\n",
    "Create a `DecisionTreeRegressor` and save it iowa_model. Ensure you've done the relevant import from sklearn to run this command.\n",
    "\n",
    "Then fit the model you just created using the data in `X` and `y` that you saved above."
   ]
  },
  {
   "cell_type": "code",
   "execution_count": 8,
   "id": "e320754c",
   "metadata": {
    "execution": {
     "iopub.execute_input": "2021-08-11T11:14:28.501222Z",
     "iopub.status.busy": "2021-08-11T11:14:28.500268Z",
     "iopub.status.idle": "2021-08-11T11:14:28.513539Z",
     "shell.execute_reply": "2021-08-11T11:14:28.514060Z",
     "shell.execute_reply.started": "2021-08-11T11:12:12.598034Z"
    },
    "papermill": {
     "duration": 0.042061,
     "end_time": "2021-08-11T11:14:28.514234",
     "exception": false,
     "start_time": "2021-08-11T11:14:28.472173",
     "status": "completed"
    },
    "tags": []
   },
   "outputs": [
    {
     "data": {
      "application/javascript": [
       "parent.postMessage({\"jupyterEvent\": \"custom.exercise_interaction\", \"data\": {\"outcomeType\": 1, \"valueTowardsCompletion\": 0.25, \"interactionType\": 1, \"questionType\": 2, \"questionId\": \"3_CreateModel\", \"learnToolsVersion\": \"0.3.4\", \"failureMessage\": \"\", \"exceptionClass\": \"\", \"trace\": \"\"}}, \"*\")"
      ],
      "text/plain": [
       "<IPython.core.display.Javascript object>"
      ]
     },
     "metadata": {},
     "output_type": "display_data"
    },
    {
     "data": {
      "text/markdown": [
       "<span style=\"color:#33cc33\">Correct</span>"
      ],
      "text/plain": [
       "Correct"
      ]
     },
     "metadata": {},
     "output_type": "display_data"
    }
   ],
   "source": [
    "from sklearn.tree import DecisionTreeRegressor\n",
    "#specify the model. \n",
    "#For model reproducibility, set a numeric value for random_state when specifying the model\n",
    "iowa_model = DecisionTreeRegressor(random_state = 1)\n",
    "\n",
    "# Fit the model\n",
    "iowa_model.fit(X, y)\n",
    "\n",
    "# Check your answer\n",
    "step_3.check()"
   ]
  },
  {
   "cell_type": "code",
   "execution_count": 9,
   "id": "e2df63b5",
   "metadata": {
    "collapsed": true,
    "execution": {
     "iopub.execute_input": "2021-08-11T11:14:28.556854Z",
     "iopub.status.busy": "2021-08-11T11:14:28.555910Z",
     "iopub.status.idle": "2021-08-11T11:14:28.559687Z",
     "shell.execute_reply": "2021-08-11T11:14:28.560203Z"
    },
    "jupyter": {
     "outputs_hidden": true
    },
    "papermill": {
     "duration": 0.026645,
     "end_time": "2021-08-11T11:14:28.560374",
     "exception": false,
     "start_time": "2021-08-11T11:14:28.533729",
     "status": "completed"
    },
    "tags": []
   },
   "outputs": [],
   "source": [
    "# step_3.hint()\n",
    "# step_3.solution()"
   ]
  },
  {
   "cell_type": "markdown",
   "id": "5a572d74",
   "metadata": {
    "papermill": {
     "duration": 0.020336,
     "end_time": "2021-08-11T11:14:28.600189",
     "exception": false,
     "start_time": "2021-08-11T11:14:28.579853",
     "status": "completed"
    },
    "tags": []
   },
   "source": [
    "## Step 4: Make Predictions\n",
    "Make predictions with the model's `predict` command using `X` as the data. Save the results to a variable called `predictions`."
   ]
  },
  {
   "cell_type": "code",
   "execution_count": 10,
   "id": "fae2c104",
   "metadata": {
    "execution": {
     "iopub.execute_input": "2021-08-11T11:14:28.646787Z",
     "iopub.status.busy": "2021-08-11T11:14:28.645784Z",
     "iopub.status.idle": "2021-08-11T11:14:28.656790Z",
     "shell.execute_reply": "2021-08-11T11:14:28.657385Z",
     "shell.execute_reply.started": "2021-08-11T11:13:07.334348Z"
    },
    "papermill": {
     "duration": 0.037647,
     "end_time": "2021-08-11T11:14:28.657563",
     "exception": false,
     "start_time": "2021-08-11T11:14:28.619916",
     "status": "completed"
    },
    "tags": []
   },
   "outputs": [
    {
     "name": "stdout",
     "output_type": "stream",
     "text": [
      "[208500. 181500. 223500. ... 266500. 142125. 147500.]\n"
     ]
    },
    {
     "data": {
      "application/javascript": [
       "parent.postMessage({\"jupyterEvent\": \"custom.exercise_interaction\", \"data\": {\"outcomeType\": 1, \"valueTowardsCompletion\": 0.25, \"interactionType\": 1, \"questionType\": 2, \"questionId\": \"4_MakePredictions\", \"learnToolsVersion\": \"0.3.4\", \"failureMessage\": \"\", \"exceptionClass\": \"\", \"trace\": \"\"}}, \"*\")"
      ],
      "text/plain": [
       "<IPython.core.display.Javascript object>"
      ]
     },
     "metadata": {},
     "output_type": "display_data"
    },
    {
     "data": {
      "text/markdown": [
       "<span style=\"color:#33cc33\">Correct</span>"
      ],
      "text/plain": [
       "Correct"
      ]
     },
     "metadata": {},
     "output_type": "display_data"
    }
   ],
   "source": [
    "predictions = iowa_model.predict(X)\n",
    "print(predictions)\n",
    "\n",
    "# Check your answer\n",
    "step_4.check()"
   ]
  },
  {
   "cell_type": "code",
   "execution_count": 11,
   "id": "11570500",
   "metadata": {
    "collapsed": true,
    "execution": {
     "iopub.execute_input": "2021-08-11T11:14:28.704075Z",
     "iopub.status.busy": "2021-08-11T11:14:28.703009Z",
     "iopub.status.idle": "2021-08-11T11:14:28.706682Z",
     "shell.execute_reply": "2021-08-11T11:14:28.707247Z"
    },
    "jupyter": {
     "outputs_hidden": true
    },
    "papermill": {
     "duration": 0.029094,
     "end_time": "2021-08-11T11:14:28.707419",
     "exception": false,
     "start_time": "2021-08-11T11:14:28.678325",
     "status": "completed"
    },
    "tags": []
   },
   "outputs": [],
   "source": [
    "# step_4.hint()\n",
    "# step_4.solution()"
   ]
  },
  {
   "cell_type": "markdown",
   "id": "0b767e47",
   "metadata": {
    "papermill": {
     "duration": 0.020783,
     "end_time": "2021-08-11T11:14:28.750163",
     "exception": false,
     "start_time": "2021-08-11T11:14:28.729380",
     "status": "completed"
    },
    "tags": []
   },
   "source": [
    "## Think About Your Results\n",
    "\n",
    "Use the `head` method to compare the top few predictions to the actual home values (in `y`) for those same homes. Anything surprising?\n"
   ]
  },
  {
   "cell_type": "code",
   "execution_count": 12,
   "id": "6acd9ac3",
   "metadata": {
    "execution": {
     "iopub.execute_input": "2021-08-11T11:14:28.795954Z",
     "iopub.status.busy": "2021-08-11T11:14:28.794963Z",
     "iopub.status.idle": "2021-08-11T11:14:28.803388Z",
     "shell.execute_reply": "2021-08-11T11:14:28.803892Z",
     "shell.execute_reply.started": "2021-08-11T11:13:50.265300Z"
    },
    "papermill": {
     "duration": 0.032802,
     "end_time": "2021-08-11T11:14:28.804084",
     "exception": false,
     "start_time": "2021-08-11T11:14:28.771282",
     "status": "completed"
    },
    "tags": []
   },
   "outputs": [
    {
     "name": "stdout",
     "output_type": "stream",
     "text": [
      "[208500. 181500. 223500. 140000. 250000.]\n"
     ]
    }
   ],
   "source": [
    "# You can write code in this cell\n",
    "print (iowa_model.predict(X.head()))"
   ]
  },
  {
   "cell_type": "markdown",
   "id": "7e3e6f33",
   "metadata": {
    "papermill": {
     "duration": 0.023542,
     "end_time": "2021-08-11T11:14:28.849012",
     "exception": false,
     "start_time": "2021-08-11T11:14:28.825470",
     "status": "completed"
    },
    "tags": []
   },
   "source": [
    "It's natural to ask how accurate the model's predictions will be and how you can improve that. That will be you're next step.\n",
    "\n",
    "# Keep Going\n",
    "\n",
    "You are ready for **[Model Validation](https://www.kaggle.com/dansbecker/model-validation).**\n"
   ]
  },
  {
   "cell_type": "markdown",
   "id": "fafe4882",
   "metadata": {
    "papermill": {
     "duration": 0.020976,
     "end_time": "2021-08-11T11:14:28.891161",
     "exception": false,
     "start_time": "2021-08-11T11:14:28.870185",
     "status": "completed"
    },
    "tags": []
   },
   "source": [
    "---\n",
    "\n",
    "\n",
    "\n",
    "\n",
    "*Have questions or comments? Visit the [Learn Discussion forum](https://www.kaggle.com/learn-forum/161285) to chat with other Learners.*"
   ]
  }
 ],
 "metadata": {
  "kernelspec": {
   "display_name": "Python 3",
   "language": "python",
   "name": "python3"
  },
  "language_info": {
   "codemirror_mode": {
    "name": "ipython",
    "version": 3
   },
   "file_extension": ".py",
   "mimetype": "text/x-python",
   "name": "python",
   "nbconvert_exporter": "python",
   "pygments_lexer": "ipython3",
   "version": "3.7.10"
  },
  "papermill": {
   "default_parameters": {},
   "duration": 11.441677,
   "end_time": "2021-08-11T11:14:29.622419",
   "environment_variables": {},
   "exception": null,
   "input_path": "__notebook__.ipynb",
   "output_path": "__notebook__.ipynb",
   "parameters": {},
   "start_time": "2021-08-11T11:14:18.180742",
   "version": "2.3.3"
  }
 },
 "nbformat": 4,
 "nbformat_minor": 5
}

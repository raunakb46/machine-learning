{
 "cells": [
  {
   "cell_type": "markdown",
   "id": "7f8e79a4",
   "metadata": {
    "papermill": {
     "duration": 0.017573,
     "end_time": "2021-08-08T11:00:11.205689",
     "exception": false,
     "start_time": "2021-08-08T11:00:11.188116",
     "status": "completed"
    },
    "tags": []
   },
   "source": [
    "**This notebook is an exercise in the [Python](https://www.kaggle.com/learn/python) course.  You can reference the tutorial at [this link](https://www.kaggle.com/colinmorris/strings-and-dictionaries).**\n",
    "\n",
    "---\n"
   ]
  },
  {
   "cell_type": "markdown",
   "id": "dc34f170",
   "metadata": {
    "papermill": {
     "duration": 0.015706,
     "end_time": "2021-08-08T11:00:11.240256",
     "exception": false,
     "start_time": "2021-08-08T11:00:11.224550",
     "status": "completed"
    },
    "tags": []
   },
   "source": [
    "You are almost done with the course. Nice job!\n",
    "\n",
    "We have a couple more interesting problems for you before you go. \n",
    "\n",
    "As always, run the setup code below before working on the questions."
   ]
  },
  {
   "cell_type": "code",
   "execution_count": 1,
   "id": "3122c4e1",
   "metadata": {
    "execution": {
     "iopub.execute_input": "2021-08-08T11:00:11.284064Z",
     "iopub.status.busy": "2021-08-08T11:00:11.283411Z",
     "iopub.status.idle": "2021-08-08T11:00:11.423086Z",
     "shell.execute_reply": "2021-08-08T11:00:11.422437Z",
     "shell.execute_reply.started": "2021-08-08T10:43:08.827930Z"
    },
    "papermill": {
     "duration": 0.166972,
     "end_time": "2021-08-08T11:00:11.423247",
     "exception": false,
     "start_time": "2021-08-08T11:00:11.256275",
     "status": "completed"
    },
    "tags": []
   },
   "outputs": [
    {
     "name": "stdout",
     "output_type": "stream",
     "text": [
      "Setup complete.\n"
     ]
    }
   ],
   "source": [
    "from learntools.core import binder; binder.bind(globals())\n",
    "from learntools.python.ex6 import *\n",
    "print('Setup complete.')"
   ]
  },
  {
   "cell_type": "markdown",
   "id": "efd7e693",
   "metadata": {
    "papermill": {
     "duration": 0.016311,
     "end_time": "2021-08-08T11:00:11.456405",
     "exception": false,
     "start_time": "2021-08-08T11:00:11.440094",
     "status": "completed"
    },
    "tags": []
   },
   "source": [
    "Let's start with a string lightning round to warm up. What are the lengths of the strings below?\n",
    "\n",
    "For each of the five strings below, predict what `len()` would return when passed that string. Use the variable `length` to record your answer, then run the cell to check whether you were right.  \n",
    "\n",
    "# 0a."
   ]
  },
  {
   "cell_type": "code",
   "execution_count": 2,
   "id": "22feae8e",
   "metadata": {
    "execution": {
     "iopub.execute_input": "2021-08-08T11:00:11.497094Z",
     "iopub.status.busy": "2021-08-08T11:00:11.496417Z",
     "iopub.status.idle": "2021-08-08T11:00:11.502001Z",
     "shell.execute_reply": "2021-08-08T11:00:11.501385Z",
     "shell.execute_reply.started": "2021-08-08T10:43:58.592515Z"
    },
    "papermill": {
     "duration": 0.029308,
     "end_time": "2021-08-08T11:00:11.502131",
     "exception": false,
     "start_time": "2021-08-08T11:00:11.472823",
     "status": "completed"
    },
    "tags": []
   },
   "outputs": [
    {
     "data": {
      "application/javascript": [
       "parent.postMessage({\"jupyterEvent\": \"custom.exercise_interaction\", \"data\": {\"outcomeType\": 1, \"valueTowardsCompletion\": 0.3333333333333333, \"interactionType\": 1, \"questionType\": 1, \"questionId\": \"0.1_ZA\", \"learnToolsVersion\": \"0.3.4\", \"failureMessage\": \"\", \"exceptionClass\": \"\", \"trace\": \"\"}}, \"*\")"
      ],
      "text/plain": [
       "<IPython.core.display.Javascript object>"
      ]
     },
     "metadata": {},
     "output_type": "display_data"
    },
    {
     "data": {
      "text/markdown": [
       "<span style=\"color:#33cc33\">Correct:</span> \n",
       "\n",
       "The empty string has length zero. Note that the empty string is also the only string that Python considers as False when converting to boolean."
      ],
      "text/plain": [
       "Correct: \n",
       "\n",
       "The empty string has length zero. Note that the empty string is also the only string that Python considers as False when converting to boolean."
      ]
     },
     "metadata": {},
     "output_type": "display_data"
    }
   ],
   "source": [
    "a = \"\"\n",
    "length = 0\n",
    "q0.a.check()"
   ]
  },
  {
   "cell_type": "markdown",
   "id": "07251168",
   "metadata": {
    "papermill": {
     "duration": 0.016807,
     "end_time": "2021-08-08T11:00:11.536360",
     "exception": false,
     "start_time": "2021-08-08T11:00:11.519553",
     "status": "completed"
    },
    "tags": []
   },
   "source": [
    "# 0b."
   ]
  },
  {
   "cell_type": "code",
   "execution_count": 3,
   "id": "ddafd6ab",
   "metadata": {
    "execution": {
     "iopub.execute_input": "2021-08-08T11:00:11.576243Z",
     "iopub.status.busy": "2021-08-08T11:00:11.573639Z",
     "iopub.status.idle": "2021-08-08T11:00:11.582082Z",
     "shell.execute_reply": "2021-08-08T11:00:11.581554Z",
     "shell.execute_reply.started": "2021-08-08T10:44:25.704068Z"
    },
    "papermill": {
     "duration": 0.028548,
     "end_time": "2021-08-08T11:00:11.582213",
     "exception": false,
     "start_time": "2021-08-08T11:00:11.553665",
     "status": "completed"
    },
    "tags": []
   },
   "outputs": [
    {
     "data": {
      "application/javascript": [
       "parent.postMessage({\"jupyterEvent\": \"custom.exercise_interaction\", \"data\": {\"outcomeType\": 1, \"valueTowardsCompletion\": 0.3333333333333333, \"interactionType\": 1, \"questionType\": 1, \"questionId\": \"0.2_ZB\", \"learnToolsVersion\": \"0.3.4\", \"failureMessage\": \"\", \"exceptionClass\": \"\", \"trace\": \"\"}}, \"*\")"
      ],
      "text/plain": [
       "<IPython.core.display.Javascript object>"
      ]
     },
     "metadata": {},
     "output_type": "display_data"
    },
    {
     "data": {
      "text/markdown": [
       "<span style=\"color:#33cc33\">Correct:</span> \n",
       "\n",
       "Keep in mind Python includes spaces (and punctuation) when counting string length."
      ],
      "text/plain": [
       "Correct: \n",
       "\n",
       "Keep in mind Python includes spaces (and punctuation) when counting string length."
      ]
     },
     "metadata": {},
     "output_type": "display_data"
    }
   ],
   "source": [
    "b = \"it's ok\"\n",
    "length = 7\n",
    "q0.b.check()"
   ]
  },
  {
   "cell_type": "markdown",
   "id": "f8060b7d",
   "metadata": {
    "papermill": {
     "duration": 0.017895,
     "end_time": "2021-08-08T11:00:11.618629",
     "exception": false,
     "start_time": "2021-08-08T11:00:11.600734",
     "status": "completed"
    },
    "tags": []
   },
   "source": [
    "# 0c."
   ]
  },
  {
   "cell_type": "code",
   "execution_count": 4,
   "id": "18ff1a14",
   "metadata": {
    "execution": {
     "iopub.execute_input": "2021-08-08T11:00:11.660534Z",
     "iopub.status.busy": "2021-08-08T11:00:11.659811Z",
     "iopub.status.idle": "2021-08-08T11:00:11.665136Z",
     "shell.execute_reply": "2021-08-08T11:00:11.664626Z",
     "shell.execute_reply.started": "2021-08-08T10:44:38.808373Z"
    },
    "papermill": {
     "duration": 0.028499,
     "end_time": "2021-08-08T11:00:11.665264",
     "exception": false,
     "start_time": "2021-08-08T11:00:11.636765",
     "status": "completed"
    },
    "tags": []
   },
   "outputs": [
    {
     "data": {
      "application/javascript": [
       "parent.postMessage({\"jupyterEvent\": \"custom.exercise_interaction\", \"data\": {\"outcomeType\": 1, \"valueTowardsCompletion\": 0.3333333333333333, \"interactionType\": 1, \"questionType\": 1, \"questionId\": \"0.3_ZC\", \"learnToolsVersion\": \"0.3.4\", \"failureMessage\": \"\", \"exceptionClass\": \"\", \"trace\": \"\"}}, \"*\")"
      ],
      "text/plain": [
       "<IPython.core.display.Javascript object>"
      ]
     },
     "metadata": {},
     "output_type": "display_data"
    },
    {
     "data": {
      "text/markdown": [
       "<span style=\"color:#33cc33\">Correct:</span> \n",
       "\n",
       "Even though we use different syntax to create it, the string `c` is identical to `b`. In particular, note that the backslash is not part of the string, so it doesn't contribute to its length."
      ],
      "text/plain": [
       "Correct: \n",
       "\n",
       "Even though we use different syntax to create it, the string `c` is identical to `b`. In particular, note that the backslash is not part of the string, so it doesn't contribute to its length."
      ]
     },
     "metadata": {},
     "output_type": "display_data"
    }
   ],
   "source": [
    "c = 'it\\'s ok'\n",
    "length = 7\n",
    "q0.c.check()"
   ]
  },
  {
   "cell_type": "markdown",
   "id": "477a081f",
   "metadata": {
    "papermill": {
     "duration": 0.018925,
     "end_time": "2021-08-08T11:00:11.703696",
     "exception": false,
     "start_time": "2021-08-08T11:00:11.684771",
     "status": "completed"
    },
    "tags": []
   },
   "source": [
    "# 0d."
   ]
  },
  {
   "cell_type": "code",
   "execution_count": 5,
   "id": "1e818369",
   "metadata": {
    "execution": {
     "iopub.execute_input": "2021-08-08T11:00:11.753213Z",
     "iopub.status.busy": "2021-08-08T11:00:11.751039Z",
     "iopub.status.idle": "2021-08-08T11:00:11.761438Z",
     "shell.execute_reply": "2021-08-08T11:00:11.760739Z",
     "shell.execute_reply.started": "2021-08-08T10:45:09.368203Z"
    },
    "papermill": {
     "duration": 0.038829,
     "end_time": "2021-08-08T11:00:11.761635",
     "exception": false,
     "start_time": "2021-08-08T11:00:11.722806",
     "status": "completed"
    },
    "tags": []
   },
   "outputs": [
    {
     "data": {
      "application/javascript": [
       "parent.postMessage({\"jupyterEvent\": \"custom.exercise_interaction\", \"data\": {\"outcomeType\": 1, \"valueTowardsCompletion\": 0.3333333333333333, \"interactionType\": 1, \"questionType\": 1, \"questionId\": \"0.4_ZD\", \"learnToolsVersion\": \"0.3.4\", \"failureMessage\": \"\", \"exceptionClass\": \"\", \"trace\": \"\"}}, \"*\")"
      ],
      "text/plain": [
       "<IPython.core.display.Javascript object>"
      ]
     },
     "metadata": {},
     "output_type": "display_data"
    },
    {
     "data": {
      "text/markdown": [
       "<span style=\"color:#33cc33\">Correct:</span> \n",
       "\n",
       "The fact that this string was created using triple-quote syntax doesn't make any difference in terms of its content or length. This string is exactly the same as `'hey'`."
      ],
      "text/plain": [
       "Correct: \n",
       "\n",
       "The fact that this string was created using triple-quote syntax doesn't make any difference in terms of its content or length. This string is exactly the same as `'hey'`."
      ]
     },
     "metadata": {},
     "output_type": "display_data"
    }
   ],
   "source": [
    "d = \"\"\"hey\"\"\"\n",
    "length = 3\n",
    "q0.d.check()"
   ]
  },
  {
   "cell_type": "markdown",
   "id": "f3ae3e72",
   "metadata": {
    "papermill": {
     "duration": 0.026918,
     "end_time": "2021-08-08T11:00:11.811168",
     "exception": false,
     "start_time": "2021-08-08T11:00:11.784250",
     "status": "completed"
    },
    "tags": []
   },
   "source": [
    "# 0e."
   ]
  },
  {
   "cell_type": "code",
   "execution_count": 6,
   "id": "b3712947",
   "metadata": {
    "execution": {
     "iopub.execute_input": "2021-08-08T11:00:11.863247Z",
     "iopub.status.busy": "2021-08-08T11:00:11.862272Z",
     "iopub.status.idle": "2021-08-08T11:00:11.867716Z",
     "shell.execute_reply": "2021-08-08T11:00:11.868239Z",
     "shell.execute_reply.started": "2021-08-08T10:45:27.153003Z"
    },
    "papermill": {
     "duration": 0.034585,
     "end_time": "2021-08-08T11:00:11.868410",
     "exception": false,
     "start_time": "2021-08-08T11:00:11.833825",
     "status": "completed"
    },
    "tags": []
   },
   "outputs": [
    {
     "data": {
      "application/javascript": [
       "parent.postMessage({\"jupyterEvent\": \"custom.exercise_interaction\", \"data\": {\"outcomeType\": 1, \"valueTowardsCompletion\": 0.3333333333333333, \"interactionType\": 1, \"questionType\": 1, \"questionId\": \"0.5_ZE\", \"learnToolsVersion\": \"0.3.4\", \"failureMessage\": \"\", \"exceptionClass\": \"\", \"trace\": \"\"}}, \"*\")"
      ],
      "text/plain": [
       "<IPython.core.display.Javascript object>"
      ]
     },
     "metadata": {},
     "output_type": "display_data"
    },
    {
     "data": {
      "text/markdown": [
       "<span style=\"color:#33cc33\">Correct:</span> \n",
       "\n",
       "The newline character is just a single character! (Even though we represent it to Python using a combination of two characters.)"
      ],
      "text/plain": [
       "Correct: \n",
       "\n",
       "The newline character is just a single character! (Even though we represent it to Python using a combination of two characters.)"
      ]
     },
     "metadata": {},
     "output_type": "display_data"
    }
   ],
   "source": [
    "e = '\\n'\n",
    "length = 1\n",
    "q0.e.check()"
   ]
  },
  {
   "cell_type": "markdown",
   "id": "83b5990e",
   "metadata": {
    "papermill": {
     "duration": 0.021494,
     "end_time": "2021-08-08T11:00:11.912291",
     "exception": false,
     "start_time": "2021-08-08T11:00:11.890797",
     "status": "completed"
    },
    "tags": []
   },
   "source": [
    "# 1.\n",
    "\n",
    "There is a saying that \"Data scientists spend 80% of their time cleaning data, and 20% of their time complaining about cleaning data.\" Let's see if you can write a function to help clean US zip code data. Given a string, it should return whether or not that string represents a valid zip code. For our purposes, a valid zip code is any string consisting of exactly 5 digits.\n",
    "\n",
    "HINT: `str` has a method that will be useful here. Use `help(str)` to review a list of string methods."
   ]
  },
  {
   "cell_type": "code",
   "execution_count": 7,
   "id": "f866ac58",
   "metadata": {
    "execution": {
     "iopub.execute_input": "2021-08-08T11:00:11.959801Z",
     "iopub.status.busy": "2021-08-08T11:00:11.958783Z",
     "iopub.status.idle": "2021-08-08T11:00:11.968044Z",
     "shell.execute_reply": "2021-08-08T11:00:11.968598Z",
     "shell.execute_reply.started": "2021-08-08T10:48:52.554184Z"
    },
    "papermill": {
     "duration": 0.034801,
     "end_time": "2021-08-08T11:00:11.968772",
     "exception": false,
     "start_time": "2021-08-08T11:00:11.933971",
     "status": "completed"
    },
    "tags": []
   },
   "outputs": [
    {
     "data": {
      "application/javascript": [
       "parent.postMessage({\"jupyterEvent\": \"custom.exercise_interaction\", \"data\": {\"outcomeType\": 1, \"valueTowardsCompletion\": 0.3333333333333333, \"interactionType\": 1, \"questionType\": 2, \"questionId\": \"1_ZipValidator\", \"learnToolsVersion\": \"0.3.4\", \"failureMessage\": \"\", \"exceptionClass\": \"\", \"trace\": \"\"}}, \"*\")"
      ],
      "text/plain": [
       "<IPython.core.display.Javascript object>"
      ]
     },
     "metadata": {},
     "output_type": "display_data"
    },
    {
     "data": {
      "text/markdown": [
       "<span style=\"color:#33cc33\">Correct</span>"
      ],
      "text/plain": [
       "Correct"
      ]
     },
     "metadata": {},
     "output_type": "display_data"
    }
   ],
   "source": [
    "def is_valid_zip(zip_code):\n",
    "    \"\"\"Returns whether the input string is a valid (5 digit) zip code\n",
    "    \"\"\"\n",
    "    if (len(zip_code) == 5 and zip_code.isdigit() == True):\n",
    "        return True\n",
    "    else:\n",
    "        return False\n",
    "\n",
    "# Check your answer\n",
    "q1.check()"
   ]
  },
  {
   "cell_type": "code",
   "execution_count": 8,
   "id": "394714ed",
   "metadata": {
    "execution": {
     "iopub.execute_input": "2021-08-08T11:00:12.017618Z",
     "iopub.status.busy": "2021-08-08T11:00:12.016614Z",
     "iopub.status.idle": "2021-08-08T11:00:12.024081Z",
     "shell.execute_reply": "2021-08-08T11:00:12.024664Z",
     "shell.execute_reply.started": "2021-08-08T10:48:43.222490Z"
    },
    "papermill": {
     "duration": 0.033742,
     "end_time": "2021-08-08T11:00:12.024826",
     "exception": false,
     "start_time": "2021-08-08T11:00:11.991084",
     "status": "completed"
    },
    "tags": []
   },
   "outputs": [
    {
     "data": {
      "application/javascript": [
       "parent.postMessage({\"jupyterEvent\": \"custom.exercise_interaction\", \"data\": {\"interactionType\": 2, \"questionType\": 2, \"questionId\": \"1_ZipValidator\", \"learnToolsVersion\": \"0.3.4\", \"valueTowardsCompletion\": 0.0, \"failureMessage\": \"\", \"exceptionClass\": \"\", \"trace\": \"\", \"outcomeType\": 4}}, \"*\")"
      ],
      "text/plain": [
       "<IPython.core.display.Javascript object>"
      ]
     },
     "metadata": {},
     "output_type": "display_data"
    },
    {
     "data": {
      "text/markdown": [
       "<span style=\"color:#3366cc\">Hint:</span> Try looking up `help(str.isdigit)`"
      ],
      "text/plain": [
       "Hint: Try looking up `help(str.isdigit)`"
      ]
     },
     "metadata": {},
     "output_type": "display_data"
    }
   ],
   "source": [
    "q1.hint()\n",
    "#q1.solution()"
   ]
  },
  {
   "cell_type": "markdown",
   "id": "de60a726",
   "metadata": {
    "papermill": {
     "duration": 0.023155,
     "end_time": "2021-08-08T11:00:12.071282",
     "exception": false,
     "start_time": "2021-08-08T11:00:12.048127",
     "status": "completed"
    },
    "tags": []
   },
   "source": [
    "# 2.\n",
    "\n",
    "A researcher has gathered thousands of news articles. But she wants to focus her attention on articles including a specific word. Complete the function below to help her filter her list of articles.\n",
    "\n",
    "Your function should meet the following criteria:\n",
    "\n",
    "- Do not include documents where the keyword string shows up only as a part of a larger word. For example, if she were looking for the keyword “closed”, you would not include the string “enclosed.” \n",
    "- She does not want you to distinguish upper case from lower case letters. So the phrase “Closed the case.” would be included when the keyword is “closed”\n",
    "- Do not let periods or commas affect what is matched. “It is closed.” would be included when the keyword is “closed”. But you can assume there are no other types of punctuation."
   ]
  },
  {
   "cell_type": "code",
   "execution_count": 9,
   "id": "dafce935",
   "metadata": {
    "execution": {
     "iopub.execute_input": "2021-08-08T11:00:12.122779Z",
     "iopub.status.busy": "2021-08-08T11:00:12.121831Z",
     "iopub.status.idle": "2021-08-08T11:00:12.131407Z",
     "shell.execute_reply": "2021-08-08T11:00:12.131890Z",
     "shell.execute_reply.started": "2021-08-08T10:56:19.429477Z"
    },
    "papermill": {
     "duration": 0.036799,
     "end_time": "2021-08-08T11:00:12.132047",
     "exception": false,
     "start_time": "2021-08-08T11:00:12.095248",
     "status": "completed"
    },
    "tags": []
   },
   "outputs": [
    {
     "data": {
      "application/javascript": [
       "parent.postMessage({\"jupyterEvent\": \"custom.exercise_interaction\", \"data\": {\"outcomeType\": 1, \"valueTowardsCompletion\": 0.3333333333333333, \"interactionType\": 1, \"questionType\": 2, \"questionId\": \"2_WordSearch\", \"learnToolsVersion\": \"0.3.4\", \"failureMessage\": \"\", \"exceptionClass\": \"\", \"trace\": \"\"}}, \"*\")"
      ],
      "text/plain": [
       "<IPython.core.display.Javascript object>"
      ]
     },
     "metadata": {},
     "output_type": "display_data"
    },
    {
     "data": {
      "text/markdown": [
       "<span style=\"color:#33cc33\">Correct</span>"
      ],
      "text/plain": [
       "Correct"
      ]
     },
     "metadata": {},
     "output_type": "display_data"
    }
   ],
   "source": [
    "def word_search(doc_list, keyword):\n",
    "    \"\"\"\n",
    "    Takes a list of documents (each document is a string) and a keyword. \n",
    "    Returns list of the index values into the original list for all documents \n",
    "    containing the keyword.\n",
    "\n",
    "    Example:\n",
    "    doc_list = [\"The Learn Python Challenge Casino.\", \"They bought a car\", \"Casinoville\"]\n",
    "    >>> word_search(doc_list, 'casino')\n",
    "    >>> [0]\n",
    "    \"\"\"\n",
    "    l = []\n",
    "    for i, j in enumerate(doc_list):\n",
    "        word = j.split()\n",
    "        new = [w.rstrip('.,').lower() for w in word]\n",
    "        if keyword.lower() in new:\n",
    "            l.append(i)\n",
    "    return l\n",
    "# Check your answer\n",
    "q2.check()"
   ]
  },
  {
   "cell_type": "code",
   "execution_count": 10,
   "id": "a43db02d",
   "metadata": {
    "execution": {
     "iopub.execute_input": "2021-08-08T11:00:12.185040Z",
     "iopub.status.busy": "2021-08-08T11:00:12.184098Z",
     "iopub.status.idle": "2021-08-08T11:00:12.196584Z",
     "shell.execute_reply": "2021-08-08T11:00:12.195884Z",
     "shell.execute_reply.started": "2021-08-08T10:52:20.011934Z"
    },
    "papermill": {
     "duration": 0.039694,
     "end_time": "2021-08-08T11:00:12.196730",
     "exception": false,
     "start_time": "2021-08-08T11:00:12.157036",
     "status": "completed"
    },
    "tags": []
   },
   "outputs": [
    {
     "data": {
      "application/javascript": [
       "parent.postMessage({\"jupyterEvent\": \"custom.exercise_interaction\", \"data\": {\"interactionType\": 2, \"questionType\": 2, \"questionId\": \"2_WordSearch\", \"learnToolsVersion\": \"0.3.4\", \"valueTowardsCompletion\": 0.0, \"failureMessage\": \"\", \"exceptionClass\": \"\", \"trace\": \"\", \"outcomeType\": 4}}, \"*\")"
      ],
      "text/plain": [
       "<IPython.core.display.Javascript object>"
      ]
     },
     "metadata": {},
     "output_type": "display_data"
    },
    {
     "data": {
      "text/markdown": [
       "<span style=\"color:#3366cc\">Hint:</span> Some methods that may be useful here: `str.split()`, `str.strip()`, `str.lower()`."
      ],
      "text/plain": [
       "Hint: Some methods that may be useful here: `str.split()`, `str.strip()`, `str.lower()`."
      ]
     },
     "metadata": {},
     "output_type": "display_data"
    },
    {
     "data": {
      "application/javascript": [
       "parent.postMessage({\"jupyterEvent\": \"custom.exercise_interaction\", \"data\": {\"interactionType\": 3, \"questionType\": 2, \"questionId\": \"2_WordSearch\", \"learnToolsVersion\": \"0.3.4\", \"valueTowardsCompletion\": 0.0, \"failureMessage\": \"\", \"exceptionClass\": \"\", \"trace\": \"\", \"outcomeType\": 4}}, \"*\")"
      ],
      "text/plain": [
       "<IPython.core.display.Javascript object>"
      ]
     },
     "metadata": {},
     "output_type": "display_data"
    },
    {
     "data": {
      "text/markdown": [
       "<span style=\"color:#33cc99\">Solution:</span> \n",
       "```python\n",
       "def word_search(documents, keyword):\n",
       "    # list to hold the indices of matching documents\n",
       "    indices = [] \n",
       "    # Iterate through the indices (i) and elements (doc) of documents\n",
       "    for i, doc in enumerate(documents):\n",
       "        # Split the string doc into a list of words (according to whitespace)\n",
       "        tokens = doc.split()\n",
       "        # Make a transformed list where we 'normalize' each word to facilitate matching.\n",
       "        # Periods and commas are removed from the end of each word, and it's set to all lowercase.\n",
       "        normalized = [token.rstrip('.,').lower() for token in tokens]\n",
       "        # Is there a match? If so, update the list of matching indices.\n",
       "        if keyword.lower() in normalized:\n",
       "            indices.append(i)\n",
       "    return indices\n",
       "```"
      ],
      "text/plain": [
       "Solution: \n",
       "```python\n",
       "def word_search(documents, keyword):\n",
       "    # list to hold the indices of matching documents\n",
       "    indices = [] \n",
       "    # Iterate through the indices (i) and elements (doc) of documents\n",
       "    for i, doc in enumerate(documents):\n",
       "        # Split the string doc into a list of words (according to whitespace)\n",
       "        tokens = doc.split()\n",
       "        # Make a transformed list where we 'normalize' each word to facilitate matching.\n",
       "        # Periods and commas are removed from the end of each word, and it's set to all lowercase.\n",
       "        normalized = [token.rstrip('.,').lower() for token in tokens]\n",
       "        # Is there a match? If so, update the list of matching indices.\n",
       "        if keyword.lower() in normalized:\n",
       "            indices.append(i)\n",
       "    return indices\n",
       "```"
      ]
     },
     "metadata": {},
     "output_type": "display_data"
    }
   ],
   "source": [
    "q2.hint()\n",
    "q2.solution()"
   ]
  },
  {
   "cell_type": "markdown",
   "id": "e00ad014",
   "metadata": {
    "papermill": {
     "duration": 0.025719,
     "end_time": "2021-08-08T11:00:12.248657",
     "exception": false,
     "start_time": "2021-08-08T11:00:12.222938",
     "status": "completed"
    },
    "tags": []
   },
   "source": [
    "# 3.\n",
    "\n",
    "Now the researcher wants to supply multiple keywords to search for. Complete the function below to help her.\n",
    "\n",
    "(You're encouraged to use the `word_search` function you just wrote when implementing this function. Reusing code in this way makes your programs more robust and readable - and it saves typing!)"
   ]
  },
  {
   "cell_type": "code",
   "execution_count": 11,
   "id": "7bef4377",
   "metadata": {
    "execution": {
     "iopub.execute_input": "2021-08-08T11:00:12.307596Z",
     "iopub.status.busy": "2021-08-08T11:00:12.306899Z",
     "iopub.status.idle": "2021-08-08T11:00:12.310825Z",
     "shell.execute_reply": "2021-08-08T11:00:12.311291Z",
     "shell.execute_reply.started": "2021-08-08T10:59:47.852617Z"
    },
    "papermill": {
     "duration": 0.036766,
     "end_time": "2021-08-08T11:00:12.311490",
     "exception": false,
     "start_time": "2021-08-08T11:00:12.274724",
     "status": "completed"
    },
    "tags": []
   },
   "outputs": [
    {
     "data": {
      "application/javascript": [
       "parent.postMessage({\"jupyterEvent\": \"custom.exercise_interaction\", \"data\": {\"outcomeType\": 1, \"valueTowardsCompletion\": 0.3333333333333333, \"interactionType\": 1, \"questionType\": 2, \"questionId\": \"3_MultiWordSearch\", \"learnToolsVersion\": \"0.3.4\", \"failureMessage\": \"\", \"exceptionClass\": \"\", \"trace\": \"\"}}, \"*\")"
      ],
      "text/plain": [
       "<IPython.core.display.Javascript object>"
      ]
     },
     "metadata": {},
     "output_type": "display_data"
    },
    {
     "data": {
      "text/markdown": [
       "<span style=\"color:#33cc33\">Correct</span>"
      ],
      "text/plain": [
       "Correct"
      ]
     },
     "metadata": {},
     "output_type": "display_data"
    }
   ],
   "source": [
    "def multi_word_search(doc_list, keywords):\n",
    "    \"\"\"\n",
    "    Takes list of documents (each document is a string) and a list of keywords.  \n",
    "    Returns a dictionary where each key is a keyword, and the value is a list of indices\n",
    "    (from doc_list) of the documents containing that keyword\n",
    "\n",
    "    >>> doc_list = [\"The Learn Python Challenge Casino.\", \"They bought a car and a casino\", \"Casinoville\"]\n",
    "    >>> keywords = ['casino', 'they']\n",
    "    >>> multi_word_search(doc_list, keywords)\n",
    "    {'casino': [0, 1], 'they': [1]}\n",
    "    \"\"\"\n",
    "    word_dict = {}\n",
    "    for i in keywords:\n",
    "        word_dict[i] = word_search(doc_list, i)\n",
    "    return word_dict\n",
    "\n",
    "# Check your answer\n",
    "q3.check()"
   ]
  },
  {
   "cell_type": "code",
   "execution_count": 12,
   "id": "a74dbd0b",
   "metadata": {
    "execution": {
     "iopub.execute_input": "2021-08-08T11:00:12.371505Z",
     "iopub.status.busy": "2021-08-08T11:00:12.370818Z",
     "iopub.status.idle": "2021-08-08T11:00:12.377352Z",
     "shell.execute_reply": "2021-08-08T11:00:12.376856Z",
     "shell.execute_reply.started": "2021-08-08T10:57:31.352792Z"
    },
    "papermill": {
     "duration": 0.038653,
     "end_time": "2021-08-08T11:00:12.377491",
     "exception": false,
     "start_time": "2021-08-08T11:00:12.338838",
     "status": "completed"
    },
    "tags": []
   },
   "outputs": [
    {
     "data": {
      "application/javascript": [
       "parent.postMessage({\"jupyterEvent\": \"custom.exercise_interaction\", \"data\": {\"interactionType\": 3, \"questionType\": 2, \"questionId\": \"3_MultiWordSearch\", \"learnToolsVersion\": \"0.3.4\", \"valueTowardsCompletion\": 0.0, \"failureMessage\": \"\", \"exceptionClass\": \"\", \"trace\": \"\", \"outcomeType\": 4}}, \"*\")"
      ],
      "text/plain": [
       "<IPython.core.display.Javascript object>"
      ]
     },
     "metadata": {},
     "output_type": "display_data"
    },
    {
     "data": {
      "text/markdown": [
       "<span style=\"color:#33cc99\">Solution:</span> \n",
       "```python\n",
       "def multi_word_search(documents, keywords):\n",
       "    keyword_to_indices = {}\n",
       "    for keyword in keywords:\n",
       "        keyword_to_indices[keyword] = word_search(documents, keyword)\n",
       "    return keyword_to_indices\n",
       "```"
      ],
      "text/plain": [
       "Solution: \n",
       "```python\n",
       "def multi_word_search(documents, keywords):\n",
       "    keyword_to_indices = {}\n",
       "    for keyword in keywords:\n",
       "        keyword_to_indices[keyword] = word_search(documents, keyword)\n",
       "    return keyword_to_indices\n",
       "```"
      ]
     },
     "metadata": {},
     "output_type": "display_data"
    }
   ],
   "source": [
    "q3.solution()"
   ]
  },
  {
   "cell_type": "markdown",
   "id": "1eac7b4b",
   "metadata": {
    "papermill": {
     "duration": 0.029459,
     "end_time": "2021-08-08T11:00:12.435237",
     "exception": false,
     "start_time": "2021-08-08T11:00:12.405778",
     "status": "completed"
    },
    "tags": []
   },
   "source": [
    "# Keep Going\n",
    "\n",
    "You've learned a lot. But even the best programmers rely heavily on \"libraries\" of code from other programmers. You'll learn about that in **[the last lesson](https://www.kaggle.com/colinmorris/working-with-external-libraries)**.\n"
   ]
  },
  {
   "cell_type": "markdown",
   "id": "e0d7fdef",
   "metadata": {
    "papermill": {
     "duration": 0.027578,
     "end_time": "2021-08-08T11:00:12.491191",
     "exception": false,
     "start_time": "2021-08-08T11:00:12.463613",
     "status": "completed"
    },
    "tags": []
   },
   "source": [
    "---\n",
    "\n",
    "\n",
    "\n",
    "\n",
    "*Have questions or comments? Visit the [Learn Discussion forum](https://www.kaggle.com/learn-forum/161283) to chat with other Learners.*"
   ]
  }
 ],
 "metadata": {
  "kernelspec": {
   "display_name": "Python 3",
   "language": "python",
   "name": "python3"
  },
  "language_info": {
   "codemirror_mode": {
    "name": "ipython",
    "version": 3
   },
   "file_extension": ".py",
   "mimetype": "text/x-python",
   "name": "python",
   "nbconvert_exporter": "python",
   "pygments_lexer": "ipython3",
   "version": "3.9.1"
  },
  "papermill": {
   "default_parameters": {},
   "duration": 10.825388,
   "end_time": "2021-08-08T11:00:13.875807",
   "environment_variables": {},
   "exception": null,
   "input_path": "__notebook__.ipynb",
   "output_path": "__notebook__.ipynb",
   "parameters": {},
   "start_time": "2021-08-08T11:00:03.050419",
   "version": "2.3.3"
  }
 },
 "nbformat": 4,
 "nbformat_minor": 5
}
